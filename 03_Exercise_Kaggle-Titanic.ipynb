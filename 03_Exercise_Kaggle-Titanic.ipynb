{
 "cells": [
  {
   "cell_type": "markdown",
   "metadata": {},
   "source": [
    "# Load Data"
   ]
  },
  {
   "cell_type": "code",
   "execution_count": 355,
   "metadata": {
    "collapsed": true
   },
   "outputs": [],
   "source": [
    "# define data load function from csv files with pandas\n",
    "import pandas as pd\n",
    "\n",
    "PATH = \"datasets/titanic/\"\n",
    "FILE_GENDER_SUBMISSION = PATH + \"gender_submission.csv\"\n",
    "FILE_TEST = PATH + \"test.csv\"\n",
    "FILE_TRAIN = PATH + \"train.csv\"\n",
    "\n",
    "def load_data():\n",
    "    return pd.read_csv(FILE_TRAIN), pd.read_csv(FILE_TEST), pd.read_csv(FILE_GENDER_SUBMISSION)"
   ]
  },
  {
   "cell_type": "code",
   "execution_count": 356,
   "metadata": {
    "collapsed": true
   },
   "outputs": [],
   "source": [
    "# get data from file\n",
    "data_train, data_test, data_gender_submission = load_data()\n",
    "ori_data_train, ori_data_test = data_train.copy(), data_test.copy()"
   ]
  },
  {
   "cell_type": "markdown",
   "metadata": {},
   "source": [
    "# View Data"
   ]
  },
  {
   "cell_type": "code",
   "execution_count": 357,
   "metadata": {},
   "outputs": [
    {
     "data": {
      "text/html": [
       "<div>\n",
       "<style>\n",
       "    .dataframe thead tr:only-child th {\n",
       "        text-align: right;\n",
       "    }\n",
       "\n",
       "    .dataframe thead th {\n",
       "        text-align: left;\n",
       "    }\n",
       "\n",
       "    .dataframe tbody tr th {\n",
       "        vertical-align: top;\n",
       "    }\n",
       "</style>\n",
       "<table border=\"1\" class=\"dataframe\">\n",
       "  <thead>\n",
       "    <tr style=\"text-align: right;\">\n",
       "      <th></th>\n",
       "      <th>PassengerId</th>\n",
       "      <th>Survived</th>\n",
       "      <th>Pclass</th>\n",
       "      <th>Name</th>\n",
       "      <th>Sex</th>\n",
       "      <th>Age</th>\n",
       "      <th>SibSp</th>\n",
       "      <th>Parch</th>\n",
       "      <th>Ticket</th>\n",
       "      <th>Fare</th>\n",
       "      <th>Cabin</th>\n",
       "      <th>Embarked</th>\n",
       "    </tr>\n",
       "  </thead>\n",
       "  <tbody>\n",
       "    <tr>\n",
       "      <th>0</th>\n",
       "      <td>1</td>\n",
       "      <td>0</td>\n",
       "      <td>3</td>\n",
       "      <td>Braund, Mr. Owen Harris</td>\n",
       "      <td>male</td>\n",
       "      <td>22.0</td>\n",
       "      <td>1</td>\n",
       "      <td>0</td>\n",
       "      <td>A/5 21171</td>\n",
       "      <td>7.2500</td>\n",
       "      <td>NaN</td>\n",
       "      <td>S</td>\n",
       "    </tr>\n",
       "    <tr>\n",
       "      <th>1</th>\n",
       "      <td>2</td>\n",
       "      <td>1</td>\n",
       "      <td>1</td>\n",
       "      <td>Cumings, Mrs. John Bradley (Florence Briggs Th...</td>\n",
       "      <td>female</td>\n",
       "      <td>38.0</td>\n",
       "      <td>1</td>\n",
       "      <td>0</td>\n",
       "      <td>PC 17599</td>\n",
       "      <td>71.2833</td>\n",
       "      <td>C85</td>\n",
       "      <td>C</td>\n",
       "    </tr>\n",
       "    <tr>\n",
       "      <th>2</th>\n",
       "      <td>3</td>\n",
       "      <td>1</td>\n",
       "      <td>3</td>\n",
       "      <td>Heikkinen, Miss. Laina</td>\n",
       "      <td>female</td>\n",
       "      <td>26.0</td>\n",
       "      <td>0</td>\n",
       "      <td>0</td>\n",
       "      <td>STON/O2. 3101282</td>\n",
       "      <td>7.9250</td>\n",
       "      <td>NaN</td>\n",
       "      <td>S</td>\n",
       "    </tr>\n",
       "    <tr>\n",
       "      <th>3</th>\n",
       "      <td>4</td>\n",
       "      <td>1</td>\n",
       "      <td>1</td>\n",
       "      <td>Futrelle, Mrs. Jacques Heath (Lily May Peel)</td>\n",
       "      <td>female</td>\n",
       "      <td>35.0</td>\n",
       "      <td>1</td>\n",
       "      <td>0</td>\n",
       "      <td>113803</td>\n",
       "      <td>53.1000</td>\n",
       "      <td>C123</td>\n",
       "      <td>S</td>\n",
       "    </tr>\n",
       "    <tr>\n",
       "      <th>4</th>\n",
       "      <td>5</td>\n",
       "      <td>0</td>\n",
       "      <td>3</td>\n",
       "      <td>Allen, Mr. William Henry</td>\n",
       "      <td>male</td>\n",
       "      <td>35.0</td>\n",
       "      <td>0</td>\n",
       "      <td>0</td>\n",
       "      <td>373450</td>\n",
       "      <td>8.0500</td>\n",
       "      <td>NaN</td>\n",
       "      <td>S</td>\n",
       "    </tr>\n",
       "  </tbody>\n",
       "</table>\n",
       "</div>"
      ],
      "text/plain": [
       "   PassengerId  Survived  Pclass  \\\n",
       "0            1         0       3   \n",
       "1            2         1       1   \n",
       "2            3         1       3   \n",
       "3            4         1       1   \n",
       "4            5         0       3   \n",
       "\n",
       "                                                Name     Sex   Age  SibSp  \\\n",
       "0                            Braund, Mr. Owen Harris    male  22.0      1   \n",
       "1  Cumings, Mrs. John Bradley (Florence Briggs Th...  female  38.0      1   \n",
       "2                             Heikkinen, Miss. Laina  female  26.0      0   \n",
       "3       Futrelle, Mrs. Jacques Heath (Lily May Peel)  female  35.0      1   \n",
       "4                           Allen, Mr. William Henry    male  35.0      0   \n",
       "\n",
       "   Parch            Ticket     Fare Cabin Embarked  \n",
       "0      0         A/5 21171   7.2500   NaN        S  \n",
       "1      0          PC 17599  71.2833   C85        C  \n",
       "2      0  STON/O2. 3101282   7.9250   NaN        S  \n",
       "3      0            113803  53.1000  C123        S  \n",
       "4      0            373450   8.0500   NaN        S  "
      ]
     },
     "execution_count": 357,
     "metadata": {},
     "output_type": "execute_result"
    }
   ],
   "source": [
    "data_train.head()"
   ]
  },
  {
   "cell_type": "code",
   "execution_count": 358,
   "metadata": {},
   "outputs": [
    {
     "name": "stdout",
     "output_type": "stream",
     "text": [
      "<class 'pandas.core.frame.DataFrame'>\n",
      "RangeIndex: 891 entries, 0 to 890\n",
      "Data columns (total 12 columns):\n",
      "PassengerId    891 non-null int64\n",
      "Survived       891 non-null int64\n",
      "Pclass         891 non-null int64\n",
      "Name           891 non-null object\n",
      "Sex            891 non-null object\n",
      "Age            714 non-null float64\n",
      "SibSp          891 non-null int64\n",
      "Parch          891 non-null int64\n",
      "Ticket         891 non-null object\n",
      "Fare           891 non-null float64\n",
      "Cabin          204 non-null object\n",
      "Embarked       889 non-null object\n",
      "dtypes: float64(2), int64(5), object(5)\n",
      "memory usage: 83.6+ KB\n"
     ]
    }
   ],
   "source": [
    "data_train.info()"
   ]
  },
  {
   "cell_type": "code",
   "execution_count": 359,
   "metadata": {},
   "outputs": [
    {
     "data": {
      "text/plain": [
       "S    644\n",
       "C    168\n",
       "Q     77\n",
       "Name: Embarked, dtype: int64"
      ]
     },
     "execution_count": 359,
     "metadata": {},
     "output_type": "execute_result"
    }
   ],
   "source": [
    "data_train[\"Embarked\"].value_counts()"
   ]
  },
  {
   "cell_type": "code",
   "execution_count": 360,
   "metadata": {},
   "outputs": [
    {
     "data": {
      "text/plain": [
       "CA. 2343              7\n",
       "347082                7\n",
       "1601                  7\n",
       "CA 2144               6\n",
       "3101295               6\n",
       "347088                6\n",
       "382652                5\n",
       "S.O.C. 14879          5\n",
       "347077                4\n",
       "PC 17757              4\n",
       "113760                4\n",
       "349909                4\n",
       "17421                 4\n",
       "4133                  4\n",
       "W./C. 6608            4\n",
       "113781                4\n",
       "19950                 4\n",
       "LINE                  4\n",
       "2666                  4\n",
       "13502                 3\n",
       "29106                 3\n",
       "F.C.C. 13529          3\n",
       "371110                3\n",
       "239853                3\n",
       "SC/Paris 2123         3\n",
       "345773                3\n",
       "PC 17582              3\n",
       "24160                 3\n",
       "110413                3\n",
       "PC 17572              3\n",
       "                     ..\n",
       "2223                  1\n",
       "113783                1\n",
       "347074                1\n",
       "211536                1\n",
       "233866                1\n",
       "4134                  1\n",
       "349228                1\n",
       "5727                  1\n",
       "4137                  1\n",
       "315089                1\n",
       "19972                 1\n",
       "350050                1\n",
       "113510                1\n",
       "349223                1\n",
       "8475                  1\n",
       "113794                1\n",
       "330979                1\n",
       "349254                1\n",
       "A/5. 851              1\n",
       "315096                1\n",
       "347073                1\n",
       "SOTON/O.Q. 3101305    1\n",
       "350404                1\n",
       "243880                1\n",
       "C.A. 33595            1\n",
       "349257                1\n",
       "244361                1\n",
       "330919                1\n",
       "F.C.C. 13528          1\n",
       "PC 17473              1\n",
       "Name: Ticket, Length: 681, dtype: int64"
      ]
     },
     "execution_count": 360,
     "metadata": {},
     "output_type": "execute_result"
    }
   ],
   "source": [
    "data_train[\"Ticket\"].value_counts()"
   ]
  },
  {
   "cell_type": "code",
   "execution_count": 361,
   "metadata": {},
   "outputs": [
    {
     "data": {
      "text/plain": [
       "B96 B98        4\n",
       "C23 C25 C27    4\n",
       "G6             4\n",
       "C22 C26        3\n",
       "F33            3\n",
       "D              3\n",
       "F2             3\n",
       "E101           3\n",
       "C123           2\n",
       "E25            2\n",
       "B35            2\n",
       "E44            2\n",
       "C78            2\n",
       "C2             2\n",
       "D36            2\n",
       "C124           2\n",
       "B51 B53 B55    2\n",
       "B22            2\n",
       "D20            2\n",
       "C65            2\n",
       "F4             2\n",
       "C126           2\n",
       "B18            2\n",
       "C125           2\n",
       "C92            2\n",
       "B49            2\n",
       "B28            2\n",
       "F G73          2\n",
       "D35            2\n",
       "E8             2\n",
       "              ..\n",
       "C110           1\n",
       "C7             1\n",
       "B69            1\n",
       "B4             1\n",
       "B86            1\n",
       "B41            1\n",
       "C87            1\n",
       "B3             1\n",
       "D10 D12        1\n",
       "A7             1\n",
       "F E69          1\n",
       "D9             1\n",
       "B79            1\n",
       "D49            1\n",
       "C99            1\n",
       "D30            1\n",
       "C106           1\n",
       "D6             1\n",
       "E58            1\n",
       "C46            1\n",
       "A6             1\n",
       "C32            1\n",
       "A34            1\n",
       "C47            1\n",
       "A32            1\n",
       "C103           1\n",
       "D37            1\n",
       "D45            1\n",
       "B50            1\n",
       "C49            1\n",
       "Name: Cabin, Length: 147, dtype: int64"
      ]
     },
     "execution_count": 361,
     "metadata": {},
     "output_type": "execute_result"
    }
   ],
   "source": [
    "data_train[\"Cabin\"].value_counts()"
   ]
  },
  {
   "cell_type": "code",
   "execution_count": 362,
   "metadata": {},
   "outputs": [
    {
     "data": {
      "text/plain": [
       "array([[<matplotlib.axes._subplots.AxesSubplot object at 0x7f21c3553668>,\n",
       "        <matplotlib.axes._subplots.AxesSubplot object at 0x7f21c3229e80>,\n",
       "        <matplotlib.axes._subplots.AxesSubplot object at 0x7f21c3197828>],\n",
       "       [<matplotlib.axes._subplots.AxesSubplot object at 0x7f21c31744a8>,\n",
       "        <matplotlib.axes._subplots.AxesSubplot object at 0x7f21c31195c0>,\n",
       "        <matplotlib.axes._subplots.AxesSubplot object at 0x7f21c31194e0>],\n",
       "       [<matplotlib.axes._subplots.AxesSubplot object at 0x7f21c305e128>,\n",
       "        <matplotlib.axes._subplots.AxesSubplot object at 0x7f21c2ffac18>,\n",
       "        <matplotlib.axes._subplots.AxesSubplot object at 0x7f21c2f8d518>]], dtype=object)"
      ]
     },
     "execution_count": 362,
     "metadata": {},
     "output_type": "execute_result"
    },
    {
     "data": {
      "image/png": "[encoded data removed]",
      "text/plain": [
       "<matplotlib.figure.Figure at 0x7f21d9f5bc18>"
      ]
     },
     "metadata": {},
     "output_type": "display_data"
    }
   ],
   "source": [
    "%matplotlib inline\n",
    "import matplotlib.pyplot as plt\n",
    "data_train.hist(figsize=(14,10))"
   ]
  },
  {
   "cell_type": "code",
   "execution_count": 363,
   "metadata": {},
   "outputs": [
    {
     "data": {
      "text/html": [
       "<div>\n",
       "<style>\n",
       "    .dataframe thead tr:only-child th {\n",
       "        text-align: right;\n",
       "    }\n",
       "\n",
       "    .dataframe thead th {\n",
       "        text-align: left;\n",
       "    }\n",
       "\n",
       "    .dataframe tbody tr th {\n",
       "        vertical-align: top;\n",
       "    }\n",
       "</style>\n",
       "<table border=\"1\" class=\"dataframe\">\n",
       "  <thead>\n",
       "    <tr style=\"text-align: right;\">\n",
       "      <th></th>\n",
       "      <th>PassengerId</th>\n",
       "      <th>Pclass</th>\n",
       "      <th>Name</th>\n",
       "      <th>Sex</th>\n",
       "      <th>Age</th>\n",
       "      <th>SibSp</th>\n",
       "      <th>Parch</th>\n",
       "      <th>Ticket</th>\n",
       "      <th>Fare</th>\n",
       "      <th>Cabin</th>\n",
       "      <th>Embarked</th>\n",
       "    </tr>\n",
       "  </thead>\n",
       "  <tbody>\n",
       "    <tr>\n",
       "      <th>0</th>\n",
       "      <td>892</td>\n",
       "      <td>3</td>\n",
       "      <td>Kelly, Mr. James</td>\n",
       "      <td>male</td>\n",
       "      <td>34.5</td>\n",
       "      <td>0</td>\n",
       "      <td>0</td>\n",
       "      <td>330911</td>\n",
       "      <td>7.8292</td>\n",
       "      <td>NaN</td>\n",
       "      <td>Q</td>\n",
       "    </tr>\n",
       "    <tr>\n",
       "      <th>1</th>\n",
       "      <td>893</td>\n",
       "      <td>3</td>\n",
       "      <td>Wilkes, Mrs. James (Ellen Needs)</td>\n",
       "      <td>female</td>\n",
       "      <td>47.0</td>\n",
       "      <td>1</td>\n",
       "      <td>0</td>\n",
       "      <td>363272</td>\n",
       "      <td>7.0000</td>\n",
       "      <td>NaN</td>\n",
       "      <td>S</td>\n",
       "    </tr>\n",
       "    <tr>\n",
       "      <th>2</th>\n",
       "      <td>894</td>\n",
       "      <td>2</td>\n",
       "      <td>Myles, Mr. Thomas Francis</td>\n",
       "      <td>male</td>\n",
       "      <td>62.0</td>\n",
       "      <td>0</td>\n",
       "      <td>0</td>\n",
       "      <td>240276</td>\n",
       "      <td>9.6875</td>\n",
       "      <td>NaN</td>\n",
       "      <td>Q</td>\n",
       "    </tr>\n",
       "    <tr>\n",
       "      <th>3</th>\n",
       "      <td>895</td>\n",
       "      <td>3</td>\n",
       "      <td>Wirz, Mr. Albert</td>\n",
       "      <td>male</td>\n",
       "      <td>27.0</td>\n",
       "      <td>0</td>\n",
       "      <td>0</td>\n",
       "      <td>315154</td>\n",
       "      <td>8.6625</td>\n",
       "      <td>NaN</td>\n",
       "      <td>S</td>\n",
       "    </tr>\n",
       "    <tr>\n",
       "      <th>4</th>\n",
       "      <td>896</td>\n",
       "      <td>3</td>\n",
       "      <td>Hirvonen, Mrs. Alexander (Helga E Lindqvist)</td>\n",
       "      <td>female</td>\n",
       "      <td>22.0</td>\n",
       "      <td>1</td>\n",
       "      <td>1</td>\n",
       "      <td>3101298</td>\n",
       "      <td>12.2875</td>\n",
       "      <td>NaN</td>\n",
       "      <td>S</td>\n",
       "    </tr>\n",
       "  </tbody>\n",
       "</table>\n",
       "</div>"
      ],
      "text/plain": [
       "   PassengerId  Pclass                                          Name     Sex  \\\n",
       "0          892       3                              Kelly, Mr. James    male   \n",
       "1          893       3              Wilkes, Mrs. James (Ellen Needs)  female   \n",
       "2          894       2                     Myles, Mr. Thomas Francis    male   \n",
       "3          895       3                              Wirz, Mr. Albert    male   \n",
       "4          896       3  Hirvonen, Mrs. Alexander (Helga E Lindqvist)  female   \n",
       "\n",
       "    Age  SibSp  Parch   Ticket     Fare Cabin Embarked  \n",
       "0  34.5      0      0   330911   7.8292   NaN        Q  \n",
       "1  47.0      1      0   363272   7.0000   NaN        S  \n",
       "2  62.0      0      0   240276   9.6875   NaN        Q  \n",
       "3  27.0      0      0   315154   8.6625   NaN        S  \n",
       "4  22.0      1      1  3101298  12.2875   NaN        S  "
      ]
     },
     "execution_count": 363,
     "metadata": {},
     "output_type": "execute_result"
    }
   ],
   "source": [
    "data_test.head()"
   ]
  },
  {
   "cell_type": "code",
   "execution_count": 364,
   "metadata": {},
   "outputs": [
    {
     "name": "stdout",
     "output_type": "stream",
     "text": [
      "<class 'pandas.core.frame.DataFrame'>\n",
      "RangeIndex: 418 entries, 0 to 417\n",
      "Data columns (total 11 columns):\n",
      "PassengerId    418 non-null int64\n",
      "Pclass         418 non-null int64\n",
      "Name           418 non-null object\n",
      "Sex            418 non-null object\n",
      "Age            332 non-null float64\n",
      "SibSp          418 non-null int64\n",
      "Parch          418 non-null int64\n",
      "Ticket         418 non-null object\n",
      "Fare           417 non-null float64\n",
      "Cabin          91 non-null object\n",
      "Embarked       418 non-null object\n",
      "dtypes: float64(2), int64(4), object(5)\n",
      "memory usage: 36.0+ KB\n"
     ]
    }
   ],
   "source": [
    "data_test.info()"
   ]
  },
  {
   "cell_type": "code",
   "execution_count": 365,
   "metadata": {},
   "outputs": [
    {
     "data": {
      "text/plain": [
       "array([[<matplotlib.axes._subplots.AxesSubplot object at 0x7f21c2ea77f0>,\n",
       "        <matplotlib.axes._subplots.AxesSubplot object at 0x7f21c2c1ac18>],\n",
       "       [<matplotlib.axes._subplots.AxesSubplot object at 0x7f21c2d11f60>,\n",
       "        <matplotlib.axes._subplots.AxesSubplot object at 0x7f21c2b5ff98>],\n",
       "       [<matplotlib.axes._subplots.AxesSubplot object at 0x7f21c2ac7160>,\n",
       "        <matplotlib.axes._subplots.AxesSubplot object at 0x7f21c2ac7198>]], dtype=object)"
      ]
     },
     "execution_count": 365,
     "metadata": {},
     "output_type": "execute_result"
    },
    {
     "data": {
      "image/png": "[encoded data removed]",
      "text/plain": [
       "<matplotlib.figure.Figure at 0x7f21c35a6898>"
      ]
     },
     "metadata": {},
     "output_type": "display_data"
    }
   ],
   "source": [
    "data_test.hist(figsize=(14,10))"
   ]
  },
  {
   "cell_type": "code",
   "execution_count": 366,
   "metadata": {},
   "outputs": [
    {
     "data": {
      "text/html": [
       "<div>\n",
       "<style>\n",
       "    .dataframe thead tr:only-child th {\n",
       "        text-align: right;\n",
       "    }\n",
       "\n",
       "    .dataframe thead th {\n",
       "        text-align: left;\n",
       "    }\n",
       "\n",
       "    .dataframe tbody tr th {\n",
       "        vertical-align: top;\n",
       "    }\n",
       "</style>\n",
       "<table border=\"1\" class=\"dataframe\">\n",
       "  <thead>\n",
       "    <tr style=\"text-align: right;\">\n",
       "      <th></th>\n",
       "      <th>PassengerId</th>\n",
       "      <th>Survived</th>\n",
       "    </tr>\n",
       "  </thead>\n",
       "  <tbody>\n",
       "    <tr>\n",
       "      <th>0</th>\n",
       "      <td>892</td>\n",
       "      <td>0</td>\n",
       "    </tr>\n",
       "    <tr>\n",
       "      <th>1</th>\n",
       "      <td>893</td>\n",
       "      <td>1</td>\n",
       "    </tr>\n",
       "    <tr>\n",
       "      <th>2</th>\n",
       "      <td>894</td>\n",
       "      <td>0</td>\n",
       "    </tr>\n",
       "    <tr>\n",
       "      <th>3</th>\n",
       "      <td>895</td>\n",
       "      <td>0</td>\n",
       "    </tr>\n",
       "    <tr>\n",
       "      <th>4</th>\n",
       "      <td>896</td>\n",
       "      <td>1</td>\n",
       "    </tr>\n",
       "  </tbody>\n",
       "</table>\n",
       "</div>"
      ],
      "text/plain": [
       "   PassengerId  Survived\n",
       "0          892         0\n",
       "1          893         1\n",
       "2          894         0\n",
       "3          895         0\n",
       "4          896         1"
      ]
     },
     "execution_count": 366,
     "metadata": {},
     "output_type": "execute_result"
    }
   ],
   "source": [
    "data_gender_submission.head()"
   ]
  },
  {
   "cell_type": "code",
   "execution_count": 367,
   "metadata": {},
   "outputs": [
    {
     "name": "stdout",
     "output_type": "stream",
     "text": [
      "<class 'pandas.core.frame.DataFrame'>\n",
      "RangeIndex: 418 entries, 0 to 417\n",
      "Data columns (total 2 columns):\n",
      "PassengerId    418 non-null int64\n",
      "Survived       418 non-null int64\n",
      "dtypes: int64(2)\n",
      "memory usage: 6.6 KB\n"
     ]
    }
   ],
   "source": [
    "data_gender_submission.info()"
   ]
  },
  {
   "cell_type": "code",
   "execution_count": 368,
   "metadata": {},
   "outputs": [
    {
     "data": {
      "text/plain": [
       "array([[<matplotlib.axes._subplots.AxesSubplot object at 0x7f21c29814e0>,\n",
       "        <matplotlib.axes._subplots.AxesSubplot object at 0x7f21c27bfc18>]], dtype=object)"
      ]
     },
     "execution_count": 368,
     "metadata": {},
     "output_type": "execute_result"
    },
    {
     "data": {
      "image/png": "[encoded data removed]",
      "text/plain": [
       "<matplotlib.figure.Figure at 0x7f21c29c4320>"
      ]
     },
     "metadata": {},
     "output_type": "display_data"
    }
   ],
   "source": [
    "data_gender_submission.hist(figsize=(8,4))"
   ]
  },
  {
   "cell_type": "code",
   "execution_count": 369,
   "metadata": {
    "collapsed": true
   },
   "outputs": [],
   "source": [
    "corr_matrix = data_train.corr()"
   ]
  },
  {
   "cell_type": "code",
   "execution_count": 370,
   "metadata": {},
   "outputs": [
    {
     "data": {
      "text/plain": [
       "Survived       1.000000\n",
       "Fare           0.257307\n",
       "Parch          0.081629\n",
       "PassengerId   -0.005007\n",
       "SibSp         -0.035322\n",
       "Age           -0.077221\n",
       "Pclass        -0.338481\n",
       "Name: Survived, dtype: float64"
      ]
     },
     "execution_count": 370,
     "metadata": {},
     "output_type": "execute_result"
    }
   ],
   "source": [
    "corr_matrix[\"Survived\"].sort_values(ascending=False)"
   ]
  },
  {
   "cell_type": "markdown",
   "metadata": {},
   "source": [
    "## Conclusion\n",
    "* none of the data features are symmetric\n",
    "* some data samples are missing / NaN\n",
    "* some attributes have to be converted from labels to an proper encoding"
   ]
  },
  {
   "cell_type": "markdown",
   "metadata": {},
   "source": [
    "# Preprocess Data"
   ]
  },
  {
   "cell_type": "markdown",
   "metadata": {},
   "source": [
    "## Encoding\n",
    "\n",
    "Value | Label  | Encoding\n",
    "----- | ------ | --------\n",
    "Sex:  | male   | 1\n",
    "      | female | 0\n",
    "      \n",
    "Value | Label  | Encoding\n",
    "----- | ------ | --------\n",
    "Embarked: | Southampton | 1 0 0\n",
    "          | Queenstown  | 0 1 0\n",
    "          | Cherbourg   | 0 0 1\n",
    "\n",
    "The Cabin number will be removed and the encoding will be as shown below: \n",
    "\n",
    "Value | Label  | Encoding\n",
    "----- | ------ | --------\n",
    "Cabin: | A | 1\n",
    "       | B | 2\n",
    "       | C | 3\n",
    "       | D | 4\n",
    "       | E | 5\n",
    "       | F | 6\n",
    "       | G | 7\n",
    "\n",
    "The age and fare attribute will be re-scaled / normalized.\n",
    "\n",
    "The name, passengerid and ticket attribute will be dropped!"
   ]
  },
  {
   "cell_type": "code",
   "execution_count": 371,
   "metadata": {
    "collapsed": true
   },
   "outputs": [],
   "source": [
    "# drop unused attributes\n",
    "for set_ in (data_train, data_test):\n",
    "    set_.drop(\"Name\", axis=1, inplace=True)\n",
    "    set_.drop(\"Ticket\", axis=1, inplace=True)\n",
    "    set_.drop(\"PassengerId\", axis=1, inplace=True)"
   ]
  },
  {
   "cell_type": "code",
   "execution_count": 372,
   "metadata": {},
   "outputs": [
    {
     "data": {
      "text/html": [
       "<div>\n",
       "<style>\n",
       "    .dataframe thead tr:only-child th {\n",
       "        text-align: right;\n",
       "    }\n",
       "\n",
       "    .dataframe thead th {\n",
       "        text-align: left;\n",
       "    }\n",
       "\n",
       "    .dataframe tbody tr th {\n",
       "        vertical-align: top;\n",
       "    }\n",
       "</style>\n",
       "<table border=\"1\" class=\"dataframe\">\n",
       "  <thead>\n",
       "    <tr style=\"text-align: right;\">\n",
       "      <th></th>\n",
       "      <th>Survived</th>\n",
       "      <th>Pclass</th>\n",
       "      <th>Sex</th>\n",
       "      <th>Age</th>\n",
       "      <th>SibSp</th>\n",
       "      <th>Parch</th>\n",
       "      <th>Fare</th>\n",
       "      <th>Cabin</th>\n",
       "      <th>Embarked</th>\n",
       "    </tr>\n",
       "  </thead>\n",
       "  <tbody>\n",
       "    <tr>\n",
       "      <th>0</th>\n",
       "      <td>0</td>\n",
       "      <td>3</td>\n",
       "      <td>male</td>\n",
       "      <td>22.0</td>\n",
       "      <td>1</td>\n",
       "      <td>0</td>\n",
       "      <td>7.2500</td>\n",
       "      <td>NaN</td>\n",
       "      <td>S</td>\n",
       "    </tr>\n",
       "    <tr>\n",
       "      <th>1</th>\n",
       "      <td>1</td>\n",
       "      <td>1</td>\n",
       "      <td>female</td>\n",
       "      <td>38.0</td>\n",
       "      <td>1</td>\n",
       "      <td>0</td>\n",
       "      <td>71.2833</td>\n",
       "      <td>C85</td>\n",
       "      <td>C</td>\n",
       "    </tr>\n",
       "    <tr>\n",
       "      <th>2</th>\n",
       "      <td>1</td>\n",
       "      <td>3</td>\n",
       "      <td>female</td>\n",
       "      <td>26.0</td>\n",
       "      <td>0</td>\n",
       "      <td>0</td>\n",
       "      <td>7.9250</td>\n",
       "      <td>NaN</td>\n",
       "      <td>S</td>\n",
       "    </tr>\n",
       "    <tr>\n",
       "      <th>3</th>\n",
       "      <td>1</td>\n",
       "      <td>1</td>\n",
       "      <td>female</td>\n",
       "      <td>35.0</td>\n",
       "      <td>1</td>\n",
       "      <td>0</td>\n",
       "      <td>53.1000</td>\n",
       "      <td>C123</td>\n",
       "      <td>S</td>\n",
       "    </tr>\n",
       "    <tr>\n",
       "      <th>4</th>\n",
       "      <td>0</td>\n",
       "      <td>3</td>\n",
       "      <td>male</td>\n",
       "      <td>35.0</td>\n",
       "      <td>0</td>\n",
       "      <td>0</td>\n",
       "      <td>8.0500</td>\n",
       "      <td>NaN</td>\n",
       "      <td>S</td>\n",
       "    </tr>\n",
       "  </tbody>\n",
       "</table>\n",
       "</div>"
      ],
      "text/plain": [
       "   Survived  Pclass     Sex   Age  SibSp  Parch     Fare Cabin Embarked\n",
       "0         0       3    male  22.0      1      0   7.2500   NaN        S\n",
       "1         1       1  female  38.0      1      0  71.2833   C85        C\n",
       "2         1       3  female  26.0      0      0   7.9250   NaN        S\n",
       "3         1       1  female  35.0      1      0  53.1000  C123        S\n",
       "4         0       3    male  35.0      0      0   8.0500   NaN        S"
      ]
     },
     "execution_count": 372,
     "metadata": {},
     "output_type": "execute_result"
    }
   ],
   "source": [
    "# verify drop\n",
    "data_train.head()"
   ]
  },
  {
   "cell_type": "code",
   "execution_count": 373,
   "metadata": {
    "collapsed": true
   },
   "outputs": [],
   "source": [
    "# set gender \n",
    "for set_ in (data_train, data_test):\n",
    "    set_[\"Sex\"] = (set_[\"Sex\"] == \"male\").astype(int)"
   ]
  },
  {
   "cell_type": "code",
   "execution_count": 374,
   "metadata": {},
   "outputs": [
    {
     "data": {
      "text/html": [
       "<div>\n",
       "<style>\n",
       "    .dataframe thead tr:only-child th {\n",
       "        text-align: right;\n",
       "    }\n",
       "\n",
       "    .dataframe thead th {\n",
       "        text-align: left;\n",
       "    }\n",
       "\n",
       "    .dataframe tbody tr th {\n",
       "        vertical-align: top;\n",
       "    }\n",
       "</style>\n",
       "<table border=\"1\" class=\"dataframe\">\n",
       "  <thead>\n",
       "    <tr style=\"text-align: right;\">\n",
       "      <th></th>\n",
       "      <th>Survived</th>\n",
       "      <th>Pclass</th>\n",
       "      <th>Sex</th>\n",
       "      <th>Age</th>\n",
       "      <th>SibSp</th>\n",
       "      <th>Parch</th>\n",
       "      <th>Fare</th>\n",
       "      <th>Cabin</th>\n",
       "      <th>Embarked</th>\n",
       "    </tr>\n",
       "  </thead>\n",
       "  <tbody>\n",
       "    <tr>\n",
       "      <th>0</th>\n",
       "      <td>0</td>\n",
       "      <td>3</td>\n",
       "      <td>1</td>\n",
       "      <td>22.0</td>\n",
       "      <td>1</td>\n",
       "      <td>0</td>\n",
       "      <td>7.2500</td>\n",
       "      <td>NaN</td>\n",
       "      <td>S</td>\n",
       "    </tr>\n",
       "    <tr>\n",
       "      <th>1</th>\n",
       "      <td>1</td>\n",
       "      <td>1</td>\n",
       "      <td>0</td>\n",
       "      <td>38.0</td>\n",
       "      <td>1</td>\n",
       "      <td>0</td>\n",
       "      <td>71.2833</td>\n",
       "      <td>C85</td>\n",
       "      <td>C</td>\n",
       "    </tr>\n",
       "    <tr>\n",
       "      <th>2</th>\n",
       "      <td>1</td>\n",
       "      <td>3</td>\n",
       "      <td>0</td>\n",
       "      <td>26.0</td>\n",
       "      <td>0</td>\n",
       "      <td>0</td>\n",
       "      <td>7.9250</td>\n",
       "      <td>NaN</td>\n",
       "      <td>S</td>\n",
       "    </tr>\n",
       "    <tr>\n",
       "      <th>3</th>\n",
       "      <td>1</td>\n",
       "      <td>1</td>\n",
       "      <td>0</td>\n",
       "      <td>35.0</td>\n",
       "      <td>1</td>\n",
       "      <td>0</td>\n",
       "      <td>53.1000</td>\n",
       "      <td>C123</td>\n",
       "      <td>S</td>\n",
       "    </tr>\n",
       "    <tr>\n",
       "      <th>4</th>\n",
       "      <td>0</td>\n",
       "      <td>3</td>\n",
       "      <td>1</td>\n",
       "      <td>35.0</td>\n",
       "      <td>0</td>\n",
       "      <td>0</td>\n",
       "      <td>8.0500</td>\n",
       "      <td>NaN</td>\n",
       "      <td>S</td>\n",
       "    </tr>\n",
       "  </tbody>\n",
       "</table>\n",
       "</div>"
      ],
      "text/plain": [
       "   Survived  Pclass  Sex   Age  SibSp  Parch     Fare Cabin Embarked\n",
       "0         0       3    1  22.0      1      0   7.2500   NaN        S\n",
       "1         1       1    0  38.0      1      0  71.2833   C85        C\n",
       "2         1       3    0  26.0      0      0   7.9250   NaN        S\n",
       "3         1       1    0  35.0      1      0  53.1000  C123        S\n",
       "4         0       3    1  35.0      0      0   8.0500   NaN        S"
      ]
     },
     "execution_count": 374,
     "metadata": {},
     "output_type": "execute_result"
    }
   ],
   "source": [
    "# verify gender set\n",
    "data_train.head()"
   ]
  },
  {
   "cell_type": "code",
   "execution_count": 375,
   "metadata": {
    "collapsed": true
   },
   "outputs": [],
   "source": [
    "# encode embarked\n",
    "from sklearn.preprocessing import LabelBinarizer\n",
    "\n",
    "encoder = LabelBinarizer()"
   ]
  },
  {
   "cell_type": "code",
   "execution_count": 376,
   "metadata": {
    "collapsed": true
   },
   "outputs": [],
   "source": [
    "# get embarked labels\n",
    "import numpy as np\n",
    "\n",
    "for set_ in (data_train, data_test):\n",
    "    set_[\"Embarked\"] = set_[\"Embarked\"].replace(np.nan, \"X\")"
   ]
  },
  {
   "cell_type": "code",
   "execution_count": 377,
   "metadata": {},
   "outputs": [
    {
     "name": "stdout",
     "output_type": "stream",
     "text": [
      "{'C', 'Q', 'S', 'X'}\n",
      "{'C', 'Q', 'S'}\n"
     ]
    }
   ],
   "source": [
    "embarked_labels = set(data_train[\"Embarked\"])\n",
    "print(embarked_labels)\n",
    "print(set(data_test[\"Embarked\"]))"
   ]
  },
  {
   "cell_type": "code",
   "execution_count": 378,
   "metadata": {
    "collapsed": true
   },
   "outputs": [],
   "source": [
    "for set_ in (data_train, data_test):\n",
    "    embarked_encoded = set_[\"Embarked\"].str.get_dummies()\n",
    "    set_[\"Embarked_C\"] = embarked_encoded[\"C\"]\n",
    "    set_[\"Embarked_Q\"] = embarked_encoded[\"Q\"]\n",
    "    set_[\"Embarked_S\"] = embarked_encoded[\"S\"]"
   ]
  },
  {
   "cell_type": "code",
   "execution_count": 379,
   "metadata": {},
   "outputs": [
    {
     "data": {
      "text/html": [
       "<div>\n",
       "<style>\n",
       "    .dataframe thead tr:only-child th {\n",
       "        text-align: right;\n",
       "    }\n",
       "\n",
       "    .dataframe thead th {\n",
       "        text-align: left;\n",
       "    }\n",
       "\n",
       "    .dataframe tbody tr th {\n",
       "        vertical-align: top;\n",
       "    }\n",
       "</style>\n",
       "<table border=\"1\" class=\"dataframe\">\n",
       "  <thead>\n",
       "    <tr style=\"text-align: right;\">\n",
       "      <th></th>\n",
       "      <th>Survived</th>\n",
       "      <th>Pclass</th>\n",
       "      <th>Sex</th>\n",
       "      <th>Age</th>\n",
       "      <th>SibSp</th>\n",
       "      <th>Parch</th>\n",
       "      <th>Fare</th>\n",
       "      <th>Cabin</th>\n",
       "      <th>Embarked_C</th>\n",
       "      <th>Embarked_Q</th>\n",
       "      <th>Embarked_S</th>\n",
       "    </tr>\n",
       "  </thead>\n",
       "  <tbody>\n",
       "    <tr>\n",
       "      <th>0</th>\n",
       "      <td>0</td>\n",
       "      <td>3</td>\n",
       "      <td>1</td>\n",
       "      <td>22.0</td>\n",
       "      <td>1</td>\n",
       "      <td>0</td>\n",
       "      <td>7.2500</td>\n",
       "      <td>NaN</td>\n",
       "      <td>0</td>\n",
       "      <td>0</td>\n",
       "      <td>1</td>\n",
       "    </tr>\n",
       "    <tr>\n",
       "      <th>1</th>\n",
       "      <td>1</td>\n",
       "      <td>1</td>\n",
       "      <td>0</td>\n",
       "      <td>38.0</td>\n",
       "      <td>1</td>\n",
       "      <td>0</td>\n",
       "      <td>71.2833</td>\n",
       "      <td>C85</td>\n",
       "      <td>1</td>\n",
       "      <td>0</td>\n",
       "      <td>0</td>\n",
       "    </tr>\n",
       "    <tr>\n",
       "      <th>2</th>\n",
       "      <td>1</td>\n",
       "      <td>3</td>\n",
       "      <td>0</td>\n",
       "      <td>26.0</td>\n",
       "      <td>0</td>\n",
       "      <td>0</td>\n",
       "      <td>7.9250</td>\n",
       "      <td>NaN</td>\n",
       "      <td>0</td>\n",
       "      <td>0</td>\n",
       "      <td>1</td>\n",
       "    </tr>\n",
       "    <tr>\n",
       "      <th>3</th>\n",
       "      <td>1</td>\n",
       "      <td>1</td>\n",
       "      <td>0</td>\n",
       "      <td>35.0</td>\n",
       "      <td>1</td>\n",
       "      <td>0</td>\n",
       "      <td>53.1000</td>\n",
       "      <td>C123</td>\n",
       "      <td>0</td>\n",
       "      <td>0</td>\n",
       "      <td>1</td>\n",
       "    </tr>\n",
       "    <tr>\n",
       "      <th>4</th>\n",
       "      <td>0</td>\n",
       "      <td>3</td>\n",
       "      <td>1</td>\n",
       "      <td>35.0</td>\n",
       "      <td>0</td>\n",
       "      <td>0</td>\n",
       "      <td>8.0500</td>\n",
       "      <td>NaN</td>\n",
       "      <td>0</td>\n",
       "      <td>0</td>\n",
       "      <td>1</td>\n",
       "    </tr>\n",
       "  </tbody>\n",
       "</table>\n",
       "</div>"
      ],
      "text/plain": [
       "   Survived  Pclass  Sex   Age  SibSp  Parch     Fare Cabin  Embarked_C  \\\n",
       "0         0       3    1  22.0      1      0   7.2500   NaN           0   \n",
       "1         1       1    0  38.0      1      0  71.2833   C85           1   \n",
       "2         1       3    0  26.0      0      0   7.9250   NaN           0   \n",
       "3         1       1    0  35.0      1      0  53.1000  C123           0   \n",
       "4         0       3    1  35.0      0      0   8.0500   NaN           0   \n",
       "\n",
       "   Embarked_Q  Embarked_S  \n",
       "0           0           1  \n",
       "1           0           0  \n",
       "2           0           1  \n",
       "3           0           1  \n",
       "4           0           1  "
      ]
     },
     "execution_count": 379,
     "metadata": {},
     "output_type": "execute_result"
    }
   ],
   "source": [
    "data_train = data_train.drop(\"Embarked\", axis=1)\n",
    "data_test = data_test.drop(\"Embarked\", axis=1)\n",
    "\n",
    "data_train.head()"
   ]
  },
  {
   "cell_type": "code",
   "execution_count": 380,
   "metadata": {
    "collapsed": true
   },
   "outputs": [],
   "source": [
    "for set_ in (data_train, data_test):\n",
    "    set_[\"Cabin\"] = set_[\"Cabin\"].replace(np.nan, \"X\")\n",
    "\n",
    "data_train[\"Cabin\"] = data_train[\"Cabin\"].str[:1]\n",
    "data_test[\"Cabin\"] = data_test[\"Cabin\"].str[:1]"
   ]
  },
  {
   "cell_type": "code",
   "execution_count": 381,
   "metadata": {},
   "outputs": [
    {
     "name": "stdout",
     "output_type": "stream",
     "text": [
      "{'C', 'T', 'D', 'X', 'A', 'G', 'F', 'B', 'E'}\n",
      "{'C', 'X', 'D', 'A', 'G', 'F', 'B', 'E'}\n"
     ]
    }
   ],
   "source": [
    "print(set(data_train[\"Cabin\"]))\n",
    "print(set(data_test[\"Cabin\"]))"
   ]
  },
  {
   "cell_type": "code",
   "execution_count": 382,
   "metadata": {
    "collapsed": true
   },
   "outputs": [],
   "source": [
    "for set_ in (data_train, data_test):\n",
    "    embarked_encoded = set_[\"Cabin\"].str.get_dummies()\n",
    "    set_[\"Cabin_C\"] = embarked_encoded[\"C\"]\n",
    "    set_[\"Cabin_D\"] = embarked_encoded[\"D\"]\n",
    "    set_[\"Cabin_F\"] = embarked_encoded[\"F\"]\n",
    "    set_[\"Cabin_B\"] = embarked_encoded[\"B\"] \n",
    "    set_[\"Cabin_A\"] = embarked_encoded[\"A\"]\n",
    "    set_[\"Cabin_E\"] = embarked_encoded[\"E\"]\n",
    "    set_[\"Cabin_G\"] = embarked_encoded[\"G\"]"
   ]
  },
  {
   "cell_type": "code",
   "execution_count": 383,
   "metadata": {
    "collapsed": true
   },
   "outputs": [],
   "source": [
    "data_train = data_train.drop(\"Cabin\", axis=1)\n",
    "data_test = data_test.drop(\"Cabin\", axis=1)"
   ]
  },
  {
   "cell_type": "code",
   "execution_count": 384,
   "metadata": {},
   "outputs": [
    {
     "name": "stdout",
     "output_type": "stream",
     "text": [
      "<class 'pandas.core.frame.DataFrame'>\n",
      "RangeIndex: 891 entries, 0 to 890\n",
      "Data columns (total 17 columns):\n",
      "Survived      891 non-null int64\n",
      "Pclass        891 non-null int64\n",
      "Sex           891 non-null int64\n",
      "Age           891 non-null float64\n",
      "SibSp         891 non-null int64\n",
      "Parch         891 non-null int64\n",
      "Fare          891 non-null float64\n",
      "Embarked_C    891 non-null int64\n",
      "Embarked_Q    891 non-null int64\n",
      "Embarked_S    891 non-null int64\n",
      "Cabin_C       891 non-null int64\n",
      "Cabin_D       891 non-null int64\n",
      "Cabin_F       891 non-null int64\n",
      "Cabin_B       891 non-null int64\n",
      "Cabin_A       891 non-null int64\n",
      "Cabin_E       891 non-null int64\n",
      "Cabin_G       891 non-null int64\n",
      "dtypes: float64(2), int64(15)\n",
      "memory usage: 118.4 KB\n",
      "<class 'pandas.core.frame.DataFrame'>\n",
      "RangeIndex: 418 entries, 0 to 417\n",
      "Data columns (total 16 columns):\n",
      "Pclass        418 non-null int64\n",
      "Sex           418 non-null int64\n",
      "Age           418 non-null float64\n",
      "SibSp         418 non-null int64\n",
      "Parch         418 non-null int64\n",
      "Fare          418 non-null float64\n",
      "Embarked_C    418 non-null int64\n",
      "Embarked_Q    418 non-null int64\n",
      "Embarked_S    418 non-null int64\n",
      "Cabin_C       418 non-null int64\n",
      "Cabin_D       418 non-null int64\n",
      "Cabin_F       418 non-null int64\n",
      "Cabin_B       418 non-null int64\n",
      "Cabin_A       418 non-null int64\n",
      "Cabin_E       418 non-null int64\n",
      "Cabin_G       418 non-null int64\n",
      "dtypes: float64(2), int64(14)\n",
      "memory usage: 52.3 KB\n"
     ]
    }
   ],
   "source": [
    "data_train = data_train.fillna(data_train.mean())\n",
    "data_test = data_test.fillna(data_test.mean())\n",
    "data_train.info()\n",
    "data_test.info()"
   ]
  },
  {
   "cell_type": "code",
   "execution_count": 385,
   "metadata": {
    "collapsed": true
   },
   "outputs": [],
   "source": [
    "from sklearn.preprocessing import StandardScaler\n",
    "\n",
    "scaler = StandardScaler()\n",
    "for set_ in (data_train, data_test):\n",
    "    set_[[\"Age\", \"Fare\"]] = scaler.fit_transform(set_[[\"Age\", \"Fare\"]])"
   ]
  },
  {
   "cell_type": "code",
   "execution_count": 386,
   "metadata": {},
   "outputs": [
    {
     "data": {
      "text/html": [
       "<div>\n",
       "<style>\n",
       "    .dataframe thead tr:only-child th {\n",
       "        text-align: right;\n",
       "    }\n",
       "\n",
       "    .dataframe thead th {\n",
       "        text-align: left;\n",
       "    }\n",
       "\n",
       "    .dataframe tbody tr th {\n",
       "        vertical-align: top;\n",
       "    }\n",
       "</style>\n",
       "<table border=\"1\" class=\"dataframe\">\n",
       "  <thead>\n",
       "    <tr style=\"text-align: right;\">\n",
       "      <th></th>\n",
       "      <th>Survived</th>\n",
       "      <th>Pclass</th>\n",
       "      <th>Sex</th>\n",
       "      <th>Age</th>\n",
       "      <th>SibSp</th>\n",
       "      <th>Parch</th>\n",
       "      <th>Fare</th>\n",
       "      <th>Embarked_C</th>\n",
       "      <th>Embarked_Q</th>\n",
       "      <th>Embarked_S</th>\n",
       "      <th>Cabin_C</th>\n",
       "      <th>Cabin_D</th>\n",
       "      <th>Cabin_F</th>\n",
       "      <th>Cabin_B</th>\n",
       "      <th>Cabin_A</th>\n",
       "      <th>Cabin_E</th>\n",
       "      <th>Cabin_G</th>\n",
       "    </tr>\n",
       "  </thead>\n",
       "  <tbody>\n",
       "    <tr>\n",
       "      <th>0</th>\n",
       "      <td>0</td>\n",
       "      <td>3</td>\n",
       "      <td>1</td>\n",
       "      <td>-0.592481</td>\n",
       "      <td>1</td>\n",
       "      <td>0</td>\n",
       "      <td>-0.502445</td>\n",
       "      <td>0</td>\n",
       "      <td>0</td>\n",
       "      <td>1</td>\n",
       "      <td>0</td>\n",
       "      <td>0</td>\n",
       "      <td>0</td>\n",
       "      <td>0</td>\n",
       "      <td>0</td>\n",
       "      <td>0</td>\n",
       "      <td>0</td>\n",
       "    </tr>\n",
       "    <tr>\n",
       "      <th>1</th>\n",
       "      <td>1</td>\n",
       "      <td>1</td>\n",
       "      <td>0</td>\n",
       "      <td>0.638789</td>\n",
       "      <td>1</td>\n",
       "      <td>0</td>\n",
       "      <td>0.786845</td>\n",
       "      <td>1</td>\n",
       "      <td>0</td>\n",
       "      <td>0</td>\n",
       "      <td>1</td>\n",
       "      <td>0</td>\n",
       "      <td>0</td>\n",
       "      <td>0</td>\n",
       "      <td>0</td>\n",
       "      <td>0</td>\n",
       "      <td>0</td>\n",
       "    </tr>\n",
       "    <tr>\n",
       "      <th>2</th>\n",
       "      <td>1</td>\n",
       "      <td>3</td>\n",
       "      <td>0</td>\n",
       "      <td>-0.284663</td>\n",
       "      <td>0</td>\n",
       "      <td>0</td>\n",
       "      <td>-0.488854</td>\n",
       "      <td>0</td>\n",
       "      <td>0</td>\n",
       "      <td>1</td>\n",
       "      <td>0</td>\n",
       "      <td>0</td>\n",
       "      <td>0</td>\n",
       "      <td>0</td>\n",
       "      <td>0</td>\n",
       "      <td>0</td>\n",
       "      <td>0</td>\n",
       "    </tr>\n",
       "    <tr>\n",
       "      <th>3</th>\n",
       "      <td>1</td>\n",
       "      <td>1</td>\n",
       "      <td>0</td>\n",
       "      <td>0.407926</td>\n",
       "      <td>1</td>\n",
       "      <td>0</td>\n",
       "      <td>0.420730</td>\n",
       "      <td>0</td>\n",
       "      <td>0</td>\n",
       "      <td>1</td>\n",
       "      <td>1</td>\n",
       "      <td>0</td>\n",
       "      <td>0</td>\n",
       "      <td>0</td>\n",
       "      <td>0</td>\n",
       "      <td>0</td>\n",
       "      <td>0</td>\n",
       "    </tr>\n",
       "    <tr>\n",
       "      <th>4</th>\n",
       "      <td>0</td>\n",
       "      <td>3</td>\n",
       "      <td>1</td>\n",
       "      <td>0.407926</td>\n",
       "      <td>0</td>\n",
       "      <td>0</td>\n",
       "      <td>-0.486337</td>\n",
       "      <td>0</td>\n",
       "      <td>0</td>\n",
       "      <td>1</td>\n",
       "      <td>0</td>\n",
       "      <td>0</td>\n",
       "      <td>0</td>\n",
       "      <td>0</td>\n",
       "      <td>0</td>\n",
       "      <td>0</td>\n",
       "      <td>0</td>\n",
       "    </tr>\n",
       "  </tbody>\n",
       "</table>\n",
       "</div>"
      ],
      "text/plain": [
       "   Survived  Pclass  Sex       Age  SibSp  Parch      Fare  Embarked_C  \\\n",
       "0         0       3    1 -0.592481      1      0 -0.502445           0   \n",
       "1         1       1    0  0.638789      1      0  0.786845           1   \n",
       "2         1       3    0 -0.284663      0      0 -0.488854           0   \n",
       "3         1       1    0  0.407926      1      0  0.420730           0   \n",
       "4         0       3    1  0.407926      0      0 -0.486337           0   \n",
       "\n",
       "   Embarked_Q  Embarked_S  Cabin_C  Cabin_D  Cabin_F  Cabin_B  Cabin_A  \\\n",
       "0           0           1        0        0        0        0        0   \n",
       "1           0           0        1        0        0        0        0   \n",
       "2           0           1        0        0        0        0        0   \n",
       "3           0           1        1        0        0        0        0   \n",
       "4           0           1        0        0        0        0        0   \n",
       "\n",
       "   Cabin_E  Cabin_G  \n",
       "0        0        0  \n",
       "1        0        0  \n",
       "2        0        0  \n",
       "3        0        0  \n",
       "4        0        0  "
      ]
     },
     "execution_count": 386,
     "metadata": {},
     "output_type": "execute_result"
    }
   ],
   "source": [
    "data_train.head()"
   ]
  },
  {
   "cell_type": "code",
   "execution_count": 387,
   "metadata": {
    "collapsed": true
   },
   "outputs": [],
   "source": [
    "from sklearn.preprocessing import OneHotEncoder\n",
    "\n",
    "encoder = OneHotEncoder()\n",
    "\n",
    "for set_ in (data_train, data_test):\n",
    "    embarked_encoded = pd.DataFrame(encoder.fit_transform(set_[\"Pclass\"].values.reshape(-1, 1)).toarray())\n",
    "    set_[\"Pclass_1\"] = embarked_encoded[0]\n",
    "    set_[\"Pclass_2\"] = embarked_encoded[1]\n",
    "    set_[\"Pclass_3\"] = embarked_encoded[2]"
   ]
  },
  {
   "cell_type": "code",
   "execution_count": 388,
   "metadata": {
    "collapsed": true
   },
   "outputs": [],
   "source": [
    "data_train = data_train.drop(\"Pclass\", axis=1)\n",
    "data_test = data_test.drop(\"Pclass\", axis=1)"
   ]
  },
  {
   "cell_type": "code",
   "execution_count": 389,
   "metadata": {},
   "outputs": [
    {
     "data": {
      "text/html": [
       "<div>\n",
       "<style>\n",
       "    .dataframe thead tr:only-child th {\n",
       "        text-align: right;\n",
       "    }\n",
       "\n",
       "    .dataframe thead th {\n",
       "        text-align: left;\n",
       "    }\n",
       "\n",
       "    .dataframe tbody tr th {\n",
       "        vertical-align: top;\n",
       "    }\n",
       "</style>\n",
       "<table border=\"1\" class=\"dataframe\">\n",
       "  <thead>\n",
       "    <tr style=\"text-align: right;\">\n",
       "      <th></th>\n",
       "      <th>Survived</th>\n",
       "      <th>Sex</th>\n",
       "      <th>Age</th>\n",
       "      <th>SibSp</th>\n",
       "      <th>Parch</th>\n",
       "      <th>Fare</th>\n",
       "      <th>Embarked_C</th>\n",
       "      <th>Embarked_Q</th>\n",
       "      <th>Embarked_S</th>\n",
       "      <th>Cabin_C</th>\n",
       "      <th>Cabin_D</th>\n",
       "      <th>Cabin_F</th>\n",
       "      <th>Cabin_B</th>\n",
       "      <th>Cabin_A</th>\n",
       "      <th>Cabin_E</th>\n",
       "      <th>Cabin_G</th>\n",
       "      <th>Pclass_1</th>\n",
       "      <th>Pclass_2</th>\n",
       "      <th>Pclass_3</th>\n",
       "    </tr>\n",
       "  </thead>\n",
       "  <tbody>\n",
       "    <tr>\n",
       "      <th>0</th>\n",
       "      <td>0</td>\n",
       "      <td>1</td>\n",
       "      <td>-0.592481</td>\n",
       "      <td>1</td>\n",
       "      <td>0</td>\n",
       "      <td>-0.502445</td>\n",
       "      <td>0</td>\n",
       "      <td>0</td>\n",
       "      <td>1</td>\n",
       "      <td>0</td>\n",
       "      <td>0</td>\n",
       "      <td>0</td>\n",
       "      <td>0</td>\n",
       "      <td>0</td>\n",
       "      <td>0</td>\n",
       "      <td>0</td>\n",
       "      <td>0.0</td>\n",
       "      <td>0.0</td>\n",
       "      <td>1.0</td>\n",
       "    </tr>\n",
       "    <tr>\n",
       "      <th>1</th>\n",
       "      <td>1</td>\n",
       "      <td>0</td>\n",
       "      <td>0.638789</td>\n",
       "      <td>1</td>\n",
       "      <td>0</td>\n",
       "      <td>0.786845</td>\n",
       "      <td>1</td>\n",
       "      <td>0</td>\n",
       "      <td>0</td>\n",
       "      <td>1</td>\n",
       "      <td>0</td>\n",
       "      <td>0</td>\n",
       "      <td>0</td>\n",
       "      <td>0</td>\n",
       "      <td>0</td>\n",
       "      <td>0</td>\n",
       "      <td>1.0</td>\n",
       "      <td>0.0</td>\n",
       "      <td>0.0</td>\n",
       "    </tr>\n",
       "    <tr>\n",
       "      <th>2</th>\n",
       "      <td>1</td>\n",
       "      <td>0</td>\n",
       "      <td>-0.284663</td>\n",
       "      <td>0</td>\n",
       "      <td>0</td>\n",
       "      <td>-0.488854</td>\n",
       "      <td>0</td>\n",
       "      <td>0</td>\n",
       "      <td>1</td>\n",
       "      <td>0</td>\n",
       "      <td>0</td>\n",
       "      <td>0</td>\n",
       "      <td>0</td>\n",
       "      <td>0</td>\n",
       "      <td>0</td>\n",
       "      <td>0</td>\n",
       "      <td>0.0</td>\n",
       "      <td>0.0</td>\n",
       "      <td>1.0</td>\n",
       "    </tr>\n",
       "    <tr>\n",
       "      <th>3</th>\n",
       "      <td>1</td>\n",
       "      <td>0</td>\n",
       "      <td>0.407926</td>\n",
       "      <td>1</td>\n",
       "      <td>0</td>\n",
       "      <td>0.420730</td>\n",
       "      <td>0</td>\n",
       "      <td>0</td>\n",
       "      <td>1</td>\n",
       "      <td>1</td>\n",
       "      <td>0</td>\n",
       "      <td>0</td>\n",
       "      <td>0</td>\n",
       "      <td>0</td>\n",
       "      <td>0</td>\n",
       "      <td>0</td>\n",
       "      <td>1.0</td>\n",
       "      <td>0.0</td>\n",
       "      <td>0.0</td>\n",
       "    </tr>\n",
       "    <tr>\n",
       "      <th>4</th>\n",
       "      <td>0</td>\n",
       "      <td>1</td>\n",
       "      <td>0.407926</td>\n",
       "      <td>0</td>\n",
       "      <td>0</td>\n",
       "      <td>-0.486337</td>\n",
       "      <td>0</td>\n",
       "      <td>0</td>\n",
       "      <td>1</td>\n",
       "      <td>0</td>\n",
       "      <td>0</td>\n",
       "      <td>0</td>\n",
       "      <td>0</td>\n",
       "      <td>0</td>\n",
       "      <td>0</td>\n",
       "      <td>0</td>\n",
       "      <td>0.0</td>\n",
       "      <td>0.0</td>\n",
       "      <td>1.0</td>\n",
       "    </tr>\n",
       "  </tbody>\n",
       "</table>\n",
       "</div>"
      ],
      "text/plain": [
       "   Survived  Sex       Age  SibSp  Parch      Fare  Embarked_C  Embarked_Q  \\\n",
       "0         0    1 -0.592481      1      0 -0.502445           0           0   \n",
       "1         1    0  0.638789      1      0  0.786845           1           0   \n",
       "2         1    0 -0.284663      0      0 -0.488854           0           0   \n",
       "3         1    0  0.407926      1      0  0.420730           0           0   \n",
       "4         0    1  0.407926      0      0 -0.486337           0           0   \n",
       "\n",
       "   Embarked_S  Cabin_C  Cabin_D  Cabin_F  Cabin_B  Cabin_A  Cabin_E  Cabin_G  \\\n",
       "0           1        0        0        0        0        0        0        0   \n",
       "1           0        1        0        0        0        0        0        0   \n",
       "2           1        0        0        0        0        0        0        0   \n",
       "3           1        1        0        0        0        0        0        0   \n",
       "4           1        0        0        0        0        0        0        0   \n",
       "\n",
       "   Pclass_1  Pclass_2  Pclass_3  \n",
       "0       0.0       0.0       1.0  \n",
       "1       1.0       0.0       0.0  \n",
       "2       0.0       0.0       1.0  \n",
       "3       1.0       0.0       0.0  \n",
       "4       0.0       0.0       1.0  "
      ]
     },
     "execution_count": 389,
     "metadata": {},
     "output_type": "execute_result"
    }
   ],
   "source": [
    "data_train.head()"
   ]
  },
  {
   "cell_type": "code",
   "execution_count": 390,
   "metadata": {},
   "outputs": [
    {
     "data": {
      "text/html": [
       "<div>\n",
       "<style>\n",
       "    .dataframe thead tr:only-child th {\n",
       "        text-align: right;\n",
       "    }\n",
       "\n",
       "    .dataframe thead th {\n",
       "        text-align: left;\n",
       "    }\n",
       "\n",
       "    .dataframe tbody tr th {\n",
       "        vertical-align: top;\n",
       "    }\n",
       "</style>\n",
       "<table border=\"1\" class=\"dataframe\">\n",
       "  <thead>\n",
       "    <tr style=\"text-align: right;\">\n",
       "      <th></th>\n",
       "      <th>Sex</th>\n",
       "      <th>Age</th>\n",
       "      <th>SibSp</th>\n",
       "      <th>Parch</th>\n",
       "      <th>Fare</th>\n",
       "      <th>Embarked_C</th>\n",
       "      <th>Embarked_Q</th>\n",
       "      <th>Embarked_S</th>\n",
       "      <th>Cabin_C</th>\n",
       "      <th>Cabin_D</th>\n",
       "      <th>Cabin_F</th>\n",
       "      <th>Cabin_B</th>\n",
       "      <th>Cabin_A</th>\n",
       "      <th>Cabin_E</th>\n",
       "      <th>Cabin_G</th>\n",
       "      <th>Pclass_1</th>\n",
       "      <th>Pclass_2</th>\n",
       "      <th>Pclass_3</th>\n",
       "    </tr>\n",
       "  </thead>\n",
       "  <tbody>\n",
       "    <tr>\n",
       "      <th>0</th>\n",
       "      <td>1</td>\n",
       "      <td>0.334993</td>\n",
       "      <td>0</td>\n",
       "      <td>0</td>\n",
       "      <td>-0.498407</td>\n",
       "      <td>0</td>\n",
       "      <td>1</td>\n",
       "      <td>0</td>\n",
       "      <td>0</td>\n",
       "      <td>0</td>\n",
       "      <td>0</td>\n",
       "      <td>0</td>\n",
       "      <td>0</td>\n",
       "      <td>0</td>\n",
       "      <td>0</td>\n",
       "      <td>0.0</td>\n",
       "      <td>0.0</td>\n",
       "      <td>1.0</td>\n",
       "    </tr>\n",
       "    <tr>\n",
       "      <th>1</th>\n",
       "      <td>0</td>\n",
       "      <td>1.325530</td>\n",
       "      <td>1</td>\n",
       "      <td>0</td>\n",
       "      <td>-0.513274</td>\n",
       "      <td>0</td>\n",
       "      <td>0</td>\n",
       "      <td>1</td>\n",
       "      <td>0</td>\n",
       "      <td>0</td>\n",
       "      <td>0</td>\n",
       "      <td>0</td>\n",
       "      <td>0</td>\n",
       "      <td>0</td>\n",
       "      <td>0</td>\n",
       "      <td>0.0</td>\n",
       "      <td>0.0</td>\n",
       "      <td>1.0</td>\n",
       "    </tr>\n",
       "    <tr>\n",
       "      <th>2</th>\n",
       "      <td>1</td>\n",
       "      <td>2.514175</td>\n",
       "      <td>0</td>\n",
       "      <td>0</td>\n",
       "      <td>-0.465088</td>\n",
       "      <td>0</td>\n",
       "      <td>1</td>\n",
       "      <td>0</td>\n",
       "      <td>0</td>\n",
       "      <td>0</td>\n",
       "      <td>0</td>\n",
       "      <td>0</td>\n",
       "      <td>0</td>\n",
       "      <td>0</td>\n",
       "      <td>0</td>\n",
       "      <td>0.0</td>\n",
       "      <td>1.0</td>\n",
       "      <td>0.0</td>\n",
       "    </tr>\n",
       "    <tr>\n",
       "      <th>3</th>\n",
       "      <td>1</td>\n",
       "      <td>-0.259330</td>\n",
       "      <td>0</td>\n",
       "      <td>0</td>\n",
       "      <td>-0.483466</td>\n",
       "      <td>0</td>\n",
       "      <td>0</td>\n",
       "      <td>1</td>\n",
       "      <td>0</td>\n",
       "      <td>0</td>\n",
       "      <td>0</td>\n",
       "      <td>0</td>\n",
       "      <td>0</td>\n",
       "      <td>0</td>\n",
       "      <td>0</td>\n",
       "      <td>0.0</td>\n",
       "      <td>0.0</td>\n",
       "      <td>1.0</td>\n",
       "    </tr>\n",
       "    <tr>\n",
       "      <th>4</th>\n",
       "      <td>0</td>\n",
       "      <td>-0.655545</td>\n",
       "      <td>1</td>\n",
       "      <td>1</td>\n",
       "      <td>-0.418471</td>\n",
       "      <td>0</td>\n",
       "      <td>0</td>\n",
       "      <td>1</td>\n",
       "      <td>0</td>\n",
       "      <td>0</td>\n",
       "      <td>0</td>\n",
       "      <td>0</td>\n",
       "      <td>0</td>\n",
       "      <td>0</td>\n",
       "      <td>0</td>\n",
       "      <td>0.0</td>\n",
       "      <td>0.0</td>\n",
       "      <td>1.0</td>\n",
       "    </tr>\n",
       "  </tbody>\n",
       "</table>\n",
       "</div>"
      ],
      "text/plain": [
       "   Sex       Age  SibSp  Parch      Fare  Embarked_C  Embarked_Q  Embarked_S  \\\n",
       "0    1  0.334993      0      0 -0.498407           0           1           0   \n",
       "1    0  1.325530      1      0 -0.513274           0           0           1   \n",
       "2    1  2.514175      0      0 -0.465088           0           1           0   \n",
       "3    1 -0.259330      0      0 -0.483466           0           0           1   \n",
       "4    0 -0.655545      1      1 -0.418471           0           0           1   \n",
       "\n",
       "   Cabin_C  Cabin_D  Cabin_F  Cabin_B  Cabin_A  Cabin_E  Cabin_G  Pclass_1  \\\n",
       "0        0        0        0        0        0        0        0       0.0   \n",
       "1        0        0        0        0        0        0        0       0.0   \n",
       "2        0        0        0        0        0        0        0       0.0   \n",
       "3        0        0        0        0        0        0        0       0.0   \n",
       "4        0        0        0        0        0        0        0       0.0   \n",
       "\n",
       "   Pclass_2  Pclass_3  \n",
       "0       0.0       1.0  \n",
       "1       0.0       1.0  \n",
       "2       1.0       0.0  \n",
       "3       0.0       1.0  \n",
       "4       0.0       1.0  "
      ]
     },
     "execution_count": 390,
     "metadata": {},
     "output_type": "execute_result"
    }
   ],
   "source": [
    "data_test.head()"
   ]
  },
  {
   "cell_type": "code",
   "execution_count": 391,
   "metadata": {
    "collapsed": true
   },
   "outputs": [],
   "source": [
    "X_train = data_train.drop(\"Survived\", axis=1)\n",
    "y_train = data_train[\"Survived\"]"
   ]
  },
  {
   "cell_type": "code",
   "execution_count": 392,
   "metadata": {},
   "outputs": [
    {
     "data": {
      "text/html": [
       "<div>\n",
       "<style>\n",
       "    .dataframe thead tr:only-child th {\n",
       "        text-align: right;\n",
       "    }\n",
       "\n",
       "    .dataframe thead th {\n",
       "        text-align: left;\n",
       "    }\n",
       "\n",
       "    .dataframe tbody tr th {\n",
       "        vertical-align: top;\n",
       "    }\n",
       "</style>\n",
       "<table border=\"1\" class=\"dataframe\">\n",
       "  <thead>\n",
       "    <tr style=\"text-align: right;\">\n",
       "      <th></th>\n",
       "      <th>Sex</th>\n",
       "      <th>Age</th>\n",
       "      <th>SibSp</th>\n",
       "      <th>Parch</th>\n",
       "      <th>Fare</th>\n",
       "      <th>Embarked_C</th>\n",
       "      <th>Embarked_Q</th>\n",
       "      <th>Embarked_S</th>\n",
       "      <th>Cabin_C</th>\n",
       "      <th>Cabin_D</th>\n",
       "      <th>Cabin_F</th>\n",
       "      <th>Cabin_B</th>\n",
       "      <th>Cabin_A</th>\n",
       "      <th>Cabin_E</th>\n",
       "      <th>Cabin_G</th>\n",
       "      <th>Pclass_1</th>\n",
       "      <th>Pclass_2</th>\n",
       "      <th>Pclass_3</th>\n",
       "    </tr>\n",
       "  </thead>\n",
       "  <tbody>\n",
       "    <tr>\n",
       "      <th>0</th>\n",
       "      <td>1</td>\n",
       "      <td>-0.592481</td>\n",
       "      <td>1</td>\n",
       "      <td>0</td>\n",
       "      <td>-0.502445</td>\n",
       "      <td>0</td>\n",
       "      <td>0</td>\n",
       "      <td>1</td>\n",
       "      <td>0</td>\n",
       "      <td>0</td>\n",
       "      <td>0</td>\n",
       "      <td>0</td>\n",
       "      <td>0</td>\n",
       "      <td>0</td>\n",
       "      <td>0</td>\n",
       "      <td>0.0</td>\n",
       "      <td>0.0</td>\n",
       "      <td>1.0</td>\n",
       "    </tr>\n",
       "    <tr>\n",
       "      <th>1</th>\n",
       "      <td>0</td>\n",
       "      <td>0.638789</td>\n",
       "      <td>1</td>\n",
       "      <td>0</td>\n",
       "      <td>0.786845</td>\n",
       "      <td>1</td>\n",
       "      <td>0</td>\n",
       "      <td>0</td>\n",
       "      <td>1</td>\n",
       "      <td>0</td>\n",
       "      <td>0</td>\n",
       "      <td>0</td>\n",
       "      <td>0</td>\n",
       "      <td>0</td>\n",
       "      <td>0</td>\n",
       "      <td>1.0</td>\n",
       "      <td>0.0</td>\n",
       "      <td>0.0</td>\n",
       "    </tr>\n",
       "    <tr>\n",
       "      <th>2</th>\n",
       "      <td>0</td>\n",
       "      <td>-0.284663</td>\n",
       "      <td>0</td>\n",
       "      <td>0</td>\n",
       "      <td>-0.488854</td>\n",
       "      <td>0</td>\n",
       "      <td>0</td>\n",
       "      <td>1</td>\n",
       "      <td>0</td>\n",
       "      <td>0</td>\n",
       "      <td>0</td>\n",
       "      <td>0</td>\n",
       "      <td>0</td>\n",
       "      <td>0</td>\n",
       "      <td>0</td>\n",
       "      <td>0.0</td>\n",
       "      <td>0.0</td>\n",
       "      <td>1.0</td>\n",
       "    </tr>\n",
       "    <tr>\n",
       "      <th>3</th>\n",
       "      <td>0</td>\n",
       "      <td>0.407926</td>\n",
       "      <td>1</td>\n",
       "      <td>0</td>\n",
       "      <td>0.420730</td>\n",
       "      <td>0</td>\n",
       "      <td>0</td>\n",
       "      <td>1</td>\n",
       "      <td>1</td>\n",
       "      <td>0</td>\n",
       "      <td>0</td>\n",
       "      <td>0</td>\n",
       "      <td>0</td>\n",
       "      <td>0</td>\n",
       "      <td>0</td>\n",
       "      <td>1.0</td>\n",
       "      <td>0.0</td>\n",
       "      <td>0.0</td>\n",
       "    </tr>\n",
       "    <tr>\n",
       "      <th>4</th>\n",
       "      <td>1</td>\n",
       "      <td>0.407926</td>\n",
       "      <td>0</td>\n",
       "      <td>0</td>\n",
       "      <td>-0.486337</td>\n",
       "      <td>0</td>\n",
       "      <td>0</td>\n",
       "      <td>1</td>\n",
       "      <td>0</td>\n",
       "      <td>0</td>\n",
       "      <td>0</td>\n",
       "      <td>0</td>\n",
       "      <td>0</td>\n",
       "      <td>0</td>\n",
       "      <td>0</td>\n",
       "      <td>0.0</td>\n",
       "      <td>0.0</td>\n",
       "      <td>1.0</td>\n",
       "    </tr>\n",
       "  </tbody>\n",
       "</table>\n",
       "</div>"
      ],
      "text/plain": [
       "   Sex       Age  SibSp  Parch      Fare  Embarked_C  Embarked_Q  Embarked_S  \\\n",
       "0    1 -0.592481      1      0 -0.502445           0           0           1   \n",
       "1    0  0.638789      1      0  0.786845           1           0           0   \n",
       "2    0 -0.284663      0      0 -0.488854           0           0           1   \n",
       "3    0  0.407926      1      0  0.420730           0           0           1   \n",
       "4    1  0.407926      0      0 -0.486337           0           0           1   \n",
       "\n",
       "   Cabin_C  Cabin_D  Cabin_F  Cabin_B  Cabin_A  Cabin_E  Cabin_G  Pclass_1  \\\n",
       "0        0        0        0        0        0        0        0       0.0   \n",
       "1        1        0        0        0        0        0        0       1.0   \n",
       "2        0        0        0        0        0        0        0       0.0   \n",
       "3        1        0        0        0        0        0        0       1.0   \n",
       "4        0        0        0        0        0        0        0       0.0   \n",
       "\n",
       "   Pclass_2  Pclass_3  \n",
       "0       0.0       1.0  \n",
       "1       0.0       0.0  \n",
       "2       0.0       1.0  \n",
       "3       0.0       0.0  \n",
       "4       0.0       1.0  "
      ]
     },
     "execution_count": 392,
     "metadata": {},
     "output_type": "execute_result"
    }
   ],
   "source": [
    "X_train.head()"
   ]
  },
  {
   "cell_type": "code",
   "execution_count": 393,
   "metadata": {},
   "outputs": [
    {
     "data": {
      "text/plain": [
       "0    0\n",
       "1    1\n",
       "2    1\n",
       "3    1\n",
       "4    0\n",
       "Name: Survived, dtype: int64"
      ]
     },
     "execution_count": 393,
     "metadata": {},
     "output_type": "execute_result"
    }
   ],
   "source": [
    "y_train.head()"
   ]
  },
  {
   "cell_type": "markdown",
   "metadata": {},
   "source": [
    "# Feature Engineering"
   ]
  },
  {
   "cell_type": "code",
   "execution_count": 394,
   "metadata": {},
   "outputs": [
    {
     "data": {
      "text/plain": [
       "Survived       1.000000\n",
       "Fare           0.257307\n",
       "Parch          0.081629\n",
       "PassengerId   -0.005007\n",
       "SibSp         -0.035322\n",
       "Age           -0.077221\n",
       "Pclass        -0.338481\n",
       "Name: Survived, dtype: float64"
      ]
     },
     "execution_count": 394,
     "metadata": {},
     "output_type": "execute_result"
    }
   ],
   "source": [
    "# view \n",
    "corr_matrix = ori_data_train.corr()\n",
    "corr_matrix[\"Survived\"].sort_values(ascending=False)"
   ]
  },
  {
   "cell_type": "code",
   "execution_count": 395,
   "metadata": {},
   "outputs": [
    {
     "data": {
      "image/png": "[encoded data removed]",
      "text/plain": [
       "<matplotlib.figure.Figure at 0x7f21c2674780>"
      ]
     },
     "metadata": {},
     "output_type": "display_data"
    }
   ],
   "source": [
    "ax = ori_data_train.plot(figsize=(12, 8), kind=\"scatter\", x=\"Age\", y=\"Fare\", alpha=0.3,\n",
    "            c=ori_data_train[\"Survived\"], cmap=plt.get_cmap(\"PiYG\"), colorbar=True)\n",
    "# set the xaxis label\n",
    "plt.setp(ax.get_xticklabels(), visible=True, rotation=0, ha='right')\n",
    "# turn off minor ticks\n",
    "plt.minorticks_off()\n",
    "plt.show()"
   ]
  },
  {
   "cell_type": "code",
   "execution_count": 396,
   "metadata": {
    "scrolled": false
   },
   "outputs": [
    {
     "data": {
      "image/png": "[encoded data removed]",
      "text/plain": [
       "<matplotlib.figure.Figure at 0x7f21c2750fd0>"
      ]
     },
     "metadata": {},
     "output_type": "display_data"
    }
   ],
   "source": [
    "ax = ori_data_train.plot(figsize=(12, 8), kind=\"scatter\", x=\"Age\", y=\"Fare\", alpha=0.3,\n",
    "            c=ori_data_train[\"Survived\"], cmap=plt.get_cmap(\"PiYG\"), colorbar=True)\n",
    "plt.axis([0, 80, 0, 50])\n",
    "# set the xaxis label\n",
    "plt.setp(ax.get_xticklabels(), visible=True, rotation=0, ha='right')\n",
    "# turn off minor ticks\n",
    "plt.minorticks_off()\n",
    "plt.show()"
   ]
  },
  {
   "cell_type": "code",
   "execution_count": 397,
   "metadata": {},
   "outputs": [
    {
     "data": {
      "text/html": [
       "<div>\n",
       "<style>\n",
       "    .dataframe thead tr:only-child th {\n",
       "        text-align: right;\n",
       "    }\n",
       "\n",
       "    .dataframe thead th {\n",
       "        text-align: left;\n",
       "    }\n",
       "\n",
       "    .dataframe tbody tr th {\n",
       "        vertical-align: top;\n",
       "    }\n",
       "</style>\n",
       "<table border=\"1\" class=\"dataframe\">\n",
       "  <thead>\n",
       "    <tr style=\"text-align: right;\">\n",
       "      <th></th>\n",
       "      <th>PassengerId</th>\n",
       "      <th>Survived</th>\n",
       "      <th>Name</th>\n",
       "      <th>Sex</th>\n",
       "      <th>Age</th>\n",
       "      <th>SibSp</th>\n",
       "      <th>Parch</th>\n",
       "      <th>Ticket</th>\n",
       "      <th>Fare</th>\n",
       "      <th>Cabin</th>\n",
       "      <th>Embarked</th>\n",
       "    </tr>\n",
       "    <tr>\n",
       "      <th>Pclass</th>\n",
       "      <th></th>\n",
       "      <th></th>\n",
       "      <th></th>\n",
       "      <th></th>\n",
       "      <th></th>\n",
       "      <th></th>\n",
       "      <th></th>\n",
       "      <th></th>\n",
       "      <th></th>\n",
       "      <th></th>\n",
       "      <th></th>\n",
       "    </tr>\n",
       "  </thead>\n",
       "  <tbody>\n",
       "    <tr>\n",
       "      <th>1</th>\n",
       "      <td>216</td>\n",
       "      <td>216</td>\n",
       "      <td>216</td>\n",
       "      <td>216</td>\n",
       "      <td>186</td>\n",
       "      <td>216</td>\n",
       "      <td>216</td>\n",
       "      <td>216</td>\n",
       "      <td>216</td>\n",
       "      <td>176</td>\n",
       "      <td>214</td>\n",
       "    </tr>\n",
       "    <tr>\n",
       "      <th>2</th>\n",
       "      <td>184</td>\n",
       "      <td>184</td>\n",
       "      <td>184</td>\n",
       "      <td>184</td>\n",
       "      <td>173</td>\n",
       "      <td>184</td>\n",
       "      <td>184</td>\n",
       "      <td>184</td>\n",
       "      <td>184</td>\n",
       "      <td>16</td>\n",
       "      <td>184</td>\n",
       "    </tr>\n",
       "    <tr>\n",
       "      <th>3</th>\n",
       "      <td>491</td>\n",
       "      <td>491</td>\n",
       "      <td>491</td>\n",
       "      <td>491</td>\n",
       "      <td>355</td>\n",
       "      <td>491</td>\n",
       "      <td>491</td>\n",
       "      <td>491</td>\n",
       "      <td>491</td>\n",
       "      <td>12</td>\n",
       "      <td>491</td>\n",
       "    </tr>\n",
       "  </tbody>\n",
       "</table>\n",
       "</div>"
      ],
      "text/plain": [
       "        PassengerId  Survived  Name  Sex  Age  SibSp  Parch  Ticket  Fare  \\\n",
       "Pclass                                                                      \n",
       "1               216       216   216  216  186    216    216     216   216   \n",
       "2               184       184   184  184  173    184    184     184   184   \n",
       "3               491       491   491  491  355    491    491     491   491   \n",
       "\n",
       "        Cabin  Embarked  \n",
       "Pclass                   \n",
       "1         176       214  \n",
       "2          16       184  \n",
       "3          12       491  "
      ]
     },
     "execution_count": 397,
     "metadata": {},
     "output_type": "execute_result"
    }
   ],
   "source": [
    "classes = ori_data_train.groupby(['Pclass']).count()\n",
    "classes"
   ]
  },
  {
   "cell_type": "markdown",
   "metadata": {},
   "source": [
    "# Feature Selection"
   ]
  },
  {
   "cell_type": "code",
   "execution_count": 398,
   "metadata": {
    "collapsed": true
   },
   "outputs": [],
   "source": [
    "# filter columns to see if models perfom better\n",
    "\n",
    "#X_train = X_train.drop(\"Fare\", axis=1)\n",
    "\n",
    "#X_train = X_train.drop(\"Embarked_C\", axis=1)\n",
    "#X_train = X_train.drop(\"Embarked_Q\", axis=1)\n",
    "#X_train = X_train.drop(\"Embarked_S\", axis=1)\n",
    "\n",
    "#X_train = X_train.drop(\"Cabin_C\", axis=1)\n",
    "#X_train = X_train.drop(\"Cabin_D\", axis=1)\n",
    "#X_train = X_train.drop(\"Cabin_F\", axis=1)\n",
    "#X_train = X_train.drop(\"Cabin_B\", axis=1)\n",
    "#X_train = X_train.drop(\"Cabin_A\", axis=1)\n",
    "#X_train = X_train.drop(\"Cabin_E\", axis=1)\n",
    "#X_train = X_train.drop(\"Cabin_G\", axis=1)\n",
    "\n",
    "#X_train = X_train.drop(\"Pclass_1\", axis=1)\n",
    "#X_train = X_train.drop(\"Pclass_2\", axis=1)\n",
    "#X_train = X_train.drop(\"Pclass_3\", axis=1)"
   ]
  },
  {
   "cell_type": "markdown",
   "metadata": {},
   "source": [
    "# Train Models"
   ]
  },
  {
   "cell_type": "markdown",
   "metadata": {},
   "source": [
    "## Train Random Forest Classifier"
   ]
  },
  {
   "cell_type": "code",
   "execution_count": 399,
   "metadata": {
    "collapsed": true
   },
   "outputs": [],
   "source": [
    "# try another model using Random Forests which builds a model on top of many models, also called Ensemble Learning\n",
    "from sklearn.ensemble import RandomForestClassifier\n",
    "from sklearn.model_selection import cross_val_predict\n",
    "\n",
    "forest_clf = RandomForestClassifier(max_depth=5, n_estimators=10, max_features=1)\n",
    "y_train_pred_forest = cross_val_predict(forest_clf, X_train, y_train, cv=3)"
   ]
  },
  {
   "cell_type": "code",
   "execution_count": 400,
   "metadata": {},
   "outputs": [
    {
     "data": {
      "text/plain": [
       "array([[496,  53],\n",
       "       [169, 173]])"
      ]
     },
     "execution_count": 400,
     "metadata": {},
     "output_type": "execute_result"
    }
   ],
   "source": [
    "from sklearn.metrics import confusion_matrix\n",
    "\n",
    "y_train_pred = cross_val_predict(forest_clf, X_train, y_train, cv=3)\n",
    "confusion_matrix(y_train, y_train_pred)"
   ]
  },
  {
   "cell_type": "markdown",
   "metadata": {},
   "source": [
    "## Train SVM Classifier"
   ]
  },
  {
   "cell_type": "code",
   "execution_count": 401,
   "metadata": {},
   "outputs": [
    {
     "data": {
      "text/plain": [
       "array([[484,  65],\n",
       "       [100, 242]])"
      ]
     },
     "execution_count": 401,
     "metadata": {},
     "output_type": "execute_result"
    }
   ],
   "source": [
    "from sklearn.svm import SVC\n",
    "\n",
    "svc_clf = SVC()\n",
    "y_svc_train_pred = cross_val_predict(svc_clf, X_train, y_train, cv=3)\n",
    "confusion_matrix(y_train, y_svc_train_pred)"
   ]
  },
  {
   "cell_type": "markdown",
   "metadata": {},
   "source": [
    "## Train KNN Classifier"
   ]
  },
  {
   "cell_type": "code",
   "execution_count": 402,
   "metadata": {},
   "outputs": [
    {
     "data": {
      "text/plain": [
       "array([[454,  95],\n",
       "       [115, 227]])"
      ]
     },
     "execution_count": 402,
     "metadata": {},
     "output_type": "execute_result"
    }
   ],
   "source": [
    "from sklearn.neighbors import KNeighborsClassifier\n",
    "\n",
    "knn_clf = KNeighborsClassifier(weights=\"distance\", n_neighbors=4)\n",
    "y_svc_train_pred = cross_val_predict(knn_clf, X_train, y_train, cv=3)\n",
    "confusion_matrix(y_train, y_svc_train_pred)"
   ]
  },
  {
   "cell_type": "markdown",
   "metadata": {},
   "source": [
    "## Train MLP Classifier"
   ]
  },
  {
   "cell_type": "code",
   "execution_count": 403,
   "metadata": {},
   "outputs": [
    {
     "data": {
      "text/plain": [
       "array([[483,  66],\n",
       "       [110, 232]])"
      ]
     },
     "execution_count": 403,
     "metadata": {},
     "output_type": "execute_result"
    }
   ],
   "source": [
    "from sklearn.neural_network import MLPClassifier\n",
    "\n",
    "nn_clf = MLPClassifier(solver=\"lbfgs\", alpha=1)\n",
    "y_train_pred = cross_val_predict(nn_clf, X_train, y_train, cv=3)\n",
    "confusion_matrix(y_train, y_train_pred)"
   ]
  },
  {
   "cell_type": "markdown",
   "metadata": {},
   "source": [
    "## Train Decision Tree Classifier"
   ]
  },
  {
   "cell_type": "code",
   "execution_count": 404,
   "metadata": {},
   "outputs": [
    {
     "data": {
      "text/plain": [
       "array([[496,  53],\n",
       "       [119, 223]])"
      ]
     },
     "execution_count": 404,
     "metadata": {},
     "output_type": "execute_result"
    }
   ],
   "source": [
    "from sklearn.tree import DecisionTreeClassifier\n",
    "\n",
    "dt_clf = DecisionTreeClassifier(max_depth=5)\n",
    "y_train_pred = cross_val_predict(dt_clf, X_train, y_train, cv=3)\n",
    "confusion_matrix(y_train, y_train_pred)"
   ]
  },
  {
   "cell_type": "markdown",
   "metadata": {},
   "source": [
    "## Train Gaussian Process Classifier"
   ]
  },
  {
   "cell_type": "code",
   "execution_count": 405,
   "metadata": {},
   "outputs": [
    {
     "data": {
      "text/plain": [
       "array([[495,  54],\n",
       "       [118, 224]])"
      ]
     },
     "execution_count": 405,
     "metadata": {},
     "output_type": "execute_result"
    }
   ],
   "source": [
    "from sklearn.gaussian_process import GaussianProcessClassifier\n",
    "from sklearn.gaussian_process.kernels import RBF\n",
    "\n",
    "gp_clf = GaussianProcessClassifier(1.0 * RBF(1.0), warm_start=True)\n",
    "y_train_pred = cross_val_predict(dt_clf, X_train, y_train, cv=3)\n",
    "confusion_matrix(y_train, y_train_pred)"
   ]
  },
  {
   "cell_type": "markdown",
   "metadata": {},
   "source": [
    "# Models Evaluation"
   ]
  },
  {
   "cell_type": "markdown",
   "metadata": {},
   "source": [
    "## Analyse Random Forest Classifier"
   ]
  },
  {
   "cell_type": "code",
   "execution_count": 406,
   "metadata": {},
   "outputs": [
    {
     "name": "stdout",
     "output_type": "stream",
     "text": [
      "Precision: 0.768558951965\n",
      "Recall: 0.514619883041\n"
     ]
    }
   ],
   "source": [
    "from sklearn.metrics import precision_score, recall_score\n",
    "\n",
    "precisions = precision_score(y_train, y_train_pred_forest)\n",
    "print(\"Precision:\", precisions)\n",
    "recalls = recall_score(y_train, y_train_pred_forest)\n",
    "print(\"Recall:\", recalls)"
   ]
  },
  {
   "cell_type": "code",
   "execution_count": 407,
   "metadata": {
    "collapsed": true
   },
   "outputs": [],
   "source": [
    "from sklearn.metrics import precision_recall_curve\n",
    "\n",
    "y_probas_forest = cross_val_predict(forest_clf, X_train, y_train, cv=3,\n",
    "                             method=\"predict_proba\")\n",
    "y_scores_forest = y_probas_forest[:, 1]\n",
    "precisions_forest, recalls_forest, thresholds_forest = precision_recall_curve(y_train, y_scores_forest)"
   ]
  },
  {
   "cell_type": "code",
   "execution_count": 408,
   "metadata": {
    "collapsed": true
   },
   "outputs": [],
   "source": [
    "def plot_precision_vs_recall(precisions, recalls):\n",
    "    plt.plot(recalls, precisions, \"b-\")\n",
    "    plt.xlabel(\"Recall\", fontsize=16)\n",
    "    plt.ylabel(\"Precision\", fontsize=16)\n",
    "    plt.axis([0, 1, 0, 1])"
   ]
  },
  {
   "cell_type": "code",
   "execution_count": 409,
   "metadata": {},
   "outputs": [
    {
     "data": {
      "image/png": "[encoded data removed]",
      "text/plain": [
       "<matplotlib.figure.Figure at 0x7f21c26270f0>"
      ]
     },
     "metadata": {},
     "output_type": "display_data"
    }
   ],
   "source": [
    "plt.figure(figsize=(8, 6))\n",
    "plot_precision_vs_recall(precisions_forest, recalls_forest)\n",
    "plt.show()"
   ]
  },
  {
   "cell_type": "code",
   "execution_count": 410,
   "metadata": {
    "collapsed": true
   },
   "outputs": [],
   "source": [
    "from sklearn.metrics import roc_curve\n",
    "\n",
    "y_probas_forest = cross_val_predict(forest_clf, X_train, y_train, cv=3,\n",
    "                             method=\"predict_proba\")\n",
    "y_scores_forest = y_probas_forest[:, 1]\n",
    "fpr_forest, tpr_forest, thresholds_forest = roc_curve(y_train, y_scores_forest)"
   ]
  },
  {
   "cell_type": "code",
   "execution_count": 411,
   "metadata": {
    "collapsed": true
   },
   "outputs": [],
   "source": [
    "def plot_roc_curve(fpr, tpr, label=None):\n",
    "    plt.plot(fpr, tpr, linewidth=2, label=label)\n",
    "    plt.plot([0, 1], [0, 1], 'k--')\n",
    "    plt.axis([0, 1, 0, 1])\n",
    "    plt.xlabel('False Positive Rate', fontsize=16)\n",
    "    plt.ylabel('True Positive Rate', fontsize=16)"
   ]
  },
  {
   "cell_type": "code",
   "execution_count": 412,
   "metadata": {
    "scrolled": false
   },
   "outputs": [
    {
     "data": {
      "image/png": "[encoded data removed]",
      "text/plain": [
       "<matplotlib.figure.Figure at 0x7f21c237d240>"
      ]
     },
     "metadata": {},
     "output_type": "display_data"
    }
   ],
   "source": [
    "plt.figure(figsize=(8, 6))\n",
    "plot_roc_curve(fpr_forest, tpr_forest, \"Random Forest\")\n",
    "plt.legend(loc=\"lower right\", fontsize=16)\n",
    "plt.show()"
   ]
  },
  {
   "cell_type": "code",
   "execution_count": 413,
   "metadata": {
    "collapsed": true
   },
   "outputs": [],
   "source": [
    "def plot_precision_recall_vs_threshold(precisions, recalls, thresholds):\n",
    "    plt.plot(thresholds, precisions[:-1], \"b--\", label=\"Precision\", linewidth=2)\n",
    "    plt.plot(thresholds, recalls[:-1], \"g-\", label=\"Recall\", linewidth=2)\n",
    "    plt.xlabel(\"Threshold\", fontsize=16)\n",
    "    plt.legend(loc=\"lower left\", fontsize=16)\n",
    "    plt.ylim([0, 1])"
   ]
  },
  {
   "cell_type": "code",
   "execution_count": 414,
   "metadata": {},
   "outputs": [
    {
     "data": {
      "image/png": "[encoded data removed]",
      "text/plain": [
       "<matplotlib.figure.Figure at 0x7f21c23874e0>"
      ]
     },
     "metadata": {},
     "output_type": "display_data"
    }
   ],
   "source": [
    "precisions, recalls, thresholds = precision_recall_curve(y_train, y_scores_forest)\n",
    "plt.figure(figsize=(8, 4))\n",
    "plot_precision_recall_vs_threshold(precisions, recalls, thresholds)\n",
    "plt.show()"
   ]
  },
  {
   "cell_type": "markdown",
   "metadata": {},
   "source": [
    "## Analyse SVM"
   ]
  },
  {
   "cell_type": "code",
   "execution_count": 415,
   "metadata": {
    "collapsed": true
   },
   "outputs": [],
   "source": [
    "svc_clf = SVC(gamma=0.1, C=1, kernel=\"rbf\")\n",
    "\n",
    "y_scores = cross_val_predict(svc_clf, X_train, y_train, cv=3,\n",
    "                             method=\"decision_function\")\n",
    "precisions, recalls, thresholds = precision_recall_curve(y_train, y_scores)"
   ]
  },
  {
   "cell_type": "code",
   "execution_count": 416,
   "metadata": {},
   "outputs": [
    {
     "data": {
      "image/png": "[encoded data removed]",
      "text/plain": [
       "<matplotlib.figure.Figure at 0x7f21c2627dd8>"
      ]
     },
     "metadata": {},
     "output_type": "display_data"
    }
   ],
   "source": [
    "precisions, recalls, thresholds = precision_recall_curve(y_train, y_scores_forest)\n",
    "plt.figure(figsize=(8, 4))\n",
    "plot_precision_recall_vs_threshold(precisions, recalls, thresholds)\n",
    "plt.show()"
   ]
  },
  {
   "cell_type": "code",
   "execution_count": 417,
   "metadata": {},
   "outputs": [
    {
     "data": {
      "image/png": "[encoded data removed]",
      "text/plain": [
       "<matplotlib.figure.Figure at 0x7f21c21f5ef0>"
      ]
     },
     "metadata": {},
     "output_type": "display_data"
    }
   ],
   "source": [
    "plt.figure(figsize=(8, 6))\n",
    "plot_precision_vs_recall(precisions_forest, recalls_forest)\n",
    "plt.show()"
   ]
  },
  {
   "cell_type": "code",
   "execution_count": 418,
   "metadata": {},
   "outputs": [
    {
     "data": {
      "image/png": "[encoded data removed]",
      "text/plain": [
       "<matplotlib.figure.Figure at 0x7f21c2185978>"
      ]
     },
     "metadata": {},
     "output_type": "display_data"
    }
   ],
   "source": [
    "plt.figure(figsize=(8, 6))\n",
    "plot_roc_curve(fpr_forest, tpr_forest)\n",
    "plt.show()"
   ]
  },
  {
   "cell_type": "markdown",
   "metadata": {},
   "source": [
    "# Fine-Tune Models"
   ]
  },
  {
   "cell_type": "markdown",
   "metadata": {},
   "source": [
    "## Tune SVM"
   ]
  },
  {
   "cell_type": "code",
   "execution_count": 419,
   "metadata": {},
   "outputs": [
    {
     "name": "stdout",
     "output_type": "stream",
     "text": [
      "Fitting 3 folds for each of 108 candidates, totalling 324 fits\n",
      "[CV] C=1e-05, gamma=0.001, kernel=linear .............................\n",
      "[CV] C=1e-05, gamma=0.001, kernel=linear .............................\n",
      "[CV] C=1e-05, gamma=0.001, kernel=linear .............................\n",
      "[CV] .............. C=1e-05, gamma=0.001, kernel=linear, total=   0.0s\n",
      "[CV] C=1e-05, gamma=0.001, kernel=rbf ................................\n",
      "[CV] C=1e-05, gamma=0.001, kernel=rbf ................................\n",
      "[CV] .............. C=1e-05, gamma=0.001, kernel=linear, total=   0.0s\n",
      "[CV] .............. C=1e-05, gamma=0.001, kernel=linear, total=   0.0s\n",
      "[CV] C=1e-05, gamma=0.001, kernel=rbf ................................\n",
      "[CV] C=1e-05, gamma=0.01, kernel=linear ..............................\n",
      "[CV] ................. C=1e-05, gamma=0.001, kernel=rbf, total=   0.0s\n",
      "[CV] C=1e-05, gamma=0.01, kernel=linear ..............................\n",
      "[CV] ................. C=1e-05, gamma=0.001, kernel=rbf, total=   0.0s\n",
      "[CV] C=1e-05, gamma=0.01, kernel=linear ..............................\n",
      "[CV] ............... C=1e-05, gamma=0.01, kernel=linear, total=   0.0s\n",
      "[CV] ............... C=1e-05, gamma=0.01, kernel=linear, total=   0.0s\n",
      "[CV] C=1e-05, gamma=0.1, kernel=rbf ..................................\n",
      "[CV] ................. C=1e-05, gamma=0.001, kernel=rbf, total=   0.0s\n",
      "[CV] ............... C=1e-05, gamma=0.01, kernel=linear, total=   0.0s\n",
      "[CV] C=1e-05, gamma=10.0, kernel=linear ..............................\n",
      "[CV] C=1e-05, gamma=100.0, kernel=linear .............................\n",
      "[CV] ............... C=1e-05, gamma=10.0, kernel=linear, total=   0.0s\n",
      "[CV] C=1e-05, gamma=0.01, kernel=rbf .................................\n",
      "[CV] C=1e-05, gamma=10.0, kernel=linear ..............................\n",
      "[CV] ................... C=1e-05, gamma=0.1, kernel=rbf, total=   0.0s\n",
      "[CV] C=1e-05, gamma=0.1, kernel=rbf ..................................\n",
      "[CV] .............. C=1e-05, gamma=100.0, kernel=linear, total=   0.0s\n",
      "[CV] C=1e-05, gamma=100.0, kernel=rbf ................................\n",
      "[CV] ............... C=1e-05, gamma=10.0, kernel=linear, total=   0.0s\n",
      "[CV] C=1e-05, gamma=10.0, kernel=linear ..............................\n",
      "[CV] .................. C=1e-05, gamma=0.01, kernel=rbf, total=   0.0s\n",
      "[CV] C=1e-05, gamma=0.01, kernel=rbf .................................\n",
      "[CV] ............... C=1e-05, gamma=10.0, kernel=linear, total=   0.0s\n",
      "[CV] ................... C=1e-05, gamma=0.1, kernel=rbf, total=   0.0s\n",
      "[CV] C=1e-05, gamma=1, kernel=linear .................................\n",
      "[CV] ................. C=1e-05, gamma=100.0, kernel=rbf, total=   0.0s\n",
      "[CV] C=1e-05, gamma=10.0, kernel=rbf .................................\n",
      "[CV] .................. C=1e-05, gamma=0.01, kernel=rbf, total=   0.0s\n",
      "[CV] C=1e-05, gamma=100.0, kernel=rbf ................................\n",
      "[CV] C=1e-05, gamma=0.01, kernel=rbf .................................\n",
      "[CV] .................. C=1e-05, gamma=10.0, kernel=rbf, total=   0.0s\n",
      "[CV] .................. C=1e-05, gamma=1, kernel=linear, total=   0.0s\n",
      "[CV] .................. C=1e-05, gamma=0.01, kernel=rbf, total=   0.0s\n",
      "[CV] C=1e-05, gamma=10.0, kernel=rbf .................................\n",
      "[CV] C=1e-05, gamma=0.1, kernel=linear ...............................\n",
      "[CV] ................. C=1e-05, gamma=100.0, kernel=rbf, total=   0.0s\n",
      "[CV] C=1e-05, gamma=100.0, kernel=rbf ................................\n",
      "[CV] C=1e-05, gamma=1, kernel=linear .................................\n",
      "[CV] ................ C=1e-05, gamma=0.1, kernel=linear, total=   0.0s\n",
      "[CV] C=1e-05, gamma=0.1, kernel=linear ...............................\n",
      "[CV] .................. C=1e-05, gamma=1, kernel=linear, total=   0.0s\n",
      "[CV] .................. C=1e-05, gamma=10.0, kernel=rbf, total=   0.0s\n",
      "[CV] C=1e-05, gamma=10.0, kernel=rbf .................................\n",
      "[CV] ................ C=1e-05, gamma=0.1, kernel=linear, total=   0.0s\n",
      "[CV] C=1e-05, gamma=1, kernel=linear .................................\n",
      "[CV] C=1e-05, gamma=0.1, kernel=linear ...............................\n",
      "[CV] ................. C=1e-05, gamma=100.0, kernel=rbf, total=   0.0s\n",
      "[CV] C=0.001, gamma=0.001, kernel=linear .............................\n",
      "[CV] ................ C=1e-05, gamma=0.1, kernel=linear, total=   0.0s\n",
      "[CV] .................. C=1e-05, gamma=1, kernel=linear, total=   0.0s\n",
      "[CV] C=1e-05, gamma=0.1, kernel=rbf ..................................\n",
      "[CV] C=1e-05, gamma=1, kernel=rbf ....................................\n",
      "[CV] .............. C=0.001, gamma=0.001, kernel=linear, total=   0.0s\n",
      "[CV] .................. C=1e-05, gamma=10.0, kernel=rbf, total=   0.0s\n",
      "[CV] C=1e-05, gamma=100.0, kernel=linear .............................\n",
      "[CV] C=0.001, gamma=0.001, kernel=linear .............................\n",
      "[CV] ................... C=1e-05, gamma=0.1, kernel=rbf, total=   0.0s\n",
      "[CV] .............. C=1e-05, gamma=100.0, kernel=linear, total=   0.0s\n",
      "[CV] C=0.001, gamma=0.001, kernel=linear .............................\n",
      "[CV] .............. C=0.001, gamma=0.001, kernel=linear, total=   0.0s\n",
      "[CV] C=1e-05, gamma=100.0, kernel=linear .............................\n",
      "[CV] ..................... C=1e-05, gamma=1, kernel=rbf, total=   0.0s\n",
      "[CV] C=0.001, gamma=0.001, kernel=rbf ................................\n",
      "[CV] C=1e-05, gamma=1, kernel=rbf ....................................\n",
      "[CV] .............. C=0.001, gamma=0.001, kernel=linear, total=   0.0s\n",
      "[CV] .............. C=1e-05, gamma=100.0, kernel=linear, total=   0.0s\n",
      "[CV] C=0.001, gamma=0.1, kernel=linear ...............................\n",
      "[CV] C=0.001, gamma=0.001, kernel=rbf ................................\n",
      "[CV] ................. C=0.001, gamma=0.001, kernel=rbf, total=   0.0s\n",
      "[CV] C=0.001, gamma=0.001, kernel=rbf ................................\n",
      "[CV] ................ C=0.001, gamma=0.1, kernel=linear, total=   0.0s\n",
      "[CV] C=0.001, gamma=0.1, kernel=linear ...............................\n",
      "[CV] ..................... C=1e-05, gamma=1, kernel=rbf, total=   0.0s\n",
      "[CV] C=1e-05, gamma=1, kernel=rbf ....................................\n",
      "[CV] ................ C=0.001, gamma=0.1, kernel=linear, total=   0.0s\n",
      "[CV] ................. C=0.001, gamma=0.001, kernel=rbf, total=   0.0s\n",
      "[CV] C=0.001, gamma=0.1, kernel=linear ...............................\n",
      "[CV] C=0.001, gamma=0.01, kernel=linear ..............................\n",
      "[CV] ................. C=0.001, gamma=0.001, kernel=rbf, total=   0.0s\n",
      "[CV] C=0.001, gamma=1, kernel=linear .................................\n",
      "[CV] ..................... C=1e-05, gamma=1, kernel=rbf, total=   0.0s\n",
      "[CV] C=0.001, gamma=10.0, kernel=rbf .................................\n",
      "[CV] ................ C=0.001, gamma=0.1, kernel=linear, total=   0.0s\n",
      "[CV] C=0.001, gamma=0.1, kernel=rbf ..................................\n",
      "[CV] ............... C=0.001, gamma=0.01, kernel=linear, total=   0.0s\n",
      "[CV] C=0.001, gamma=0.01, kernel=linear ..............................\n",
      "[CV] .................. C=0.001, gamma=1, kernel=linear, total=   0.0s\n",
      "[CV] C=0.001, gamma=1, kernel=rbf ....................................\n",
      "[CV] .................. C=0.001, gamma=10.0, kernel=rbf, total=   0.0s\n",
      "[CV] C=0.001, gamma=10.0, kernel=rbf .................................\n",
      "[CV] ................... C=0.001, gamma=0.1, kernel=rbf, total=   0.0s\n",
      "[CV] ............... C=0.001, gamma=0.01, kernel=linear, total=   0.0s\n",
      "[CV] C=0.001, gamma=0.1, kernel=rbf ..................................\n",
      "[CV] C=0.001, gamma=0.01, kernel=linear ..............................\n",
      "[CV] ..................... C=0.001, gamma=1, kernel=rbf, total=   0.0s\n",
      "[CV] ............... C=0.001, gamma=0.01, kernel=linear, total=   0.0s\n",
      "[CV] C=0.001, gamma=1, kernel=rbf ....................................\n",
      "[CV] .................. C=0.001, gamma=10.0, kernel=rbf, total=   0.0s\n",
      "[CV] C=0.001, gamma=0.01, kernel=rbf .................................\n",
      "[CV] ................... C=0.001, gamma=0.1, kernel=rbf, total=   0.0s\n",
      "[CV] C=0.001, gamma=0.1, kernel=rbf ..................................\n",
      "[CV] C=0.001, gamma=100.0, kernel=linear .............................\n",
      "[CV] .............. C=0.001, gamma=100.0, kernel=linear, total=   0.0s\n",
      "[CV] ..................... C=0.001, gamma=1, kernel=rbf, total=   0.0s\n",
      "[CV] C=0.001, gamma=1, kernel=rbf ....................................\n"
     ]
    },
    {
     "name": "stdout",
     "output_type": "stream",
     "text": [
      "[CV] C=0.001, gamma=100.0, kernel=linear .............................\n",
      "[CV] ................... C=0.001, gamma=0.1, kernel=rbf, total=   0.0s\n",
      "[CV] C=0.001, gamma=1, kernel=linear .................................\n",
      "[CV] .................. C=0.001, gamma=0.01, kernel=rbf, total=   0.0s\n",
      "[CV] C=0.001, gamma=0.01, kernel=rbf .................................\n",
      "[CV] ..................... C=0.001, gamma=1, kernel=rbf, total=   0.0s\n",
      "[CV] .................. C=0.001, gamma=1, kernel=linear, total=   0.0s\n",
      "[CV] C=0.001, gamma=10.0, kernel=linear ..............................\n",
      "[CV] .............. C=0.001, gamma=100.0, kernel=linear, total=   0.0s\n",
      "[CV] C=0.001, gamma=1, kernel=linear .................................\n",
      "[CV] C=0.001, gamma=100.0, kernel=linear .............................\n",
      "[CV] .................. C=0.001, gamma=0.01, kernel=rbf, total=   0.0s\n",
      "[CV] .................. C=0.001, gamma=1, kernel=linear, total=   0.0s\n",
      "[CV] C=0.001, gamma=0.01, kernel=rbf .................................\n",
      "[CV] C=0.01, gamma=0.001, kernel=linear ..............................\n",
      "[CV] ............... C=0.001, gamma=10.0, kernel=linear, total=   0.0s\n",
      "[CV] .............. C=0.001, gamma=100.0, kernel=linear, total=   0.0s\n",
      "[CV] C=0.001, gamma=10.0, kernel=linear ..............................\n",
      "[CV] C=0.001, gamma=100.0, kernel=rbf ................................\n",
      "[CV] .................. C=0.001, gamma=0.01, kernel=rbf, total=   0.0s\n",
      "[CV] ............... C=0.01, gamma=0.001, kernel=linear, total=   0.0s\n",
      "[CV] C=0.01, gamma=0.01, kernel=linear ...............................\n",
      "[CV] C=0.01, gamma=0.001, kernel=linear ..............................\n",
      "[CV] ................. C=0.001, gamma=100.0, kernel=rbf, total=   0.0s\n",
      "[CV] ............... C=0.001, gamma=10.0, kernel=linear, total=   0.0s\n",
      "[CV] ............... C=0.01, gamma=0.001, kernel=linear, total=   0.0s\n",
      "[CV] ................ C=0.01, gamma=0.01, kernel=linear, total=   0.0s\n",
      "[CV] C=0.01, gamma=0.001, kernel=linear ..............................\n",
      "[CV] C=0.01, gamma=0.01, kernel=rbf ..................................\n",
      "[CV] C=0.001, gamma=10.0, kernel=linear ..............................\n",
      "[CV] C=0.001, gamma=100.0, kernel=rbf ................................\n",
      "[CV] ............... C=0.01, gamma=0.001, kernel=linear, total=   0.0s\n",
      "[CV] C=0.01, gamma=0.001, kernel=rbf .................................\n",
      "[CV] ............... C=0.001, gamma=10.0, kernel=linear, total=   0.0s\n",
      "[CV] C=0.001, gamma=10.0, kernel=rbf .................................\n",
      "[CV] .................. C=0.01, gamma=0.001, kernel=rbf, total=   0.0s\n",
      "[CV] C=0.01, gamma=0.001, kernel=rbf .................................\n",
      "[CV] .................. C=0.001, gamma=10.0, kernel=rbf, total=   0.0s\n",
      "[CV] C=0.01, gamma=0.1, kernel=rbf ...................................\n",
      "[CV] ................. C=0.001, gamma=100.0, kernel=rbf, total=   0.0s\n",
      "[CV] ................... C=0.01, gamma=0.01, kernel=rbf, total=   0.0s\n",
      "[CV] C=0.01, gamma=0.01, kernel=rbf ..................................\n",
      "[CV] C=0.001, gamma=100.0, kernel=rbf ................................\n",
      "[CV] .................. C=0.01, gamma=0.001, kernel=rbf, total=   0.0s\n",
      "[CV] C=0.01, gamma=0.001, kernel=rbf .................................\n",
      "[CV] .................... C=0.01, gamma=0.1, kernel=rbf, total=   0.0s\n",
      "[CV] C=0.01, gamma=0.1, kernel=rbf ...................................\n",
      "[CV] ................... C=0.01, gamma=0.01, kernel=rbf, total=   0.0s\n",
      "[CV] .................... C=0.01, gamma=0.1, kernel=rbf, total=   0.0s\n",
      "[CV] C=0.01, gamma=1, kernel=linear ..................................\n",
      "[CV] C=0.01, gamma=0.01, kernel=rbf ..................................\n",
      "[CV] ................. C=0.001, gamma=100.0, kernel=rbf, total=   0.0s\n",
      "[CV] .................. C=0.01, gamma=0.001, kernel=rbf, total=   0.0s\n",
      "[CV] C=0.01, gamma=0.01, kernel=linear ...............................\n",
      "[CV] ................... C=0.01, gamma=1, kernel=linear, total=   0.0s\n",
      "[CV] C=0.01, gamma=1, kernel=linear ..................................\n",
      "[CV] ................ C=0.01, gamma=0.01, kernel=linear, total=   0.0s\n",
      "[CV] C=0.01, gamma=0.01, kernel=linear ...............................\n",
      "[CV] C=0.01, gamma=10.0, kernel=linear ...............................\n",
      "[CV] ................... C=0.01, gamma=1, kernel=linear, total=   0.0s\n",
      "[CV] C=0.01, gamma=1, kernel=linear ..................................\n",
      "[CV] ................... C=0.01, gamma=0.01, kernel=rbf, total=   0.0s\n",
      "[CV] ................ C=0.01, gamma=0.01, kernel=linear, total=   0.0s\n",
      "[CV] C=0.01, gamma=0.1, kernel=linear ................................\n",
      "[CV] ................ C=0.01, gamma=10.0, kernel=linear, total=   0.0s\n",
      "[CV] C=0.01, gamma=10.0, kernel=linear ...............................\n",
      "[CV] C=0.01, gamma=100.0, kernel=linear ..............................\n",
      "[CV] ................... C=0.01, gamma=1, kernel=linear, total=   0.0s\n",
      "[CV] ................. C=0.01, gamma=0.1, kernel=linear, total=   0.0s\n",
      "[CV] C=0.01, gamma=1, kernel=rbf .....................................\n",
      "[CV] C=0.01, gamma=0.1, kernel=linear ................................\n",
      "[CV] ................ C=0.01, gamma=10.0, kernel=linear, total=   0.0s\n",
      "[CV] C=0.01, gamma=10.0, kernel=linear ...............................\n",
      "[CV] ............... C=0.01, gamma=100.0, kernel=linear, total=   0.0s\n",
      "[CV] ................. C=0.01, gamma=0.1, kernel=linear, total=   0.0s\n",
      "[CV] C=0.01, gamma=0.1, kernel=linear ................................\n",
      "[CV] ................ C=0.01, gamma=10.0, kernel=linear, total=   0.0s\n",
      "[CV] C=0.01, gamma=100.0, kernel=rbf .................................\n",
      "[CV] ................. C=0.01, gamma=0.1, kernel=linear, total=   0.0s\n",
      "[CV] C=0.01, gamma=0.1, kernel=rbf ...................................\n",
      "[CV] ...................... C=0.01, gamma=1, kernel=rbf, total=   0.0s\n",
      "[CV] C=0.01, gamma=10.0, kernel=rbf ..................................\n",
      "[CV] C=0.01, gamma=1, kernel=rbf .....................................\n",
      "[CV] .................... C=0.01, gamma=0.1, kernel=rbf, total=   0.0s\n",
      "[CV] C=0.1, gamma=0.001, kernel=rbf ..................................\n",
      "[CV] ...................... C=0.01, gamma=1, kernel=rbf, total=   0.0s\n",
      "[CV] C=0.01, gamma=1, kernel=rbf .....................................\n",
      "[CV] .................. C=0.01, gamma=100.0, kernel=rbf, total=   0.0s\n",
      "[CV] C=0.01, gamma=100.0, kernel=rbf .................................\n",
      "[CV] ................... C=0.01, gamma=10.0, kernel=rbf, total=   0.0s\n",
      "[CV] C=0.01, gamma=10.0, kernel=rbf ..................................\n",
      "[CV] ...................... C=0.01, gamma=1, kernel=rbf, total=   0.0s\n",
      "[CV] C=0.1, gamma=0.1, kernel=linear .................................\n",
      "[CV] .................. C=0.01, gamma=100.0, kernel=rbf, total=   0.0s\n",
      "[CV] C=0.01, gamma=100.0, kernel=rbf .................................\n",
      "[CV] .................. C=0.1, gamma=0.1, kernel=linear, total=   0.0s\n",
      "[CV] ................... C=0.1, gamma=0.001, kernel=rbf, total=   0.0s\n",
      "[CV] ................... C=0.01, gamma=10.0, kernel=rbf, total=   0.0s\n",
      "[CV] C=0.01, gamma=10.0, kernel=rbf ..................................\n",
      "[CV] C=0.1, gamma=0.1, kernel=linear .................................\n",
      "[CV] C=0.1, gamma=0.001, kernel=rbf ..................................\n",
      "[CV] .................. C=0.1, gamma=0.1, kernel=linear, total=   0.0s\n",
      "[CV] C=0.1, gamma=0.1, kernel=linear .................................\n",
      "[CV] .................. C=0.01, gamma=100.0, kernel=rbf, total=   0.0s\n",
      "[CV] .................. C=0.1, gamma=0.1, kernel=linear, total=   0.0s\n",
      "[CV] C=0.1, gamma=0.1, kernel=rbf ....................................\n",
      "[CV] C=0.1, gamma=0.001, kernel=linear ...............................\n",
      "[CV] ................... C=0.01, gamma=10.0, kernel=rbf, total=   0.0s\n",
      "[CV] ................... C=0.1, gamma=0.001, kernel=rbf, total=   0.0s\n",
      "[CV] C=0.1, gamma=0.01, kernel=linear ................................\n",
      "[CV] ................ C=0.1, gamma=0.001, kernel=linear, total=   0.0s\n",
      "[CV] C=0.01, gamma=100.0, kernel=linear ..............................\n",
      "[CV] C=0.1, gamma=0.001, kernel=linear ...............................\n",
      "[CV] ............... C=0.01, gamma=100.0, kernel=linear, total=   0.0s\n",
      "[CV] ................ C=0.1, gamma=0.001, kernel=linear, total=   0.0s\n",
      "[CV] ................. C=0.1, gamma=0.01, kernel=linear, total=   0.0s\n"
     ]
    },
    {
     "name": "stdout",
     "output_type": "stream",
     "text": [
      "[CV] C=0.01, gamma=100.0, kernel=linear ..............................\n",
      "[CV] C=0.1, gamma=0.001, kernel=linear ...............................\n",
      "[CV] C=0.1, gamma=0.01, kernel=linear ................................\n",
      "[CV] ..................... C=0.1, gamma=0.1, kernel=rbf, total=   0.0s\n",
      "[CV] C=0.1, gamma=0.1, kernel=rbf ....................................\n",
      "[CV] ............... C=0.01, gamma=100.0, kernel=linear, total=   0.0s\n",
      "[CV] ................ C=0.1, gamma=0.001, kernel=linear, total=   0.0s\n",
      "[CV] ................. C=0.1, gamma=0.01, kernel=linear, total=   0.0s\n",
      "[CV] C=0.1, gamma=0.01, kernel=linear ................................\n",
      "[CV] C=0.1, gamma=0.001, kernel=rbf ..................................\n",
      "[CV] C=0.1, gamma=1, kernel=linear ...................................\n",
      "[CV] ..................... C=0.1, gamma=0.1, kernel=rbf, total=   0.0s\n",
      "[CV] .................... C=0.1, gamma=1, kernel=linear, total=   0.0s\n",
      "[CV] C=0.1, gamma=1, kernel=rbf ......................................\n",
      "[CV] C=0.1, gamma=0.1, kernel=rbf ....................................\n",
      "[CV] ................. C=0.1, gamma=0.01, kernel=linear, total=   0.0s\n",
      "[CV] ................... C=0.1, gamma=0.001, kernel=rbf, total=   0.0s\n",
      "[CV] C=0.1, gamma=0.01, kernel=rbf ...................................\n",
      "[CV] C=0.1, gamma=10.0, kernel=rbf ...................................\n",
      "[CV] ..................... C=0.1, gamma=0.1, kernel=rbf, total=   0.0s\n",
      "[CV] C=0.1, gamma=1, kernel=linear ...................................\n",
      "[CV] .................... C=0.1, gamma=0.01, kernel=rbf, total=   0.0s\n",
      "[CV] C=0.1, gamma=0.01, kernel=rbf ...................................\n",
      "[CV] ....................... C=0.1, gamma=1, kernel=rbf, total=   0.0s\n",
      "[CV] .................... C=0.1, gamma=1, kernel=linear, total=   0.0s\n",
      "[CV] C=0.1, gamma=1, kernel=linear ...................................\n",
      "[CV] C=0.1, gamma=1, kernel=rbf ......................................\n",
      "[CV] .................... C=0.1, gamma=10.0, kernel=rbf, total=   0.0s\n",
      "[CV] C=0.1, gamma=10.0, kernel=rbf ...................................\n",
      "[CV] .................... C=0.1, gamma=1, kernel=linear, total=   0.0s\n",
      "[CV] C=1, gamma=0.001, kernel=linear .................................\n",
      "[CV] .................... C=0.1, gamma=0.01, kernel=rbf, total=   0.0s\n",
      "[CV] ....................... C=0.1, gamma=1, kernel=rbf, total=   0.0s\n",
      "[CV] .................... C=0.1, gamma=10.0, kernel=rbf, total=   0.0s\n",
      "[CV] C=0.1, gamma=1, kernel=rbf ......................................\n",
      "[CV] C=0.1, gamma=0.01, kernel=rbf ...................................\n",
      "[CV] C=0.1, gamma=100.0, kernel=linear ...............................\n",
      "[CV] .................. C=1, gamma=0.001, kernel=linear, total=   0.0s\n",
      "[CV] C=1, gamma=0.001, kernel=linear .................................\n",
      "[CV] ................ C=0.1, gamma=100.0, kernel=linear, total=   0.0s\n",
      "[CV] C=0.1, gamma=100.0, kernel=linear ...............................\n",
      "[CV] ....................... C=0.1, gamma=1, kernel=rbf, total=   0.0s\n",
      "[CV] .................... C=0.1, gamma=0.01, kernel=rbf, total=   0.0s\n",
      "[CV] ................ C=0.1, gamma=100.0, kernel=linear, total=   0.0s\n",
      "[CV] C=0.1, gamma=10.0, kernel=linear ................................\n",
      "[CV] C=0.1, gamma=100.0, kernel=linear ...............................\n",
      "[CV] .................. C=1, gamma=0.001, kernel=linear, total=   0.0s\n",
      "[CV] C=1, gamma=0.001, kernel=linear .................................\n",
      "[CV] C=1, gamma=0.01, kernel=linear ..................................\n",
      "[CV] .................. C=1, gamma=0.001, kernel=linear, total=   0.0s\n",
      "[CV] C=1, gamma=0.001, kernel=rbf ....................................\n",
      "[CV] C=0.1, gamma=10.0, kernel=linear ................................\n",
      "[CV] ................ C=0.1, gamma=100.0, kernel=linear, total=   0.0s\n",
      "[CV] ................. C=0.1, gamma=10.0, kernel=linear, total=   0.0s\n",
      "[CV] C=0.1, gamma=100.0, kernel=rbf ..................................\n",
      "[CV] ................... C=1, gamma=0.01, kernel=linear, total=   0.0s\n",
      "[CV] ................. C=0.1, gamma=10.0, kernel=linear, total=   0.0s\n",
      "[CV] C=0.1, gamma=10.0, kernel=linear ................................\n",
      "[CV] C=1, gamma=0.01, kernel=rbf .....................................\n",
      "[CV] ................. C=0.1, gamma=10.0, kernel=linear, total=   0.0s\n",
      "[CV] C=0.1, gamma=10.0, kernel=rbf ...................................\n",
      "[CV] ...................... C=1, gamma=0.01, kernel=rbf, total=   0.0s\n",
      "[CV] C=1, gamma=0.01, kernel=rbf .....................................\n",
      "[CV] ................... C=0.1, gamma=100.0, kernel=rbf, total=   0.0s\n",
      "[CV] C=0.1, gamma=100.0, kernel=rbf ..................................\n",
      "[CV] ..................... C=1, gamma=0.001, kernel=rbf, total=   0.0s\n",
      "[CV] C=1, gamma=0.001, kernel=rbf ....................................\n",
      "[CV] ...................... C=1, gamma=0.01, kernel=rbf, total=   0.0s\n",
      "[CV] C=1, gamma=0.01, kernel=rbf .....................................\n",
      "[CV] .................... C=0.1, gamma=10.0, kernel=rbf, total=   0.0s\n",
      "[CV] C=1, gamma=0.1, kernel=rbf ......................................\n",
      "[CV] ...................... C=1, gamma=0.01, kernel=rbf, total=   0.0s\n",
      "[CV] C=1, gamma=0.1, kernel=linear ...................................\n",
      "[CV] ..................... C=1, gamma=0.001, kernel=rbf, total=   0.0s\n",
      "[CV] ................... C=0.1, gamma=100.0, kernel=rbf, total=   0.0s\n",
      "[CV] C=1, gamma=0.001, kernel=rbf ....................................\n",
      "[CV] C=0.1, gamma=100.0, kernel=rbf ..................................\n",
      "[CV] .................... C=1, gamma=0.1, kernel=linear, total=   0.0s\n",
      "[CV] ....................... C=1, gamma=0.1, kernel=rbf, total=   0.0s\n",
      "[CV] C=1, gamma=0.1, kernel=linear ...................................\n",
      "[CV] ..................... C=1, gamma=0.001, kernel=rbf, total=   0.0s\n",
      "[CV] C=1, gamma=0.1, kernel=rbf ......................................\n",
      "[CV] C=1, gamma=0.01, kernel=linear ..................................\n",
      "[CV] .................... C=1, gamma=0.1, kernel=linear, total=   0.0s\n",
      "[CV] C=1, gamma=0.1, kernel=linear ...................................\n",
      "[CV] ................... C=1, gamma=0.01, kernel=linear, total=   0.0s\n",
      "[CV] C=1, gamma=0.01, kernel=linear ..................................\n",
      "[CV] ....................... C=1, gamma=0.1, kernel=rbf, total=   0.0s\n",
      "[CV] ................... C=0.1, gamma=100.0, kernel=rbf, total=   0.0s\n",
      "[CV] .................... C=1, gamma=0.1, kernel=linear, total=   0.0s\n",
      "[CV] ................... C=1, gamma=0.01, kernel=linear, total=   0.0s\n",
      "[CV] C=1, gamma=0.1, kernel=rbf ......................................\n",
      "[CV] C=1, gamma=100.0, kernel=linear .................................\n",
      "[CV] C=1, gamma=10.0, kernel=linear ..................................\n",
      "[CV] C=1, gamma=1, kernel=linear .....................................\n",
      "[CV] .................. C=1, gamma=100.0, kernel=linear, total=   0.0s\n",
      "[CV] C=1, gamma=100.0, kernel=rbf ....................................\n",
      "[CV] ....................... C=1, gamma=0.1, kernel=rbf, total=   0.0s\n",
      "[CV] ................... C=1, gamma=10.0, kernel=linear, total=   0.0s\n",
      "[CV] C=10, gamma=0.001, kernel=rbf ...................................\n",
      "[CV] C=1, gamma=10.0, kernel=linear ..................................\n",
      "[CV] ...................... C=1, gamma=1, kernel=linear, total=   0.0s\n",
      "[CV] C=1, gamma=1, kernel=linear .....................................\n",
      "[CV] ................... C=1, gamma=10.0, kernel=linear, total=   0.0s\n",
      "[CV] C=1, gamma=10.0, kernel=linear ..................................\n",
      "[CV] ................... C=1, gamma=10.0, kernel=linear, total=   0.0s\n",
      "[CV] C=1, gamma=10.0, kernel=rbf .....................................\n",
      "[CV] ...................... C=1, gamma=1, kernel=linear, total=   0.0s\n",
      "[CV] C=1, gamma=1, kernel=linear .....................................\n",
      "[CV] .................... C=10, gamma=0.001, kernel=rbf, total=   0.0s\n",
      "[CV] ..................... C=1, gamma=100.0, kernel=rbf, total=   0.0s\n",
      "[CV] C=1, gamma=100.0, kernel=rbf ....................................\n",
      "[CV] C=10, gamma=0.001, kernel=rbf ...................................\n",
      "[CV] ...................... C=1, gamma=1, kernel=linear, total=   0.0s\n",
      "[CV] ...................... C=1, gamma=10.0, kernel=rbf, total=   0.0s\n",
      "[CV] C=1, gamma=1, kernel=rbf ........................................\n"
     ]
    },
    {
     "name": "stdout",
     "output_type": "stream",
     "text": [
      "[CV] C=1, gamma=10.0, kernel=rbf .....................................\n",
      "[CV] ..................... C=1, gamma=100.0, kernel=rbf, total=   0.0s\n",
      "[CV] C=1, gamma=100.0, kernel=rbf ....................................\n",
      "[CV] .................... C=10, gamma=0.001, kernel=rbf, total=   0.0s\n",
      "[CV] C=10, gamma=0.01, kernel=linear .................................\n",
      "[CV] ......................... C=1, gamma=1, kernel=rbf, total=   0.0s\n",
      "[CV] ...................... C=1, gamma=10.0, kernel=rbf, total=   0.0s\n",
      "[CV] C=1, gamma=10.0, kernel=rbf .....................................\n",
      "[CV] C=1, gamma=1, kernel=rbf ........................................\n",
      "[CV] ..................... C=1, gamma=100.0, kernel=rbf, total=   0.0s\n",
      "[CV] C=10, gamma=0.001, kernel=linear ................................\n",
      "[CV] .................. C=10, gamma=0.01, kernel=linear, total=   0.1s\n",
      "[CV] C=10, gamma=0.01, kernel=linear .................................\n",
      "[CV] ...................... C=1, gamma=10.0, kernel=rbf, total=   0.0s\n",
      "[CV] C=1, gamma=100.0, kernel=linear .................................\n",
      "[CV] .................. C=1, gamma=100.0, kernel=linear, total=   0.0s\n",
      "[CV] C=1, gamma=100.0, kernel=linear .................................\n",
      "[CV] ......................... C=1, gamma=1, kernel=rbf, total=   0.0s\n",
      "[CV] .................. C=10, gamma=0.01, kernel=linear, total=   0.0s\n",
      "[CV] ................. C=10, gamma=0.001, kernel=linear, total=   0.1s\n",
      "[CV] C=1, gamma=1, kernel=rbf ........................................\n",
      "[CV] C=10, gamma=0.001, kernel=linear ................................\n",
      "[CV] .................. C=1, gamma=100.0, kernel=linear, total=   0.0s\n",
      "[CV] C=10, gamma=0.1, kernel=linear ..................................\n",
      "[CV] C=10, gamma=0.01, kernel=linear .................................\n",
      "[CV] ................. C=10, gamma=0.001, kernel=linear, total=   0.0s\n",
      "[CV] .................. C=10, gamma=0.01, kernel=linear, total=   0.0s\n",
      "[CV] C=10, gamma=0.001, kernel=linear ................................\n",
      "[CV] ......................... C=1, gamma=1, kernel=rbf, total=   0.0s\n",
      "[CV] C=10, gamma=0.01, kernel=rbf ....................................\n",
      "[CV] C=10, gamma=1, kernel=linear ....................................\n",
      "[CV] ................. C=10, gamma=0.001, kernel=linear, total=   0.0s\n",
      "[CV] C=10, gamma=0.001, kernel=rbf ...................................\n",
      "[CV] ..................... C=10, gamma=1, kernel=linear, total=   0.0s\n",
      "[CV] C=10, gamma=1, kernel=rbf .......................................\n",
      "[CV] ................... C=10, gamma=0.1, kernel=linear, total=   0.1s\n",
      "[CV] ..................... C=10, gamma=0.01, kernel=rbf, total=   0.0s\n",
      "[CV] C=10, gamma=0.1, kernel=linear ..................................\n",
      "[CV] .................... C=10, gamma=0.001, kernel=rbf, total=   0.0s\n",
      "[CV] C=10, gamma=10.0, kernel=rbf ....................................\n",
      "[CV] C=10, gamma=0.01, kernel=rbf ....................................\n",
      "[CV] ................... C=10, gamma=0.1, kernel=linear, total=   0.0s\n",
      "[CV] C=10, gamma=0.1, kernel=linear ..................................\n",
      "[CV] ..................... C=10, gamma=0.01, kernel=rbf, total=   0.0s\n",
      "[CV] ........................ C=10, gamma=1, kernel=rbf, total=   0.0s\n",
      "[CV] C=10, gamma=1, kernel=rbf .......................................\n",
      "[CV] C=10, gamma=0.01, kernel=rbf ....................................\n",
      "[CV] ..................... C=10, gamma=10.0, kernel=rbf, total=   0.0s\n",
      "[CV] ................... C=10, gamma=0.1, kernel=linear, total=   0.0s\n",
      "[CV] C=10, gamma=0.1, kernel=rbf .....................................\n",
      "[CV] C=10, gamma=10.0, kernel=rbf ....................................\n",
      "[CV] ........................ C=10, gamma=1, kernel=rbf, total=   0.0s\n",
      "[CV] ...................... C=10, gamma=0.1, kernel=rbf, total=   0.0s\n",
      "[CV] C=10, gamma=1, kernel=rbf .......................................\n",
      "[CV] C=10, gamma=0.1, kernel=rbf .....................................\n",
      "[CV] ..................... C=10, gamma=0.01, kernel=rbf, total=   0.0s\n",
      "[CV] C=30, gamma=0.001, kernel=linear ................................\n",
      "[CV] ...................... C=10, gamma=0.1, kernel=rbf, total=   0.0s\n",
      "[CV] C=10, gamma=0.1, kernel=rbf .....................................\n",
      "[CV] ..................... C=10, gamma=10.0, kernel=rbf, total=   0.0s\n",
      "[CV] C=10, gamma=100.0, kernel=linear ................................\n",
      "[CV] ...................... C=10, gamma=0.1, kernel=rbf, total=   0.0s\n",
      "[CV] ........................ C=10, gamma=1, kernel=rbf, total=   0.1s\n",
      "[CV] C=10, gamma=1, kernel=linear ....................................\n",
      "[CV] ................. C=10, gamma=100.0, kernel=linear, total=   0.1s\n",
      "[CV] C=10, gamma=100.0, kernel=linear ................................\n",
      "[CV] C=10, gamma=10.0, kernel=linear .................................\n",
      "[CV] ................. C=10, gamma=100.0, kernel=linear, total=   0.0s\n",
      "[CV] C=10, gamma=100.0, kernel=linear ................................\n",
      "[CV] ..................... C=10, gamma=1, kernel=linear, total=   0.1s\n",
      "[CV] ................. C=10, gamma=100.0, kernel=linear, total=   0.0s\n",
      "[CV] C=10, gamma=1, kernel=linear ....................................\n",
      "[CV] C=10, gamma=100.0, kernel=rbf ...................................\n",
      "[CV] .................. C=10, gamma=10.0, kernel=linear, total=   0.1s\n",
      "[CV] C=10, gamma=10.0, kernel=linear .................................\n",
      "[CV] ................. C=30, gamma=0.001, kernel=linear, total=   0.2s\n",
      "[CV] C=30, gamma=0.001, kernel=linear ................................\n",
      "[CV] ..................... C=10, gamma=1, kernel=linear, total=   0.0s\n",
      "[CV] C=30, gamma=0.01, kernel=linear .................................\n",
      "[CV] C=10, gamma=10.0, kernel=linear .................................\n",
      "[CV] .................. C=10, gamma=10.0, kernel=linear, total=   0.0s\n",
      "[CV] .................... C=10, gamma=100.0, kernel=rbf, total=   0.0s\n",
      "[CV] C=10, gamma=100.0, kernel=rbf ...................................\n",
      "[CV] .................. C=10, gamma=10.0, kernel=linear, total=   0.0s\n",
      "[CV] .................. C=30, gamma=0.01, kernel=linear, total=   0.0s\n",
      "[CV] C=10, gamma=10.0, kernel=rbf ....................................\n",
      "[CV] C=30, gamma=0.01, kernel=rbf ....................................\n",
      "[CV] .................... C=10, gamma=100.0, kernel=rbf, total=   0.0s\n",
      "[CV] ..................... C=30, gamma=0.01, kernel=rbf, total=   0.0s\n",
      "[CV] C=10, gamma=100.0, kernel=rbf ...................................\n",
      "[CV] C=30, gamma=0.01, kernel=rbf ....................................\n",
      "[CV] ..................... C=10, gamma=10.0, kernel=rbf, total=   0.0s\n",
      "[CV] ..................... C=30, gamma=0.01, kernel=rbf, total=   0.0s\n",
      "[CV] C=30, gamma=0.1, kernel=rbf .....................................\n",
      "[CV] ................. C=30, gamma=0.001, kernel=linear, total=   0.1s\n",
      "[CV] C=30, gamma=0.01, kernel=rbf ....................................\n",
      "[CV] .................... C=10, gamma=100.0, kernel=rbf, total=   0.0s\n",
      "[CV] C=30, gamma=0.001, kernel=linear ................................\n",
      "[CV] C=30, gamma=10.0, kernel=linear .................................\n",
      "[CV] ...................... C=30, gamma=0.1, kernel=rbf, total=   0.0s\n",
      "[CV] ..................... C=30, gamma=0.01, kernel=rbf, total=   0.0s\n",
      "[CV] C=30, gamma=0.1, kernel=linear ..................................\n",
      "[CV] C=30, gamma=0.1, kernel=rbf .....................................\n",
      "[CV] ................. C=30, gamma=0.001, kernel=linear, total=   0.0s\n",
      "[CV] C=30, gamma=0.001, kernel=rbf ...................................\n",
      "[CV] ...................... C=30, gamma=0.1, kernel=rbf, total=   0.0s\n",
      "[CV] C=30, gamma=1, kernel=linear ....................................\n",
      "[CV] .................... C=30, gamma=0.001, kernel=rbf, total=   0.0s\n",
      "[CV] C=30, gamma=0.001, kernel=rbf ...................................\n",
      "[CV] .................... C=30, gamma=0.001, kernel=rbf, total=   0.0s\n",
      "[CV] C=30, gamma=0.001, kernel=rbf ...................................\n",
      "[CV] .................. C=30, gamma=10.0, kernel=linear, total=   0.2s\n",
      "[CV] .................... C=30, gamma=0.001, kernel=rbf, total=   0.0s\n",
      "[CV] C=30, gamma=10.0, kernel=linear .................................\n",
      "[CV] C=30, gamma=0.01, kernel=linear .................................\n"
     ]
    },
    {
     "name": "stderr",
     "output_type": "stream",
     "text": [
      "[Parallel(n_jobs=4)]: Done 208 tasks      | elapsed:    2.3s\n"
     ]
    },
    {
     "name": "stdout",
     "output_type": "stream",
     "text": [
      "[CV] ................... C=30, gamma=0.1, kernel=linear, total=   0.2s\n",
      "[CV] C=30, gamma=0.1, kernel=linear ..................................\n",
      "[CV] ..................... C=30, gamma=1, kernel=linear, total=   0.2s\n",
      "[CV] .................. C=30, gamma=10.0, kernel=linear, total=   0.1s\n",
      "[CV] C=30, gamma=10.0, kernel=linear .................................\n",
      "[CV] C=30, gamma=1, kernel=linear ....................................\n",
      "[CV] .................. C=30, gamma=10.0, kernel=linear, total=   0.0s\n",
      "[CV] C=30, gamma=10.0, kernel=rbf ....................................\n",
      "[CV] ................... C=30, gamma=0.1, kernel=linear, total=   0.1s\n",
      "[CV] C=30, gamma=0.1, kernel=linear ..................................\n",
      "[CV] .................. C=30, gamma=0.01, kernel=linear, total=   0.2s\n",
      "[CV] C=30, gamma=0.01, kernel=linear .................................\n",
      "[CV] ................... C=30, gamma=0.1, kernel=linear, total=   0.0s\n",
      "[CV] C=30, gamma=0.1, kernel=rbf .....................................\n",
      "[CV] ..................... C=30, gamma=10.0, kernel=rbf, total=   0.0s\n",
      "[CV] C=30, gamma=10.0, kernel=rbf ....................................\n",
      "[CV] ..................... C=30, gamma=1, kernel=linear, total=   0.1s\n",
      "[CV] C=30, gamma=1, kernel=linear ....................................\n",
      "[CV] ...................... C=30, gamma=0.1, kernel=rbf, total=   0.0s\n",
      "[CV] ..................... C=30, gamma=1, kernel=linear, total=   0.0s\n",
      "[CV] C=30, gamma=1, kernel=rbf .......................................\n",
      "[CV] C=30, gamma=100.0, kernel=linear ................................\n",
      "[CV] ..................... C=30, gamma=10.0, kernel=rbf, total=   0.1s\n",
      "[CV] C=30, gamma=10.0, kernel=rbf ....................................\n",
      "[CV] .................. C=30, gamma=0.01, kernel=linear, total=   0.1s\n",
      "[CV] C=50, gamma=0.001, kernel=rbf ...................................\n",
      "[CV] ................. C=30, gamma=100.0, kernel=linear, total=   0.0s\n",
      "[CV] ........................ C=30, gamma=1, kernel=rbf, total=   0.0s\n",
      "[CV] C=30, gamma=100.0, kernel=rbf ...................................\n",
      "[CV] C=30, gamma=1, kernel=rbf .......................................\n",
      "[CV] .................... C=30, gamma=100.0, kernel=rbf, total=   0.0s\n",
      "[CV] .................... C=50, gamma=0.001, kernel=rbf, total=   0.0s\n",
      "[CV] C=30, gamma=100.0, kernel=rbf ...................................\n",
      "[CV] ........................ C=30, gamma=1, kernel=rbf, total=   0.0s\n",
      "[CV] C=30, gamma=1, kernel=rbf .......................................\n",
      "[CV] C=50, gamma=0.001, kernel=rbf ...................................\n",
      "[CV] ..................... C=30, gamma=10.0, kernel=rbf, total=   0.1s\n",
      "[CV] C=30, gamma=100.0, kernel=linear ................................\n",
      "[CV] ........................ C=30, gamma=1, kernel=rbf, total=   0.0s\n",
      "[CV] .................... C=50, gamma=0.001, kernel=rbf, total=   0.0s\n",
      "[CV] C=50, gamma=0.1, kernel=linear ..................................\n",
      "[CV] .................... C=30, gamma=100.0, kernel=rbf, total=   0.0s\n",
      "[CV] C=30, gamma=100.0, kernel=rbf ...................................\n",
      "[CV] C=50, gamma=0.01, kernel=linear .................................\n",
      "[CV] .................... C=30, gamma=100.0, kernel=rbf, total=   0.0s\n",
      "[CV] C=50, gamma=0.001, kernel=linear ................................\n",
      "[CV] ................. C=30, gamma=100.0, kernel=linear, total=   0.2s\n",
      "[CV] C=30, gamma=100.0, kernel=linear ................................\n",
      "[CV] ................... C=50, gamma=0.1, kernel=linear, total=   0.2s\n",
      "[CV] C=50, gamma=0.1, kernel=linear ..................................\n",
      "[CV] .................. C=50, gamma=0.01, kernel=linear, total=   0.2s\n",
      "[CV] C=50, gamma=0.01, kernel=linear .................................\n",
      "[CV] ................. C=50, gamma=0.001, kernel=linear, total=   0.2s\n",
      "[CV] C=50, gamma=0.001, kernel=linear ................................\n",
      "[CV] ................. C=30, gamma=100.0, kernel=linear, total=   0.1s\n",
      "[CV] C=50, gamma=1, kernel=linear ....................................\n",
      "[CV] ..................... C=50, gamma=1, kernel=linear, total=   0.0s\n",
      "[CV] C=50, gamma=1, kernel=rbf .......................................\n",
      "[CV] .................. C=50, gamma=0.01, kernel=linear, total=   0.1s\n",
      "[CV] C=50, gamma=0.01, kernel=linear .................................\n",
      "[CV] ................. C=50, gamma=0.001, kernel=linear, total=   0.1s\n",
      "[CV] ................... C=50, gamma=0.1, kernel=linear, total=   0.1s\n",
      "[CV] C=50, gamma=0.001, kernel=linear ................................\n",
      "[CV] C=50, gamma=0.1, kernel=linear ..................................\n",
      "[CV] .................. C=50, gamma=0.01, kernel=linear, total=   0.0s\n",
      "[CV] C=50, gamma=0.01, kernel=rbf ....................................\n",
      "[CV] ........................ C=50, gamma=1, kernel=rbf, total=   0.0s\n",
      "[CV] C=50, gamma=1, kernel=rbf .......................................\n",
      "[CV] ................. C=50, gamma=0.001, kernel=linear, total=   0.0s\n",
      "[CV] C=50, gamma=0.001, kernel=rbf ...................................\n",
      "[CV] ..................... C=50, gamma=0.01, kernel=rbf, total=   0.0s\n",
      "[CV] ................... C=50, gamma=0.1, kernel=linear, total=   0.0s\n",
      "[CV] C=50, gamma=0.1, kernel=rbf .....................................\n",
      "[CV] ........................ C=50, gamma=1, kernel=rbf, total=   0.0s\n",
      "[CV] C=50, gamma=1, kernel=rbf .......................................\n",
      "[CV] C=50, gamma=0.01, kernel=rbf ....................................\n",
      "[CV] .................... C=50, gamma=0.001, kernel=rbf, total=   0.0s\n",
      "[CV] ...................... C=50, gamma=0.1, kernel=rbf, total=   0.0s\n",
      "[CV] C=50, gamma=10.0, kernel=rbf ....................................\n",
      "[CV] C=50, gamma=0.1, kernel=rbf .....................................\n",
      "[CV] ........................ C=50, gamma=1, kernel=rbf, total=   0.0s\n",
      "[CV] C=50, gamma=10.0, kernel=linear .................................\n",
      "[CV] ...................... C=50, gamma=0.1, kernel=rbf, total=   0.0s\n",
      "[CV] ..................... C=50, gamma=0.01, kernel=rbf, total=   0.0s\n",
      "[CV] C=50, gamma=0.1, kernel=rbf .....................................\n",
      "[CV] C=50, gamma=0.01, kernel=rbf ....................................\n",
      "[CV] ..................... C=50, gamma=10.0, kernel=rbf, total=   0.1s\n",
      "[CV] ...................... C=50, gamma=0.1, kernel=rbf, total=   0.0s\n",
      "[CV] C=50, gamma=10.0, kernel=rbf ....................................\n",
      "[CV] ..................... C=50, gamma=0.01, kernel=rbf, total=   0.0s\n",
      "[CV] C=50, gamma=1, kernel=linear ....................................\n",
      "[CV] C=100, gamma=0.001, kernel=linear ...............................\n",
      "[CV] ..................... C=50, gamma=10.0, kernel=rbf, total=   0.1s\n",
      "[CV] C=50, gamma=100.0, kernel=linear ................................\n",
      "[CV] .................. C=50, gamma=10.0, kernel=linear, total=   0.2s\n",
      "[CV] C=50, gamma=10.0, kernel=linear .................................\n",
      "[CV] ..................... C=50, gamma=1, kernel=linear, total=   0.2s\n",
      "[CV] C=50, gamma=1, kernel=linear ....................................\n",
      "[CV] ................. C=50, gamma=100.0, kernel=linear, total=   0.2s\n",
      "[CV] C=50, gamma=100.0, kernel=linear ................................\n",
      "[CV] ..................... C=50, gamma=1, kernel=linear, total=   0.1s\n",
      "[CV] C=100, gamma=0.01, kernel=linear ................................\n",
      "[CV] .................. C=50, gamma=10.0, kernel=linear, total=   0.2s\n",
      "[CV] C=50, gamma=10.0, kernel=linear .................................\n",
      "[CV] ................. C=50, gamma=100.0, kernel=linear, total=   0.1s\n",
      "[CV] C=50, gamma=100.0, kernel=linear ................................\n",
      "[CV] ................. C=100, gamma=0.01, kernel=linear, total=   0.1s\n",
      "[CV] C=100, gamma=0.01, kernel=rbf ...................................\n",
      "[CV] ................. C=50, gamma=100.0, kernel=linear, total=   0.0s\n",
      "[CV] .................. C=50, gamma=10.0, kernel=linear, total=   0.0s\n",
      "[CV] C=50, gamma=10.0, kernel=rbf ....................................\n",
      "[CV] .................... C=100, gamma=0.01, kernel=rbf, total=   0.0s\n",
      "[CV] C=100, gamma=0.01, kernel=rbf ...................................\n",
      "[CV] C=50, gamma=100.0, kernel=rbf ...................................\n",
      "[CV] .................... C=100, gamma=0.01, kernel=rbf, total=   0.0s\n",
      "[CV] C=100, gamma=0.01, kernel=rbf ...................................\n"
     ]
    },
    {
     "name": "stdout",
     "output_type": "stream",
     "text": [
      "[CV] ..................... C=50, gamma=10.0, kernel=rbf, total=   0.0s\n",
      "[CV] C=100, gamma=0.1, kernel=rbf ....................................\n",
      "[CV] .................... C=100, gamma=0.01, kernel=rbf, total=   0.0s\n",
      "[CV] C=100, gamma=0.1, kernel=linear .................................\n",
      "[CV] .................... C=50, gamma=100.0, kernel=rbf, total=   0.0s\n",
      "[CV] ................ C=100, gamma=0.001, kernel=linear, total=   0.5s\n",
      "[CV] C=100, gamma=0.001, kernel=linear ...............................\n",
      "[CV] C=50, gamma=100.0, kernel=rbf ...................................\n",
      "[CV] ..................... C=100, gamma=0.1, kernel=rbf, total=   0.0s\n",
      "[CV] C=100, gamma=0.1, kernel=rbf ....................................\n",
      "[CV] .................... C=50, gamma=100.0, kernel=rbf, total=   0.0s\n",
      "[CV] C=50, gamma=100.0, kernel=rbf ...................................\n",
      "[CV] ..................... C=100, gamma=0.1, kernel=rbf, total=   0.1s\n",
      "[CV] C=100, gamma=1, kernel=linear ...................................\n",
      "[CV] .................... C=50, gamma=100.0, kernel=rbf, total=   0.1s\n",
      "[CV] C=100, gamma=10.0, kernel=linear ................................\n",
      "[CV] ................ C=100, gamma=0.001, kernel=linear, total=   0.3s\n",
      "[CV] C=100, gamma=0.001, kernel=linear ...............................\n",
      "[CV] ................ C=100, gamma=0.001, kernel=linear, total=   0.1s\n",
      "[CV] C=100, gamma=0.001, kernel=rbf ..................................\n",
      "[CV] .................. C=100, gamma=0.1, kernel=linear, total=   0.4s\n",
      "[CV] C=100, gamma=0.1, kernel=linear .................................\n",
      "[CV] ................... C=100, gamma=0.001, kernel=rbf, total=   0.0s\n",
      "[CV] C=100, gamma=0.001, kernel=rbf ..................................\n",
      "[CV] ................... C=100, gamma=0.001, kernel=rbf, total=   0.0s\n",
      "[CV] C=100, gamma=0.001, kernel=rbf ..................................\n",
      "[CV] ................... C=100, gamma=0.001, kernel=rbf, total=   0.0s\n",
      "[CV] .................... C=100, gamma=1, kernel=linear, total=   0.4s\n",
      "[CV] C=100, gamma=1, kernel=linear ...................................\n",
      "[CV] C=100, gamma=0.01, kernel=linear ................................\n",
      "[CV] ................. C=100, gamma=10.0, kernel=linear, total=   0.4s\n",
      "[CV] C=100, gamma=10.0, kernel=linear ................................\n",
      "[CV] .................. C=100, gamma=0.1, kernel=linear, total=   0.3s\n",
      "[CV] C=100, gamma=0.1, kernel=linear .................................\n",
      "[CV] .................. C=100, gamma=0.1, kernel=linear, total=   0.1s\n",
      "[CV] C=100, gamma=0.1, kernel=rbf ....................................\n",
      "[CV] ..................... C=100, gamma=0.1, kernel=rbf, total=   0.0s\n",
      "[CV] C=100, gamma=100.0, kernel=linear ...............................\n",
      "[CV] .................... C=100, gamma=1, kernel=linear, total=   0.3s\n",
      "[CV] C=100, gamma=1, kernel=linear ...................................\n",
      "[CV] ................ C=100, gamma=100.0, kernel=linear, total=   0.1s\n",
      "[CV] C=100, gamma=100.0, kernel=rbf ..................................\n",
      "[CV] ................. C=100, gamma=10.0, kernel=linear, total=   0.3s\n",
      "[CV] C=100, gamma=10.0, kernel=linear ................................\n",
      "[CV] ................... C=100, gamma=100.0, kernel=rbf, total=   0.0s\n",
      "[CV] C=100, gamma=100.0, kernel=rbf ..................................\n",
      "[CV] .................... C=100, gamma=1, kernel=linear, total=   0.1s\n",
      "[CV] C=100, gamma=1, kernel=rbf ......................................\n",
      "[CV] ................... C=100, gamma=100.0, kernel=rbf, total=   0.0s\n",
      "[CV] C=100, gamma=100.0, kernel=rbf ..................................\n",
      "[CV] ................. C=100, gamma=10.0, kernel=linear, total=   0.1s\n",
      "[CV] C=100, gamma=10.0, kernel=rbf ...................................\n",
      "[CV] ....................... C=100, gamma=1, kernel=rbf, total=   0.1s\n",
      "[CV] C=100, gamma=1, kernel=rbf ......................................\n",
      "[CV] ................. C=100, gamma=0.01, kernel=linear, total=   0.5s\n",
      "[CV] ................... C=100, gamma=100.0, kernel=rbf, total=   0.1s\n",
      "[CV] C=100, gamma=0.01, kernel=linear ................................\n",
      "[CV] ....................... C=100, gamma=1, kernel=rbf, total=   0.0s\n",
      "[CV] C=100, gamma=1, kernel=rbf ......................................\n",
      "[CV] .................... C=100, gamma=10.0, kernel=rbf, total=   0.1s\n",
      "[CV] C=100, gamma=10.0, kernel=rbf ...................................\n",
      "[CV] ....................... C=100, gamma=1, kernel=rbf, total=   0.0s\n",
      "[CV] .................... C=100, gamma=10.0, kernel=rbf, total=   0.1s\n",
      "[CV] C=100, gamma=10.0, kernel=rbf ...................................\n",
      "[CV] .................... C=100, gamma=10.0, kernel=rbf, total=   0.1s\n",
      "[CV] C=100, gamma=100.0, kernel=linear ...............................\n",
      "[CV] ................. C=100, gamma=0.01, kernel=linear, total=   0.3s\n",
      "[CV] ................ C=100, gamma=100.0, kernel=linear, total=   0.4s\n",
      "[CV] C=100, gamma=100.0, kernel=linear ...............................\n",
      "[CV] ................ C=100, gamma=100.0, kernel=linear, total=   0.3s\n",
      "{'C': 1, 'gamma': 0.1, 'kernel': 'rbf'}\n",
      "SVC(C=1, cache_size=200, class_weight=None, coef0=0.0,\n",
      "  decision_function_shape=None, degree=3, gamma=0.1, kernel='rbf',\n",
      "  max_iter=-1, probability=False, random_state=None, shrinking=True,\n",
      "  tol=0.001, verbose=False)\n"
     ]
    },
    {
     "name": "stderr",
     "output_type": "stream",
     "text": [
      "[Parallel(n_jobs=4)]: Done 324 out of 324 | elapsed:    5.8s finished\n"
     ]
    }
   ],
   "source": [
    "from sklearn.model_selection import GridSearchCV\n",
    "\n",
    "svc_param_clf = [\n",
    "    {'kernel': [\"linear\", \"rbf\"], 'C': [10**-5, 10**-3, 0.01, 0.1, 1, 10, 30, 50, 100], 'gamma': [1e-3, 1e-2, 1e-1, 1, 1e1, 1e2]}\n",
    "]\n",
    "\n",
    "svc_clf = SVC()\n",
    "\n",
    "grid_search_svr = GridSearchCV(svc_clf, svc_param_clf, cv=3, scoring='neg_mean_squared_error', verbose=2, n_jobs=4)\n",
    "grid_search_svr.fit(X_train, y_train)\n",
    "print(grid_search_svr.best_params_)\n",
    "print(grid_search_svr.best_estimator_)\n"
   ]
  },
  {
   "cell_type": "code",
   "execution_count": 420,
   "metadata": {},
   "outputs": [
    {
     "data": {
      "text/plain": [
       "array([[488,  61],\n",
       "       [ 97, 245]])"
      ]
     },
     "execution_count": 420,
     "metadata": {},
     "output_type": "execute_result"
    }
   ],
   "source": [
    "svc_clf = SVC(gamma=0.1, C=1, kernel=\"rbf\")\n",
    "\n",
    "y_svc_train_pred = cross_val_predict(svc_clf, X_train, y_train, cv=3)\n",
    "confusion_matrix(y_train, y_svc_train_pred)"
   ]
  },
  {
   "cell_type": "code",
   "execution_count": 429,
   "metadata": {
    "scrolled": false
   },
   "outputs": [
    {
     "data": {
      "image/png": "[encoded data removed]",
      "text/plain": [
       "<matplotlib.figure.Figure at 0x7f21c23a1d30>"
      ]
     },
     "metadata": {},
     "output_type": "display_data"
    },
    {
     "data": {
      "image/png": "[encoded data removed]",
      "text/plain": [
       "<matplotlib.figure.Figure at 0x7f21c2dcad68>"
      ]
     },
     "metadata": {},
     "output_type": "display_data"
    },
    {
     "data": {
      "image/png": "[encoded data removed]",
      "text/plain": [
       "<matplotlib.figure.Figure at 0x7f21d237b2e8>"
      ]
     },
     "metadata": {},
     "output_type": "display_data"
    },
    {
     "data": {
      "text/plain": [
       "0.75617283950617276"
      ]
     },
     "execution_count": 429,
     "metadata": {},
     "output_type": "execute_result"
    }
   ],
   "source": [
    "svc_clf = SVC(gamma=0.1, C=1, kernel=\"rbf\")\n",
    "svc_clf.fit(X_train, y_train)\n",
    "\n",
    "y_scores = cross_val_predict(svc_clf, X_train, y_train, cv=3,\n",
    "                             method=\"decision_function\")\n",
    "precisions, recalls, thresholds = precision_recall_curve(y_train, y_scores)\n",
    "\n",
    "precisions, recalls, thresholds = precision_recall_curve(y_train, y_scores_forest)\n",
    "plt.figure(figsize=(8, 4))\n",
    "plot_precision_recall_vs_threshold(precisions, recalls, thresholds)\n",
    "plt.show()\n",
    "\n",
    "plt.figure(figsize=(8, 6))\n",
    "plot_precision_vs_recall(precisions_forest, recalls_forest)\n",
    "plt.show()\n",
    "\n",
    "plt.figure(figsize=(8, 6))\n",
    "plot_roc_curve(fpr_forest, tpr_forest)\n",
    "plt.show()\n",
    "\n",
    "from sklearn.metrics import f1_score\n",
    "y_pred = cross_val_predict(svc_clf, X_train, y_train, cv=3)\n",
    "f1_score(y_train, y_pred)"
   ]
  },
  {
   "cell_type": "markdown",
   "metadata": {
    "collapsed": true
   },
   "source": [
    "# Test Model"
   ]
  },
  {
   "cell_type": "code",
   "execution_count": 422,
   "metadata": {},
   "outputs": [
    {
     "data": {
      "text/html": [
       "<div>\n",
       "<style>\n",
       "    .dataframe thead tr:only-child th {\n",
       "        text-align: right;\n",
       "    }\n",
       "\n",
       "    .dataframe thead th {\n",
       "        text-align: left;\n",
       "    }\n",
       "\n",
       "    .dataframe tbody tr th {\n",
       "        vertical-align: top;\n",
       "    }\n",
       "</style>\n",
       "<table border=\"1\" class=\"dataframe\">\n",
       "  <thead>\n",
       "    <tr style=\"text-align: right;\">\n",
       "      <th></th>\n",
       "      <th>Sex</th>\n",
       "      <th>Age</th>\n",
       "      <th>SibSp</th>\n",
       "      <th>Parch</th>\n",
       "      <th>Fare</th>\n",
       "      <th>Embarked_C</th>\n",
       "      <th>Embarked_Q</th>\n",
       "      <th>Embarked_S</th>\n",
       "      <th>Cabin_C</th>\n",
       "      <th>Cabin_D</th>\n",
       "      <th>Cabin_F</th>\n",
       "      <th>Cabin_B</th>\n",
       "      <th>Cabin_A</th>\n",
       "      <th>Cabin_E</th>\n",
       "      <th>Cabin_G</th>\n",
       "      <th>Pclass_1</th>\n",
       "      <th>Pclass_2</th>\n",
       "      <th>Pclass_3</th>\n",
       "    </tr>\n",
       "  </thead>\n",
       "  <tbody>\n",
       "    <tr>\n",
       "      <th>0</th>\n",
       "      <td>1</td>\n",
       "      <td>0.334993</td>\n",
       "      <td>0</td>\n",
       "      <td>0</td>\n",
       "      <td>-0.498407</td>\n",
       "      <td>0</td>\n",
       "      <td>1</td>\n",
       "      <td>0</td>\n",
       "      <td>0</td>\n",
       "      <td>0</td>\n",
       "      <td>0</td>\n",
       "      <td>0</td>\n",
       "      <td>0</td>\n",
       "      <td>0</td>\n",
       "      <td>0</td>\n",
       "      <td>0.0</td>\n",
       "      <td>0.0</td>\n",
       "      <td>1.0</td>\n",
       "    </tr>\n",
       "    <tr>\n",
       "      <th>1</th>\n",
       "      <td>0</td>\n",
       "      <td>1.325530</td>\n",
       "      <td>1</td>\n",
       "      <td>0</td>\n",
       "      <td>-0.513274</td>\n",
       "      <td>0</td>\n",
       "      <td>0</td>\n",
       "      <td>1</td>\n",
       "      <td>0</td>\n",
       "      <td>0</td>\n",
       "      <td>0</td>\n",
       "      <td>0</td>\n",
       "      <td>0</td>\n",
       "      <td>0</td>\n",
       "      <td>0</td>\n",
       "      <td>0.0</td>\n",
       "      <td>0.0</td>\n",
       "      <td>1.0</td>\n",
       "    </tr>\n",
       "    <tr>\n",
       "      <th>2</th>\n",
       "      <td>1</td>\n",
       "      <td>2.514175</td>\n",
       "      <td>0</td>\n",
       "      <td>0</td>\n",
       "      <td>-0.465088</td>\n",
       "      <td>0</td>\n",
       "      <td>1</td>\n",
       "      <td>0</td>\n",
       "      <td>0</td>\n",
       "      <td>0</td>\n",
       "      <td>0</td>\n",
       "      <td>0</td>\n",
       "      <td>0</td>\n",
       "      <td>0</td>\n",
       "      <td>0</td>\n",
       "      <td>0.0</td>\n",
       "      <td>1.0</td>\n",
       "      <td>0.0</td>\n",
       "    </tr>\n",
       "    <tr>\n",
       "      <th>3</th>\n",
       "      <td>1</td>\n",
       "      <td>-0.259330</td>\n",
       "      <td>0</td>\n",
       "      <td>0</td>\n",
       "      <td>-0.483466</td>\n",
       "      <td>0</td>\n",
       "      <td>0</td>\n",
       "      <td>1</td>\n",
       "      <td>0</td>\n",
       "      <td>0</td>\n",
       "      <td>0</td>\n",
       "      <td>0</td>\n",
       "      <td>0</td>\n",
       "      <td>0</td>\n",
       "      <td>0</td>\n",
       "      <td>0.0</td>\n",
       "      <td>0.0</td>\n",
       "      <td>1.0</td>\n",
       "    </tr>\n",
       "    <tr>\n",
       "      <th>4</th>\n",
       "      <td>0</td>\n",
       "      <td>-0.655545</td>\n",
       "      <td>1</td>\n",
       "      <td>1</td>\n",
       "      <td>-0.418471</td>\n",
       "      <td>0</td>\n",
       "      <td>0</td>\n",
       "      <td>1</td>\n",
       "      <td>0</td>\n",
       "      <td>0</td>\n",
       "      <td>0</td>\n",
       "      <td>0</td>\n",
       "      <td>0</td>\n",
       "      <td>0</td>\n",
       "      <td>0</td>\n",
       "      <td>0.0</td>\n",
       "      <td>0.0</td>\n",
       "      <td>1.0</td>\n",
       "    </tr>\n",
       "  </tbody>\n",
       "</table>\n",
       "</div>"
      ],
      "text/plain": [
       "   Sex       Age  SibSp  Parch      Fare  Embarked_C  Embarked_Q  Embarked_S  \\\n",
       "0    1  0.334993      0      0 -0.498407           0           1           0   \n",
       "1    0  1.325530      1      0 -0.513274           0           0           1   \n",
       "2    1  2.514175      0      0 -0.465088           0           1           0   \n",
       "3    1 -0.259330      0      0 -0.483466           0           0           1   \n",
       "4    0 -0.655545      1      1 -0.418471           0           0           1   \n",
       "\n",
       "   Cabin_C  Cabin_D  Cabin_F  Cabin_B  Cabin_A  Cabin_E  Cabin_G  Pclass_1  \\\n",
       "0        0        0        0        0        0        0        0       0.0   \n",
       "1        0        0        0        0        0        0        0       0.0   \n",
       "2        0        0        0        0        0        0        0       0.0   \n",
       "3        0        0        0        0        0        0        0       0.0   \n",
       "4        0        0        0        0        0        0        0       0.0   \n",
       "\n",
       "   Pclass_2  Pclass_3  \n",
       "0       0.0       1.0  \n",
       "1       0.0       1.0  \n",
       "2       1.0       0.0  \n",
       "3       0.0       1.0  \n",
       "4       0.0       1.0  "
      ]
     },
     "execution_count": 422,
     "metadata": {},
     "output_type": "execute_result"
    }
   ],
   "source": [
    "data_test.head()"
   ]
  },
  {
   "cell_type": "code",
   "execution_count": 432,
   "metadata": {},
   "outputs": [
    {
     "data": {
      "text/html": [
       "<div>\n",
       "<style>\n",
       "    .dataframe thead tr:only-child th {\n",
       "        text-align: right;\n",
       "    }\n",
       "\n",
       "    .dataframe thead th {\n",
       "        text-align: left;\n",
       "    }\n",
       "\n",
       "    .dataframe tbody tr th {\n",
       "        vertical-align: top;\n",
       "    }\n",
       "</style>\n",
       "<table border=\"1\" class=\"dataframe\">\n",
       "  <thead>\n",
       "    <tr style=\"text-align: right;\">\n",
       "      <th></th>\n",
       "      <th>PassengerId</th>\n",
       "      <th>Pclass</th>\n",
       "      <th>Name</th>\n",
       "      <th>Sex</th>\n",
       "      <th>Age</th>\n",
       "      <th>SibSp</th>\n",
       "      <th>Parch</th>\n",
       "      <th>Ticket</th>\n",
       "      <th>Fare</th>\n",
       "      <th>Cabin</th>\n",
       "      <th>Embarked</th>\n",
       "    </tr>\n",
       "  </thead>\n",
       "  <tbody>\n",
       "    <tr>\n",
       "      <th>0</th>\n",
       "      <td>892</td>\n",
       "      <td>3</td>\n",
       "      <td>Kelly, Mr. James</td>\n",
       "      <td>male</td>\n",
       "      <td>34.5</td>\n",
       "      <td>0</td>\n",
       "      <td>0</td>\n",
       "      <td>330911</td>\n",
       "      <td>7.8292</td>\n",
       "      <td>NaN</td>\n",
       "      <td>Q</td>\n",
       "    </tr>\n",
       "    <tr>\n",
       "      <th>1</th>\n",
       "      <td>893</td>\n",
       "      <td>3</td>\n",
       "      <td>Wilkes, Mrs. James (Ellen Needs)</td>\n",
       "      <td>female</td>\n",
       "      <td>47.0</td>\n",
       "      <td>1</td>\n",
       "      <td>0</td>\n",
       "      <td>363272</td>\n",
       "      <td>7.0000</td>\n",
       "      <td>NaN</td>\n",
       "      <td>S</td>\n",
       "    </tr>\n",
       "    <tr>\n",
       "      <th>2</th>\n",
       "      <td>894</td>\n",
       "      <td>2</td>\n",
       "      <td>Myles, Mr. Thomas Francis</td>\n",
       "      <td>male</td>\n",
       "      <td>62.0</td>\n",
       "      <td>0</td>\n",
       "      <td>0</td>\n",
       "      <td>240276</td>\n",
       "      <td>9.6875</td>\n",
       "      <td>NaN</td>\n",
       "      <td>Q</td>\n",
       "    </tr>\n",
       "    <tr>\n",
       "      <th>3</th>\n",
       "      <td>895</td>\n",
       "      <td>3</td>\n",
       "      <td>Wirz, Mr. Albert</td>\n",
       "      <td>male</td>\n",
       "      <td>27.0</td>\n",
       "      <td>0</td>\n",
       "      <td>0</td>\n",
       "      <td>315154</td>\n",
       "      <td>8.6625</td>\n",
       "      <td>NaN</td>\n",
       "      <td>S</td>\n",
       "    </tr>\n",
       "    <tr>\n",
       "      <th>4</th>\n",
       "      <td>896</td>\n",
       "      <td>3</td>\n",
       "      <td>Hirvonen, Mrs. Alexander (Helga E Lindqvist)</td>\n",
       "      <td>female</td>\n",
       "      <td>22.0</td>\n",
       "      <td>1</td>\n",
       "      <td>1</td>\n",
       "      <td>3101298</td>\n",
       "      <td>12.2875</td>\n",
       "      <td>NaN</td>\n",
       "      <td>S</td>\n",
       "    </tr>\n",
       "  </tbody>\n",
       "</table>\n",
       "</div>"
      ],
      "text/plain": [
       "   PassengerId  Pclass                                          Name     Sex  \\\n",
       "0          892       3                              Kelly, Mr. James    male   \n",
       "1          893       3              Wilkes, Mrs. James (Ellen Needs)  female   \n",
       "2          894       2                     Myles, Mr. Thomas Francis    male   \n",
       "3          895       3                              Wirz, Mr. Albert    male   \n",
       "4          896       3  Hirvonen, Mrs. Alexander (Helga E Lindqvist)  female   \n",
       "\n",
       "    Age  SibSp  Parch   Ticket     Fare Cabin Embarked  \n",
       "0  34.5      0      0   330911   7.8292   NaN        Q  \n",
       "1  47.0      1      0   363272   7.0000   NaN        S  \n",
       "2  62.0      0      0   240276   9.6875   NaN        Q  \n",
       "3  27.0      0      0   315154   8.6625   NaN        S  \n",
       "4  22.0      1      1  3101298  12.2875   NaN        S  "
      ]
     },
     "execution_count": 432,
     "metadata": {},
     "output_type": "execute_result"
    }
   ],
   "source": [
    "ori_data_test.head()"
   ]
  },
  {
   "cell_type": "code",
   "execution_count": 448,
   "metadata": {},
   "outputs": [],
   "source": [
    "predictions = svc_clf.predict(data_test)"
   ]
  },
  {
   "cell_type": "code",
   "execution_count": 451,
   "metadata": {
    "collapsed": true
   },
   "outputs": [],
   "source": [
    "result = pd.DataFrame(np.c_[ori_data_test['PassengerId'], predictions])\n",
    "result.rename(columns={0: 'PassengerId', 1: 'Survived'}, inplace=True)"
   ]
  },
  {
   "cell_type": "code",
   "execution_count": 452,
   "metadata": {},
   "outputs": [],
   "source": [
    "# write to csv file for submission\n",
    "result.to_csv(PATH + 'result.csv', index=False)"
   ]
  },
  {
   "cell_type": "code",
   "execution_count": null,
   "metadata": {
    "collapsed": true
   },
   "outputs": [],
   "source": []
  }
 ],
 "metadata": {
  "kernelspec": {
   "display_name": "Python 3",
   "language": "python",
   "name": "python3"
  },
  "language_info": {
   "codemirror_mode": {
    "name": "ipython",
    "version": 3
   },
   "file_extension": ".py",
   "mimetype": "text/x-python",
   "name": "python",
   "nbconvert_exporter": "python",
   "pygments_lexer": "ipython3",
   "version": "3.6.1"
  }
 },
 "nbformat": 4,
 "nbformat_minor": 2
}
