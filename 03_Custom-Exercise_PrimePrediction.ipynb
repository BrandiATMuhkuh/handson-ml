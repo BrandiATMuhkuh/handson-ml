{
 "cells": [
  {
   "cell_type": "code",
   "execution_count": 599,
   "metadata": {},
   "outputs": [],
   "source": [
    "# define source to download\n",
    "import os\n",
    "import zipfile\n",
    "\n",
    "PRIME_LIMITS = 10000\n",
    "PRIMES_ZIP_FILE_NAME = \"primes1.zip\"\n",
    "PRIMES_EXTRACT_FILE_NAME = \"primes1.txt\"\n",
    "PRIMES_PATH = \"datasets/primes\"\n",
    "\n",
    "def extract_primes_data(primes_path=PRIMES_PATH, primes_zip_file_name=PRIMES_ZIP_FILE_NAME, primes_extract_file_name=PRIMES_EXTRACT_FILE_NAME):\n",
    "    if not os.path.isdir(primes_path):\n",
    "        raise Exception('Create the path: datasets/primes and copy the ' + primes_zip_file_name + ' within the path')\n",
    "    zip_path = os.path.join(primes_path, primes_zip_file_name)\n",
    "    if not os.path.exists(zip_path):\n",
    "        raise Exception('Download primes zip from URL=https://primes.utm.edu/lists/small/millions/')\n",
    "    primes_zip = zipfile.ZipFile(zip_path)\n",
    "    txt_path = os.path.join(primes_path, primes_extract_file_name)\n",
    "    with open(txt_path, 'w') as f:\n",
    "        data = primes_zip.read(primes_extract_file_name)\n",
    "        # split into line of data\n",
    "        data = data.splitlines(True)\n",
    "        # remove first lines due to header text type\n",
    "        data = data[4:]\n",
    "        new_list = []\n",
    "        # filter blank lines and reduce the result to one array\n",
    "        for line in data[:]:\n",
    "            values = line.decode(\"utf-8\").split()\n",
    "            if len(values) > 0:\n",
    "                for num in values:\n",
    "                    new_list.append(num)\n",
    "        text = \"\\n\".join(new_list)\n",
    "        f.write(text)\n",
    "        f.close()"
   ]
  },
  {
   "cell_type": "code",
   "execution_count": 600,
   "metadata": {},
   "outputs": [],
   "source": [
    "# download and extract file\n",
    "extract_primes_data()"
   ]
  },
  {
   "cell_type": "code",
   "execution_count": 601,
   "metadata": {},
   "outputs": [],
   "source": [
    "# define method for loading extracted data\n",
    "import pandas as pd\n",
    "\n",
    "def load_primes_data(primes_path=PRIMES_PATH, primes_extract_file_name=PRIMES_EXTRACT_FILE_NAME, limit=None):\n",
    "    csv_path = os.path.join(primes_path, primes_extract_file_name)\n",
    "    return pd.read_csv(csv_path, sep='\\t+|\\r+|\\n+|\\s+', nrows=limit, header=None, engine='python')"
   ]
  },
  {
   "cell_type": "code",
   "execution_count": 602,
   "metadata": {},
   "outputs": [
    {
     "data": {
      "text/plain": [
       "array([ 2,  3,  5,  7, 11, 13, 17, 19, 23, 29])"
      ]
     },
     "execution_count": 602,
     "metadata": {},
     "output_type": "execute_result"
    }
   ],
   "source": [
    "# load data from prepared file\n",
    "primes_data = load_primes_data(limit=PRIME_LIMITS).values.flatten()\n",
    "primes_data[:10]"
   ]
  },
  {
   "cell_type": "code",
   "execution_count": 603,
   "metadata": {},
   "outputs": [],
   "source": [
    "import numpy as np\n",
    "\n",
    "# calculate non primes data\n",
    "non_primes = []\n",
    "for val in range(primes_data[-1]):\n",
    "    non_primes.append(val)\n",
    "\n",
    "non_primes = [x for x in non_primes if x not in primes_data]\n",
    "non_primes_data = np.array(non_primes)"
   ]
  },
  {
   "cell_type": "code",
   "execution_count": 604,
   "metadata": {},
   "outputs": [
    {
     "name": "stdout",
     "output_type": "stream",
     "text": [
      "[ 0  1  4  6  8  9 10 12 14 15]\n",
      "[     0      1      4 ..., 104714 104715 104716]\n"
     ]
    }
   ],
   "source": [
    "print(non_primes_data[:10])\n",
    "print(non_primes_data[:-10])"
   ]
  },
  {
   "cell_type": "code",
   "execution_count": 605,
   "metadata": {},
   "outputs": [
    {
     "data": {
      "text/plain": [
       "array([ True,  True,  True,  True,  True,  True,  True,  True,  True,  True], dtype=bool)"
      ]
     },
     "execution_count": 605,
     "metadata": {},
     "output_type": "execute_result"
    }
   ],
   "source": [
    "# define labels for primes\n",
    "y_prime = (primes_data == primes_data)\n",
    "y_prime[:10]"
   ]
  },
  {
   "cell_type": "code",
   "execution_count": 606,
   "metadata": {},
   "outputs": [
    {
     "data": {
      "text/plain": [
       "array([False, False, False, False, False, False, False, False, False, False], dtype=bool)"
      ]
     },
     "execution_count": 606,
     "metadata": {},
     "output_type": "execute_result"
    }
   ],
   "source": [
    "# define lables for non-primes\n",
    "y_non_prime = (non_primes_data != non_primes_data)\n",
    "y_non_prime[:10]"
   ]
  },
  {
   "cell_type": "code",
   "execution_count": 607,
   "metadata": {},
   "outputs": [],
   "source": [
    "all_numbers = np.concatenate((primes_data, non_primes_data))\n",
    "all_labels = np.concatenate((y_prime, y_non_prime))"
   ]
  },
  {
   "cell_type": "code",
   "execution_count": 608,
   "metadata": {},
   "outputs": [],
   "source": [
    "# compose dataset\n",
    "data = {'values' : pd.Series(all_numbers),\n",
    "        'labels' : pd.Series(all_labels)}\n",
    "data_frame = pd.DataFrame(data)"
   ]
  },
  {
   "cell_type": "code",
   "execution_count": 609,
   "metadata": {},
   "outputs": [
    {
     "data": {
      "text/html": [
       "<div>\n",
       "<style>\n",
       "    .dataframe thead tr:only-child th {\n",
       "        text-align: right;\n",
       "    }\n",
       "\n",
       "    .dataframe thead th {\n",
       "        text-align: left;\n",
       "    }\n",
       "\n",
       "    .dataframe tbody tr th {\n",
       "        vertical-align: top;\n",
       "    }\n",
       "</style>\n",
       "<table border=\"1\" class=\"dataframe\">\n",
       "  <thead>\n",
       "    <tr style=\"text-align: right;\">\n",
       "      <th></th>\n",
       "      <th>labels</th>\n",
       "      <th>values</th>\n",
       "    </tr>\n",
       "  </thead>\n",
       "  <tbody>\n",
       "    <tr>\n",
       "      <th>0</th>\n",
       "      <td>True</td>\n",
       "      <td>2</td>\n",
       "    </tr>\n",
       "    <tr>\n",
       "      <th>1</th>\n",
       "      <td>True</td>\n",
       "      <td>3</td>\n",
       "    </tr>\n",
       "    <tr>\n",
       "      <th>2</th>\n",
       "      <td>True</td>\n",
       "      <td>5</td>\n",
       "    </tr>\n",
       "    <tr>\n",
       "      <th>3</th>\n",
       "      <td>True</td>\n",
       "      <td>7</td>\n",
       "    </tr>\n",
       "    <tr>\n",
       "      <th>4</th>\n",
       "      <td>True</td>\n",
       "      <td>11</td>\n",
       "    </tr>\n",
       "  </tbody>\n",
       "</table>\n",
       "</div>"
      ],
      "text/plain": [
       "   labels  values\n",
       "0    True       2\n",
       "1    True       3\n",
       "2    True       5\n",
       "3    True       7\n",
       "4    True      11"
      ]
     },
     "execution_count": 609,
     "metadata": {},
     "output_type": "execute_result"
    }
   ],
   "source": [
    "data_frame.head()"
   ]
  },
  {
   "cell_type": "code",
   "execution_count": 610,
   "metadata": {},
   "outputs": [
    {
     "data": {
      "image/png": "[encoded data removed]",
      "text/plain": [
       "<matplotlib.figure.Figure at 0x7fdd23aeec50>"
      ]
     },
     "metadata": {},
     "output_type": "display_data"
    }
   ],
   "source": [
    "# plot a histogram\n",
    "%matplotlib inline\n",
    "import matplotlib.pyplot as plt\n",
    "\n",
    "data_frame.hist()\n",
    "plt.show()"
   ]
  },
  {
   "cell_type": "code",
   "execution_count": 611,
   "metadata": {},
   "outputs": [],
   "source": [
    "from sklearn.model_selection import StratifiedShuffleSplit\n",
    "\n",
    "split = StratifiedShuffleSplit(n_splits=1, test_size=0.2, random_state=42)\n",
    "for train_index, test_index in split.split(data_frame, data_frame[\"labels\"]):\n",
    "    train_set = data_frame.loc[train_index]\n",
    "    test_set = data_frame.loc[test_index]"
   ]
  },
  {
   "cell_type": "code",
   "execution_count": 612,
   "metadata": {},
   "outputs": [
    {
     "name": "stdout",
     "output_type": "stream",
     "text": [
      "original data proportions\n",
      " False    0.904516\n",
      "True     0.095484\n",
      "Name: labels, dtype: float64\n",
      "stratified test proportions\n",
      " False    0.904516\n",
      "True     0.095484\n",
      "Name: labels, dtype: float64\n"
     ]
    }
   ],
   "source": [
    "# check the stratified split\n",
    "print(\"original data proportions\\n\", data_frame[\"labels\"].value_counts() / len(data_frame))\n",
    "print(\"stratified test proportions\\n\", test_set[\"labels\"].value_counts() / len(test_set))"
   ]
  },
  {
   "cell_type": "code",
   "execution_count": 613,
   "metadata": {},
   "outputs": [
    {
     "data": {
      "text/plain": [
       "False    75784\n",
       "True      8000\n",
       "Name: labels, dtype: int64"
      ]
     },
     "execution_count": 613,
     "metadata": {},
     "output_type": "execute_result"
    }
   ],
   "source": [
    "train_set[\"labels\"].value_counts()"
   ]
  },
  {
   "cell_type": "code",
   "execution_count": 614,
   "metadata": {},
   "outputs": [
    {
     "data": {
      "text/plain": [
       "False    18946\n",
       "True      2000\n",
       "Name: labels, dtype: int64"
      ]
     },
     "execution_count": 614,
     "metadata": {},
     "output_type": "execute_result"
    }
   ],
   "source": [
    "test_set[\"labels\"].value_counts()"
   ]
  },
  {
   "cell_type": "code",
   "execution_count": 615,
   "metadata": {},
   "outputs": [
    {
     "name": "stdout",
     "output_type": "stream",
     "text": [
      "(8000, 1)\n",
      "(8000,)\n",
      "[[90645]\n",
      " [90463]\n",
      " [76892]\n",
      " ..., \n",
      " [94787]\n",
      " [94713]\n",
      " [  298]]\n",
      "X_train count: 8000\n",
      "y_train count: 8000\n"
     ]
    }
   ],
   "source": [
    "y_train = train_set[\"labels\"]\n",
    "X_train = train_set[\"values\"].values.reshape(-1, 1)\n",
    "print(X_train.shape)\n",
    "print(y_train.shape)\n",
    "print(X_train)\n",
    "print(\"X_train count:\", len(X_train))\n",
    "print(\"y_train count:\", len(y_train))"
   ]
  },
  {
   "cell_type": "markdown",
   "metadata": {},
   "source": [
    "# Train Binary Classifier"
   ]
  },
  {
   "cell_type": "code",
   "execution_count": 616,
   "metadata": {},
   "outputs": [
    {
     "data": {
      "text/plain": [
       "SGDClassifier(alpha=0.0001, average=False, class_weight=None, epsilon=0.1,\n",
       "       eta0=0.0, fit_intercept=True, l1_ratio=0.15,\n",
       "       learning_rate='optimal', loss='hinge', n_iter=5, n_jobs=1,\n",
       "       penalty='l2', power_t=0.5, random_state=42, shuffle=True, verbose=0,\n",
       "       warm_start=False)"
      ]
     },
     "execution_count": 616,
     "metadata": {},
     "output_type": "execute_result"
    }
   ],
   "source": [
    "from sklearn.linear_model import SGDClassifier\n",
    "\n",
    "sgd_clf = SGDClassifier(random_state=42)\n",
    "sgd_clf.fit(X_train, y_train)"
   ]
  },
  {
   "cell_type": "code",
   "execution_count": 617,
   "metadata": {},
   "outputs": [
    {
     "data": {
      "text/plain": [
       "array([ 0.8976378 ,  0.8976378 ,  0.89797449])"
      ]
     },
     "execution_count": 617,
     "metadata": {},
     "output_type": "execute_result"
    }
   ],
   "source": [
    "# cross-validation above using the cross_val_score\n",
    "from sklearn.model_selection import cross_val_score\n",
    "# use cross-validation k-fold = 3 and measure the accuracy in percent\n",
    "cross_val_score(sgd_clf, X_train, y_train, cv=3, scoring=\"accuracy\")"
   ]
  },
  {
   "cell_type": "markdown",
   "metadata": {},
   "source": [
    "# Measuring Classifier Accuracy"
   ]
  },
  {
   "cell_type": "code",
   "execution_count": 618,
   "metadata": {},
   "outputs": [
    {
     "data": {
      "text/plain": [
       "array([[7182,    0],\n",
       "       [ 818,    0]])"
      ]
     },
     "execution_count": 618,
     "metadata": {},
     "output_type": "execute_result"
    }
   ],
   "source": [
    "# an good alternative instead of using the scores we can retrieve the cross-validation predictions \n",
    "# and build a confusion matrix\n",
    "from sklearn.model_selection import cross_val_predict\n",
    "from sklearn.metrics import confusion_matrix\n",
    "\n",
    "y_train_pred = cross_val_predict(sgd_clf, X_train, y_train, cv=3)\n",
    "\n",
    "confusion_matrix(y_train, y_train_pred)"
   ]
  },
  {
   "cell_type": "code",
   "execution_count": 619,
   "metadata": {},
   "outputs": [],
   "source": [
    "# to visualize the tradeoff of precision and recall we can use the decision_function instead of predict returning\n",
    "# scores instead of predictions\n",
    "y_scores = cross_val_predict(sgd_clf, X_train, y_train, cv=3, method=\"decision_function\")\n",
    "\n",
    "# calculate values for ROC curve\n",
    "from sklearn.metrics import roc_curve\n",
    "\n",
    "fpr, tpr, thresholds = roc_curve(y_train, y_scores)"
   ]
  },
  {
   "cell_type": "markdown",
   "metadata": {},
   "source": [
    "# Retrain with RandomForest Classifier"
   ]
  },
  {
   "cell_type": "code",
   "execution_count": 620,
   "metadata": {},
   "outputs": [],
   "source": [
    "# we are now trying to improve the Precision/Recall using a RandomForest classifier\n",
    "from sklearn.ensemble import RandomForestClassifier\n",
    "\n",
    "forest_clf = RandomForestClassifier(random_state=42)\n",
    "# some classifiers do not provide a decision_function method but a dict_proba method due to their type of \n",
    "# classification -> to use the dict_proba, we parametrize the cross_val_predict with its predict_proba parameter\n",
    "y_probas_forest = cross_val_predict(forest_clf, X_train, y_train, cv=3, method=\"predict_proba\")\n",
    "\n",
    "# to plot a ROC curve we need to transform the prbabilities to scores\n",
    "y_scores_forest = y_probas_forest[:, 1] # score = proba of positive class\n",
    "fpr_forest, tpr_forest, thresholds_forest = roc_curve(y_train, y_scores_forest)\n"
   ]
  },
  {
   "cell_type": "code",
   "execution_count": 621,
   "metadata": {},
   "outputs": [
    {
     "data": {
      "text/plain": [
       "array([[6613,  569],\n",
       "       [ 760,   58]])"
      ]
     },
     "execution_count": 621,
     "metadata": {},
     "output_type": "execute_result"
    }
   ],
   "source": [
    "y_train_pred = cross_val_predict(forest_clf, X_train, y_train, cv=3)\n",
    "\n",
    "confusion_matrix(y_train, y_train_pred)"
   ]
  },
  {
   "cell_type": "code",
   "execution_count": 622,
   "metadata": {},
   "outputs": [
    {
     "data": {
      "image/png": "[encoded data removed]",
      "text/plain": [
       "<matplotlib.figure.Figure at 0x7fdd031177f0>"
      ]
     },
     "metadata": {},
     "output_type": "display_data"
    }
   ],
   "source": [
    "# plot the ROC curve\n",
    "plt.plot(fpr, tpr, \"b:\", label=\"SGD\")\n",
    "plt.plot(fpr_forest, tpr_forest, label=\"Random Forest\")\n",
    "plt.plot([0, 1], [0, 1], 'k--')\n",
    "plt.axis([0, 1, 0, 1])\n",
    "plt.legend(loc=\"lower right\")\n",
    "plt.show()"
   ]
  },
  {
   "cell_type": "code",
   "execution_count": 623,
   "metadata": {},
   "outputs": [
    {
     "data": {
      "image/png": "[encoded data removed]",
      "text/plain": [
       "<matplotlib.figure.Figure at 0x7fdd23e636d8>"
      ]
     },
     "metadata": {},
     "output_type": "display_data"
    }
   ],
   "source": [
    "# calculate the precisions, recalls and thresholds to plot the tradeoff\n",
    "from sklearn.metrics import precision_recall_curve\n",
    "\n",
    "precisions, recalls, thresholds = precision_recall_curve(y_train, y_scores)\n",
    "forest_precisions, forest_recalls, thresholds = precision_recall_curve(y_train, y_scores_forest)\n",
    "\n",
    "# plot precision vs recall\n",
    "plt.plot(recalls, precisions, \"b:\", label=\"SGD\")\n",
    "plt.plot(forest_recalls, forest_precisions, \"g-\", label=\"Random Forest\")\n",
    "plt.ylabel(\"Precision\")\n",
    "plt.xlabel(\"Recall\")\n",
    "plt.ylim([0, 1])\n",
    "plt.xlim([0, 1])\n",
    "plt.legend(loc=\"upper right\")\n",
    "plt.show()"
   ]
  },
  {
   "cell_type": "markdown",
   "metadata": {},
   "source": [
    "# Analyse Data"
   ]
  },
  {
   "cell_type": "code",
   "execution_count": 624,
   "metadata": {},
   "outputs": [
    {
     "data": {
      "text/html": [
       "<div>\n",
       "<style>\n",
       "    .dataframe thead tr:only-child th {\n",
       "        text-align: right;\n",
       "    }\n",
       "\n",
       "    .dataframe thead th {\n",
       "        text-align: left;\n",
       "    }\n",
       "\n",
       "    .dataframe tbody tr th {\n",
       "        vertical-align: top;\n",
       "    }\n",
       "</style>\n",
       "<table border=\"1\" class=\"dataframe\">\n",
       "  <thead>\n",
       "    <tr style=\"text-align: right;\">\n",
       "      <th></th>\n",
       "      <th>labels</th>\n",
       "      <th>values</th>\n",
       "    </tr>\n",
       "  </thead>\n",
       "  <tbody>\n",
       "    <tr>\n",
       "      <th>10000</th>\n",
       "      <td>False</td>\n",
       "      <td>0</td>\n",
       "    </tr>\n",
       "    <tr>\n",
       "      <th>10001</th>\n",
       "      <td>False</td>\n",
       "      <td>1</td>\n",
       "    </tr>\n",
       "    <tr>\n",
       "      <th>0</th>\n",
       "      <td>True</td>\n",
       "      <td>2</td>\n",
       "    </tr>\n",
       "    <tr>\n",
       "      <th>1</th>\n",
       "      <td>True</td>\n",
       "      <td>3</td>\n",
       "    </tr>\n",
       "    <tr>\n",
       "      <th>10002</th>\n",
       "      <td>False</td>\n",
       "      <td>4</td>\n",
       "    </tr>\n",
       "    <tr>\n",
       "      <th>2</th>\n",
       "      <td>True</td>\n",
       "      <td>5</td>\n",
       "    </tr>\n",
       "    <tr>\n",
       "      <th>10003</th>\n",
       "      <td>False</td>\n",
       "      <td>6</td>\n",
       "    </tr>\n",
       "    <tr>\n",
       "      <th>3</th>\n",
       "      <td>True</td>\n",
       "      <td>7</td>\n",
       "    </tr>\n",
       "    <tr>\n",
       "      <th>10004</th>\n",
       "      <td>False</td>\n",
       "      <td>8</td>\n",
       "    </tr>\n",
       "    <tr>\n",
       "      <th>10005</th>\n",
       "      <td>False</td>\n",
       "      <td>9</td>\n",
       "    </tr>\n",
       "    <tr>\n",
       "      <th>10006</th>\n",
       "      <td>False</td>\n",
       "      <td>10</td>\n",
       "    </tr>\n",
       "    <tr>\n",
       "      <th>4</th>\n",
       "      <td>True</td>\n",
       "      <td>11</td>\n",
       "    </tr>\n",
       "    <tr>\n",
       "      <th>10007</th>\n",
       "      <td>False</td>\n",
       "      <td>12</td>\n",
       "    </tr>\n",
       "    <tr>\n",
       "      <th>5</th>\n",
       "      <td>True</td>\n",
       "      <td>13</td>\n",
       "    </tr>\n",
       "    <tr>\n",
       "      <th>10008</th>\n",
       "      <td>False</td>\n",
       "      <td>14</td>\n",
       "    </tr>\n",
       "    <tr>\n",
       "      <th>10009</th>\n",
       "      <td>False</td>\n",
       "      <td>15</td>\n",
       "    </tr>\n",
       "    <tr>\n",
       "      <th>10010</th>\n",
       "      <td>False</td>\n",
       "      <td>16</td>\n",
       "    </tr>\n",
       "    <tr>\n",
       "      <th>6</th>\n",
       "      <td>True</td>\n",
       "      <td>17</td>\n",
       "    </tr>\n",
       "    <tr>\n",
       "      <th>10011</th>\n",
       "      <td>False</td>\n",
       "      <td>18</td>\n",
       "    </tr>\n",
       "    <tr>\n",
       "      <th>7</th>\n",
       "      <td>True</td>\n",
       "      <td>19</td>\n",
       "    </tr>\n",
       "    <tr>\n",
       "      <th>10012</th>\n",
       "      <td>False</td>\n",
       "      <td>20</td>\n",
       "    </tr>\n",
       "    <tr>\n",
       "      <th>10013</th>\n",
       "      <td>False</td>\n",
       "      <td>21</td>\n",
       "    </tr>\n",
       "    <tr>\n",
       "      <th>10014</th>\n",
       "      <td>False</td>\n",
       "      <td>22</td>\n",
       "    </tr>\n",
       "    <tr>\n",
       "      <th>8</th>\n",
       "      <td>True</td>\n",
       "      <td>23</td>\n",
       "    </tr>\n",
       "    <tr>\n",
       "      <th>10015</th>\n",
       "      <td>False</td>\n",
       "      <td>24</td>\n",
       "    </tr>\n",
       "    <tr>\n",
       "      <th>10016</th>\n",
       "      <td>False</td>\n",
       "      <td>25</td>\n",
       "    </tr>\n",
       "    <tr>\n",
       "      <th>10017</th>\n",
       "      <td>False</td>\n",
       "      <td>26</td>\n",
       "    </tr>\n",
       "    <tr>\n",
       "      <th>10018</th>\n",
       "      <td>False</td>\n",
       "      <td>27</td>\n",
       "    </tr>\n",
       "    <tr>\n",
       "      <th>10019</th>\n",
       "      <td>False</td>\n",
       "      <td>28</td>\n",
       "    </tr>\n",
       "    <tr>\n",
       "      <th>9</th>\n",
       "      <td>True</td>\n",
       "      <td>29</td>\n",
       "    </tr>\n",
       "    <tr>\n",
       "      <th>...</th>\n",
       "      <td>...</td>\n",
       "      <td>...</td>\n",
       "    </tr>\n",
       "    <tr>\n",
       "      <th>104706</th>\n",
       "      <td>False</td>\n",
       "      <td>104700</td>\n",
       "    </tr>\n",
       "    <tr>\n",
       "      <th>9994</th>\n",
       "      <td>True</td>\n",
       "      <td>104701</td>\n",
       "    </tr>\n",
       "    <tr>\n",
       "      <th>104707</th>\n",
       "      <td>False</td>\n",
       "      <td>104702</td>\n",
       "    </tr>\n",
       "    <tr>\n",
       "      <th>104708</th>\n",
       "      <td>False</td>\n",
       "      <td>104703</td>\n",
       "    </tr>\n",
       "    <tr>\n",
       "      <th>104709</th>\n",
       "      <td>False</td>\n",
       "      <td>104704</td>\n",
       "    </tr>\n",
       "    <tr>\n",
       "      <th>104710</th>\n",
       "      <td>False</td>\n",
       "      <td>104705</td>\n",
       "    </tr>\n",
       "    <tr>\n",
       "      <th>104711</th>\n",
       "      <td>False</td>\n",
       "      <td>104706</td>\n",
       "    </tr>\n",
       "    <tr>\n",
       "      <th>9995</th>\n",
       "      <td>True</td>\n",
       "      <td>104707</td>\n",
       "    </tr>\n",
       "    <tr>\n",
       "      <th>104712</th>\n",
       "      <td>False</td>\n",
       "      <td>104708</td>\n",
       "    </tr>\n",
       "    <tr>\n",
       "      <th>104713</th>\n",
       "      <td>False</td>\n",
       "      <td>104709</td>\n",
       "    </tr>\n",
       "    <tr>\n",
       "      <th>104714</th>\n",
       "      <td>False</td>\n",
       "      <td>104710</td>\n",
       "    </tr>\n",
       "    <tr>\n",
       "      <th>9996</th>\n",
       "      <td>True</td>\n",
       "      <td>104711</td>\n",
       "    </tr>\n",
       "    <tr>\n",
       "      <th>104715</th>\n",
       "      <td>False</td>\n",
       "      <td>104712</td>\n",
       "    </tr>\n",
       "    <tr>\n",
       "      <th>104716</th>\n",
       "      <td>False</td>\n",
       "      <td>104713</td>\n",
       "    </tr>\n",
       "    <tr>\n",
       "      <th>104717</th>\n",
       "      <td>False</td>\n",
       "      <td>104714</td>\n",
       "    </tr>\n",
       "    <tr>\n",
       "      <th>104718</th>\n",
       "      <td>False</td>\n",
       "      <td>104715</td>\n",
       "    </tr>\n",
       "    <tr>\n",
       "      <th>104719</th>\n",
       "      <td>False</td>\n",
       "      <td>104716</td>\n",
       "    </tr>\n",
       "    <tr>\n",
       "      <th>9997</th>\n",
       "      <td>True</td>\n",
       "      <td>104717</td>\n",
       "    </tr>\n",
       "    <tr>\n",
       "      <th>104720</th>\n",
       "      <td>False</td>\n",
       "      <td>104718</td>\n",
       "    </tr>\n",
       "    <tr>\n",
       "      <th>104721</th>\n",
       "      <td>False</td>\n",
       "      <td>104719</td>\n",
       "    </tr>\n",
       "    <tr>\n",
       "      <th>104722</th>\n",
       "      <td>False</td>\n",
       "      <td>104720</td>\n",
       "    </tr>\n",
       "    <tr>\n",
       "      <th>104723</th>\n",
       "      <td>False</td>\n",
       "      <td>104721</td>\n",
       "    </tr>\n",
       "    <tr>\n",
       "      <th>104724</th>\n",
       "      <td>False</td>\n",
       "      <td>104722</td>\n",
       "    </tr>\n",
       "    <tr>\n",
       "      <th>9998</th>\n",
       "      <td>True</td>\n",
       "      <td>104723</td>\n",
       "    </tr>\n",
       "    <tr>\n",
       "      <th>104725</th>\n",
       "      <td>False</td>\n",
       "      <td>104724</td>\n",
       "    </tr>\n",
       "    <tr>\n",
       "      <th>104726</th>\n",
       "      <td>False</td>\n",
       "      <td>104725</td>\n",
       "    </tr>\n",
       "    <tr>\n",
       "      <th>104727</th>\n",
       "      <td>False</td>\n",
       "      <td>104726</td>\n",
       "    </tr>\n",
       "    <tr>\n",
       "      <th>104728</th>\n",
       "      <td>False</td>\n",
       "      <td>104727</td>\n",
       "    </tr>\n",
       "    <tr>\n",
       "      <th>104729</th>\n",
       "      <td>False</td>\n",
       "      <td>104728</td>\n",
       "    </tr>\n",
       "    <tr>\n",
       "      <th>9999</th>\n",
       "      <td>True</td>\n",
       "      <td>104729</td>\n",
       "    </tr>\n",
       "  </tbody>\n",
       "</table>\n",
       "<p>104730 rows × 2 columns</p>\n",
       "</div>"
      ],
      "text/plain": [
       "        labels  values\n",
       "10000    False       0\n",
       "10001    False       1\n",
       "0         True       2\n",
       "1         True       3\n",
       "10002    False       4\n",
       "2         True       5\n",
       "10003    False       6\n",
       "3         True       7\n",
       "10004    False       8\n",
       "10005    False       9\n",
       "10006    False      10\n",
       "4         True      11\n",
       "10007    False      12\n",
       "5         True      13\n",
       "10008    False      14\n",
       "10009    False      15\n",
       "10010    False      16\n",
       "6         True      17\n",
       "10011    False      18\n",
       "7         True      19\n",
       "10012    False      20\n",
       "10013    False      21\n",
       "10014    False      22\n",
       "8         True      23\n",
       "10015    False      24\n",
       "10016    False      25\n",
       "10017    False      26\n",
       "10018    False      27\n",
       "10019    False      28\n",
       "9         True      29\n",
       "...        ...     ...\n",
       "104706   False  104700\n",
       "9994      True  104701\n",
       "104707   False  104702\n",
       "104708   False  104703\n",
       "104709   False  104704\n",
       "104710   False  104705\n",
       "104711   False  104706\n",
       "9995      True  104707\n",
       "104712   False  104708\n",
       "104713   False  104709\n",
       "104714   False  104710\n",
       "9996      True  104711\n",
       "104715   False  104712\n",
       "104716   False  104713\n",
       "104717   False  104714\n",
       "104718   False  104715\n",
       "104719   False  104716\n",
       "9997      True  104717\n",
       "104720   False  104718\n",
       "104721   False  104719\n",
       "104722   False  104720\n",
       "104723   False  104721\n",
       "104724   False  104722\n",
       "9998      True  104723\n",
       "104725   False  104724\n",
       "104726   False  104725\n",
       "104727   False  104726\n",
       "104728   False  104727\n",
       "104729   False  104728\n",
       "9999      True  104729\n",
       "\n",
       "[104730 rows x 2 columns]"
      ]
     },
     "execution_count": 624,
     "metadata": {},
     "output_type": "execute_result"
    }
   ],
   "source": [
    "data_frame.sort_values([\"values\"], ascending=[True])"
   ]
  },
  {
   "cell_type": "code",
   "execution_count": 625,
   "metadata": {},
   "outputs": [
    {
     "data": {
      "text/plain": [
       "<matplotlib.axes._subplots.AxesSubplot at 0x7fdd23c0f710>"
      ]
     },
     "execution_count": 625,
     "metadata": {},
     "output_type": "execute_result"
    },
    {
     "data": {
      "image/png": "[encoded data removed]",
      "text/plain": [
       "<matplotlib.figure.Figure at 0x7fdd02d7cda0>"
      ]
     },
     "metadata": {},
     "output_type": "display_data"
    }
   ],
   "source": [
    "data_frame.plot(kind=\"scatter\", x=\"values\", y=\"values\", alpha=0.8, s=data_frame[\"labels\"]/data_frame[\"values\"], label=\"prime\")"
   ]
  },
  {
   "cell_type": "code",
   "execution_count": 626,
   "metadata": {},
   "outputs": [
    {
     "data": {
      "text/plain": [
       "MLPClassifier(activation='relu', alpha=1e-05, batch_size='auto', beta_1=0.9,\n",
       "       beta_2=0.999, early_stopping=False, epsilon=1e-08,\n",
       "       hidden_layer_sizes=(24, 18, 12, 6), learning_rate='constant',\n",
       "       learning_rate_init=0.001, max_iter=200, momentum=0.9,\n",
       "       nesterovs_momentum=True, power_t=0.5, random_state=42, shuffle=True,\n",
       "       solver='lbfgs', tol=0.0001, validation_fraction=0.1, verbose=False,\n",
       "       warm_start=False)"
      ]
     },
     "execution_count": 626,
     "metadata": {},
     "output_type": "execute_result"
    }
   ],
   "source": [
    "from sklearn.neural_network import MLPClassifier\n",
    "\n",
    "nn_clf = MLPClassifier(solver='lbfgs', alpha=1e-5, hidden_layer_sizes=(24, 18, 12, 6), random_state=42)\n",
    "nn_clf.fit(X_train, y_train)"
   ]
  },
  {
   "cell_type": "code",
   "execution_count": 627,
   "metadata": {},
   "outputs": [
    {
     "data": {
      "text/plain": [
       "array([[7182,    0],\n",
       "       [ 818,    0]])"
      ]
     },
     "execution_count": 627,
     "metadata": {},
     "output_type": "execute_result"
    }
   ],
   "source": [
    "y_train_pred = cross_val_predict(nn_clf, X_train, y_train, cv=3)\n",
    "\n",
    "confusion_matrix(y_train, y_train_pred)"
   ]
  },
  {
   "cell_type": "code",
   "execution_count": null,
   "metadata": {
    "collapsed": true
   },
   "outputs": [],
   "source": []
  }
 ],
 "metadata": {
  "kernelspec": {
   "display_name": "Python 3",
   "language": "python",
   "name": "python3"
  },
  "language_info": {
   "codemirror_mode": {
    "name": "ipython",
    "version": 3
   },
   "file_extension": ".py",
   "mimetype": "text/x-python",
   "name": "python",
   "nbconvert_exporter": "python",
   "pygments_lexer": "ipython3",
   "version": "3.6.1"
  }
 },
 "nbformat": 4,
 "nbformat_minor": 2
}
